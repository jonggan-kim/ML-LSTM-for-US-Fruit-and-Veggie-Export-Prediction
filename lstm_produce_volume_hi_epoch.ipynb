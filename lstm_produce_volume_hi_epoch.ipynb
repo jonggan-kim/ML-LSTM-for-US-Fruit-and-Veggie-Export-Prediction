{
 "cells": [
  {
   "cell_type": "code",
   "execution_count": 1,
   "metadata": {},
   "outputs": [
    {
     "name": "stderr",
     "output_type": "stream",
     "text": [
      "Using TensorFlow backend.\n"
     ]
    }
   ],
   "source": [
    "%matplotlib inline\n",
    "from matplotlib import style\n",
    "style.use('fivethirtyeight')\n",
    "import matplotlib.pyplot as plt\n",
    "import seaborn as sns\n",
    "import tensorflow.keras\n",
    "from keras.models import Sequential\n",
    "from keras.utils import to_categorical\n",
    "from keras.optimizers import SGD \n",
    "from keras.callbacks import EarlyStopping\n",
    "from keras.utils import np_utils\n",
    "import itertools\n",
    "from keras.layers.convolutional import Conv1D\n",
    "from keras.layers.convolutional import MaxPooling1D\n",
    "from keras.layers import Dense, Dropout, LSTM, Activation\n",
    "from pandas import Series\n",
    "from sklearn.preprocessing import MinMaxScaler\n",
    "from tensorflow.keras import backend\n",
    "\n",
    "# from tensorflow.python.framework import ops\n",
    "# ops.reset_default_graph()\n",
    "\n",
    "# tensorflow version and keras version matters for compatability (latest versions not working together tensorflow 2.0 and keras 2.2.4)\n",
    "# error message - AttributeError: module 'tensorflow' has no attribute 'get_default_graph'\n",
    "# tensorflow 1.13.1 and keras 2.2.4 worked below"
   ]
  },
  {
   "cell_type": "code",
   "execution_count": 2,
   "metadata": {},
   "outputs": [],
   "source": [
    "import numpy as np\n",
    "import pandas as pd\n",
    "from collections import defaultdict"
   ]
  },
  {
   "cell_type": "code",
   "execution_count": 3,
   "metadata": {},
   "outputs": [],
   "source": [
    "import datetime as dt\n",
    "from dateutil.relativedelta import relativedelta"
   ]
  },
  {
   "cell_type": "code",
   "execution_count": 4,
   "metadata": {},
   "outputs": [],
   "source": [
    "# Python SQL toolkit and Object Relational Mapper\n",
    "import sqlalchemy\n",
    "from sqlalchemy.ext.automap import automap_base\n",
    "from sqlalchemy.orm import Session\n",
    "from sqlalchemy import create_engine, func, inspect\n",
    "from sqlalchemy import desc"
   ]
  },
  {
   "cell_type": "code",
   "execution_count": 5,
   "metadata": {},
   "outputs": [],
   "source": [
    "engine = create_engine(\"sqlite:///db/Veggie_Fruit_DB.sqlite\")"
   ]
  },
  {
   "cell_type": "code",
   "execution_count": 6,
   "metadata": {},
   "outputs": [],
   "source": [
    "# reflect an existing database into a new model\n",
    "Base = automap_base()\n",
    "# reflect the tables\n",
    "Base.prepare(engine, reflect=True)"
   ]
  },
  {
   "cell_type": "code",
   "execution_count": 7,
   "metadata": {},
   "outputs": [
    {
     "data": {
      "text/plain": [
       "['fruitexportdest',\n",
       " 'fruitexportval',\n",
       " 'fruitimportsource',\n",
       " 'fruitimportval',\n",
       " 'veggieexportdest',\n",
       " 'veggieexportval',\n",
       " 'veggieimportsource',\n",
       " 'veggieimportval']"
      ]
     },
     "execution_count": 7,
     "metadata": {},
     "output_type": "execute_result"
    }
   ],
   "source": [
    "# We can view all of the classes that automap found\n",
    "Base.classes.keys()"
   ]
  },
  {
   "cell_type": "code",
   "execution_count": 8,
   "metadata": {},
   "outputs": [
    {
     "data": {
      "text/plain": [
       "['fruitexportdest',\n",
       " 'fruitexportval',\n",
       " 'fruitimportsource',\n",
       " 'fruitimportval',\n",
       " 'veggieexportdest',\n",
       " 'veggieexportval',\n",
       " 'veggieimportsource',\n",
       " 'veggieimportval']"
      ]
     },
     "execution_count": 8,
     "metadata": {},
     "output_type": "execute_result"
    }
   ],
   "source": [
    "inspector=inspect(engine)\n",
    "inspector.get_table_names()"
   ]
  },
  {
   "cell_type": "code",
   "execution_count": 9,
   "metadata": {},
   "outputs": [
    {
     "name": "stdout",
     "output_type": "stream",
     "text": [
      "id\n",
      "product\n",
      "flow\n",
      "mktyr\n",
      "avg\n",
      "jan\n",
      "feb\n",
      "mar\n",
      "apr\n",
      "may\n",
      "jun\n",
      "jul\n",
      "aug\n",
      "sep\n",
      "oct\n",
      "nov\n",
      "dec\n"
     ]
    }
   ],
   "source": [
    "measurement_columns = inspector.get_columns('fruitexportval')\n",
    "for c in measurement_columns:\n",
    "    print(c['name'])"
   ]
  },
  {
   "cell_type": "code",
   "execution_count": 10,
   "metadata": {},
   "outputs": [],
   "source": [
    "# Save references to each table\n",
    "# FED = FruistExportDestination, FEV =FruitExportValue, FIS =FruitImportSource,FIV=FruitImportValue\n",
    "# VED =VeggieExportDestination, VEV=VeggieExportValue, VIS=VeggieImportSource, VIV=VeggieImportValue\n",
    "FED = Base.classes.fruitexportdest\n",
    "FEV = Base.classes.fruitexportval\n",
    "FIS = Base.classes.fruitimportsource\n",
    "FIV = Base.classes.fruitimportval\n",
    "VED = Base.classes.veggieexportdest\n",
    "VEV = Base.classes.veggieexportval\n",
    "VIS = Base.classes.veggieimportsource\n",
    "VIV = Base.classes.veggieimportval\n"
   ]
  },
  {
   "cell_type": "code",
   "execution_count": 11,
   "metadata": {},
   "outputs": [],
   "source": [
    "# Create our session (link) from Python to the DB\n",
    "session = Session(engine)"
   ]
  },
  {
   "cell_type": "code",
   "execution_count": 12,
   "metadata": {},
   "outputs": [],
   "source": [
    "fev_summary = session.query(FEV.product,FEV.mktyr,FEV.jan,FEV.feb,FEV.mar,FEV.apr,FEV.may,FEV.jun,FEV.jul,FEV.aug,FEV.sep,FEV.oct,FEV.nov,FEV.dec).order_by(FEV.product.asc()).all()\n",
    "fev_df = pd.DataFrame(fev_summary, columns=['product', 'mktyr', 'jan','feb','mar','apr','may','jun','jul','aug','sep','oct','nov','dec'])\n"
   ]
  },
  {
   "cell_type": "code",
   "execution_count": 13,
   "metadata": {},
   "outputs": [
    {
     "data": {
      "text/html": [
       "<div>\n",
       "<style scoped>\n",
       "    .dataframe tbody tr th:only-of-type {\n",
       "        vertical-align: middle;\n",
       "    }\n",
       "\n",
       "    .dataframe tbody tr th {\n",
       "        vertical-align: top;\n",
       "    }\n",
       "\n",
       "    .dataframe thead th {\n",
       "        text-align: right;\n",
       "    }\n",
       "</style>\n",
       "<table border=\"1\" class=\"dataframe\">\n",
       "  <thead>\n",
       "    <tr style=\"text-align: right;\">\n",
       "      <th></th>\n",
       "      <th>product</th>\n",
       "      <th>mktyr</th>\n",
       "      <th>jan</th>\n",
       "      <th>feb</th>\n",
       "      <th>mar</th>\n",
       "      <th>apr</th>\n",
       "      <th>may</th>\n",
       "      <th>jun</th>\n",
       "      <th>jul</th>\n",
       "      <th>aug</th>\n",
       "      <th>sep</th>\n",
       "      <th>oct</th>\n",
       "      <th>nov</th>\n",
       "      <th>dec</th>\n",
       "    </tr>\n",
       "  </thead>\n",
       "  <tbody>\n",
       "    <tr>\n",
       "      <th>0</th>\n",
       "      <td>Apple</td>\n",
       "      <td>2019.0</td>\n",
       "      <td>89,081</td>\n",
       "      <td>84,166</td>\n",
       "      <td>92,180</td>\n",
       "      <td>0</td>\n",
       "      <td>0</td>\n",
       "      <td>0</td>\n",
       "      <td>0</td>\n",
       "      <td>0</td>\n",
       "      <td>0</td>\n",
       "      <td>0</td>\n",
       "      <td>0</td>\n",
       "      <td>0</td>\n",
       "    </tr>\n",
       "    <tr>\n",
       "      <th>1</th>\n",
       "      <td>Apple</td>\n",
       "      <td>2018.0</td>\n",
       "      <td>113,635</td>\n",
       "      <td>99,632</td>\n",
       "      <td>117,936</td>\n",
       "      <td>101,534</td>\n",
       "      <td>108,920</td>\n",
       "      <td>82,645</td>\n",
       "      <td>53,459</td>\n",
       "      <td>51,337</td>\n",
       "      <td>48,029</td>\n",
       "      <td>61,213</td>\n",
       "      <td>89,904</td>\n",
       "      <td>80,895</td>\n",
       "    </tr>\n",
       "    <tr>\n",
       "      <th>2</th>\n",
       "      <td>Apple</td>\n",
       "      <td>2017.0</td>\n",
       "      <td>84,874</td>\n",
       "      <td>87,895</td>\n",
       "      <td>95,203</td>\n",
       "      <td>74,945</td>\n",
       "      <td>82,806</td>\n",
       "      <td>76,525</td>\n",
       "      <td>56,665</td>\n",
       "      <td>53,621</td>\n",
       "      <td>55,600</td>\n",
       "      <td>75,074</td>\n",
       "      <td>127,769</td>\n",
       "      <td>98,522</td>\n",
       "    </tr>\n",
       "    <tr>\n",
       "      <th>3</th>\n",
       "      <td>Apple</td>\n",
       "      <td>2016.0</td>\n",
       "      <td>80,501</td>\n",
       "      <td>87,112</td>\n",
       "      <td>84,530</td>\n",
       "      <td>77,437</td>\n",
       "      <td>76,002</td>\n",
       "      <td>62,334</td>\n",
       "      <td>52,341</td>\n",
       "      <td>56,738</td>\n",
       "      <td>53,495</td>\n",
       "      <td>80,845</td>\n",
       "      <td>108,754</td>\n",
       "      <td>100,586</td>\n",
       "    </tr>\n",
       "    <tr>\n",
       "      <th>4</th>\n",
       "      <td>Apple</td>\n",
       "      <td>2015.0</td>\n",
       "      <td>111,979</td>\n",
       "      <td>83,135</td>\n",
       "      <td>101,106</td>\n",
       "      <td>90,883</td>\n",
       "      <td>99,848</td>\n",
       "      <td>71,933</td>\n",
       "      <td>69,759</td>\n",
       "      <td>67,186</td>\n",
       "      <td>59,125</td>\n",
       "      <td>81,440</td>\n",
       "      <td>99,990</td>\n",
       "      <td>82,272</td>\n",
       "    </tr>\n",
       "  </tbody>\n",
       "</table>\n",
       "</div>"
      ],
      "text/plain": [
       "  product   mktyr      jan     feb      mar      apr      may     jun     jul  \\\n",
       "0   Apple  2019.0   89,081  84,166   92,180        0        0       0       0   \n",
       "1   Apple  2018.0  113,635  99,632  117,936  101,534  108,920  82,645  53,459   \n",
       "2   Apple  2017.0   84,874  87,895   95,203   74,945   82,806  76,525  56,665   \n",
       "3   Apple  2016.0   80,501  87,112   84,530   77,437   76,002  62,334  52,341   \n",
       "4   Apple  2015.0  111,979  83,135  101,106   90,883   99,848  71,933  69,759   \n",
       "\n",
       "      aug     sep     oct      nov      dec  \n",
       "0       0       0       0        0        0  \n",
       "1  51,337  48,029  61,213   89,904   80,895  \n",
       "2  53,621  55,600  75,074  127,769   98,522  \n",
       "3  56,738  53,495  80,845  108,754  100,586  \n",
       "4  67,186  59,125  81,440   99,990   82,272  "
      ]
     },
     "execution_count": 13,
     "metadata": {},
     "output_type": "execute_result"
    }
   ],
   "source": [
    "fev_df.head()"
   ]
  },
  {
   "cell_type": "code",
   "execution_count": 14,
   "metadata": {},
   "outputs": [],
   "source": [
    "fev_df['jan'] = fev_df['jan'].str.replace(',', '')\n",
    "fev_df['feb'] = fev_df['feb'].str.replace(',', '')\n",
    "fev_df['mar'] = fev_df['mar'].str.replace(',', '')\n",
    "fev_df['apr'] = fev_df['apr'].str.replace(',', '')\n",
    "fev_df['may'] = fev_df['may'].str.replace(',', '')\n",
    "fev_df['jun'] = fev_df['jun'].str.replace(',', '')\n",
    "fev_df['jul'] = fev_df['jul'].str.replace(',', '')\n",
    "fev_df['aug'] = fev_df['aug'].str.replace(',', '')\n",
    "fev_df['sep'] = fev_df['sep'].str.replace(',', '')\n",
    "fev_df['oct'] = fev_df['oct'].str.replace(',', '')\n",
    "fev_df['nov'] = fev_df['nov'].str.replace(',', '')\n",
    "fev_df['dec'] = fev_df['dec'].str.replace(',', '')\n"
   ]
  },
  {
   "cell_type": "code",
   "execution_count": 15,
   "metadata": {},
   "outputs": [],
   "source": [
    "fev_df=fev_df.dropna(how=\"any\")"
   ]
  },
  {
   "cell_type": "code",
   "execution_count": 16,
   "metadata": {},
   "outputs": [],
   "source": [
    "fev_df[\"jan\"] = pd.to_numeric(fev_df[\"jan\"])\n",
    "fev_df[\"feb\"] = pd.to_numeric(fev_df[\"feb\"])\n",
    "fev_df[\"mar\"] = pd.to_numeric(fev_df[\"mar\"])\n",
    "fev_df[\"apr\"] = pd.to_numeric(fev_df[\"apr\"])\n",
    "fev_df[\"may\"] = pd.to_numeric(fev_df[\"may\"])\n",
    "fev_df[\"jun\"] = pd.to_numeric(fev_df[\"jun\"])\n",
    "fev_df[\"jul\"] = pd.to_numeric(fev_df[\"jul\"])\n",
    "fev_df[\"aug\"] = pd.to_numeric(fev_df[\"aug\"])\n",
    "fev_df[\"sep\"] = pd.to_numeric(fev_df[\"sep\"])\n",
    "fev_df[\"oct\"] = pd.to_numeric(fev_df[\"oct\"])\n",
    "fev_df[\"nov\"] = pd.to_numeric(fev_df[\"nov\"])\n",
    "fev_df[\"dec\"] = pd.to_numeric(fev_df[\"dec\"])"
   ]
  },
  {
   "cell_type": "code",
   "execution_count": 17,
   "metadata": {},
   "outputs": [
    {
     "data": {
      "text/html": [
       "<div>\n",
       "<style scoped>\n",
       "    .dataframe tbody tr th:only-of-type {\n",
       "        vertical-align: middle;\n",
       "    }\n",
       "\n",
       "    .dataframe tbody tr th {\n",
       "        vertical-align: top;\n",
       "    }\n",
       "\n",
       "    .dataframe thead th {\n",
       "        text-align: right;\n",
       "    }\n",
       "</style>\n",
       "<table border=\"1\" class=\"dataframe\">\n",
       "  <thead>\n",
       "    <tr style=\"text-align: right;\">\n",
       "      <th></th>\n",
       "      <th>product</th>\n",
       "      <th>mktyr</th>\n",
       "      <th>jan</th>\n",
       "      <th>feb</th>\n",
       "      <th>mar</th>\n",
       "      <th>apr</th>\n",
       "      <th>may</th>\n",
       "      <th>jun</th>\n",
       "      <th>jul</th>\n",
       "      <th>aug</th>\n",
       "      <th>sep</th>\n",
       "      <th>oct</th>\n",
       "      <th>nov</th>\n",
       "      <th>dec</th>\n",
       "    </tr>\n",
       "  </thead>\n",
       "  <tbody>\n",
       "    <tr>\n",
       "      <th>83</th>\n",
       "      <td>Pears</td>\n",
       "      <td>2015.0</td>\n",
       "      <td>21505</td>\n",
       "      <td>15001</td>\n",
       "      <td>13644</td>\n",
       "      <td>10299</td>\n",
       "      <td>8132</td>\n",
       "      <td>7412</td>\n",
       "      <td>10160</td>\n",
       "      <td>10844</td>\n",
       "      <td>19248</td>\n",
       "      <td>25402</td>\n",
       "      <td>26682</td>\n",
       "      <td>19393</td>\n",
       "    </tr>\n",
       "    <tr>\n",
       "      <th>100</th>\n",
       "      <td>Strawberries</td>\n",
       "      <td>2018.0</td>\n",
       "      <td>17496</td>\n",
       "      <td>27533</td>\n",
       "      <td>24395</td>\n",
       "      <td>43220</td>\n",
       "      <td>59794</td>\n",
       "      <td>49719</td>\n",
       "      <td>40222</td>\n",
       "      <td>40303</td>\n",
       "      <td>42563</td>\n",
       "      <td>39983</td>\n",
       "      <td>27254</td>\n",
       "      <td>15318</td>\n",
       "    </tr>\n",
       "    <tr>\n",
       "      <th>101</th>\n",
       "      <td>Strawberries</td>\n",
       "      <td>2017.0</td>\n",
       "      <td>14249</td>\n",
       "      <td>18296</td>\n",
       "      <td>29821</td>\n",
       "      <td>40112</td>\n",
       "      <td>50452</td>\n",
       "      <td>52969</td>\n",
       "      <td>44915</td>\n",
       "      <td>40847</td>\n",
       "      <td>40378</td>\n",
       "      <td>37616</td>\n",
       "      <td>25847</td>\n",
       "      <td>21020</td>\n",
       "    </tr>\n",
       "    <tr>\n",
       "      <th>102</th>\n",
       "      <td>Strawberries</td>\n",
       "      <td>2016.0</td>\n",
       "      <td>11004</td>\n",
       "      <td>20414</td>\n",
       "      <td>35624</td>\n",
       "      <td>35771</td>\n",
       "      <td>60551</td>\n",
       "      <td>49340</td>\n",
       "      <td>41845</td>\n",
       "      <td>41045</td>\n",
       "      <td>43948</td>\n",
       "      <td>31276</td>\n",
       "      <td>18475</td>\n",
       "      <td>16889</td>\n",
       "    </tr>\n",
       "    <tr>\n",
       "      <th>103</th>\n",
       "      <td>Strawberries</td>\n",
       "      <td>2015.0</td>\n",
       "      <td>22901</td>\n",
       "      <td>29747</td>\n",
       "      <td>38022</td>\n",
       "      <td>36743</td>\n",
       "      <td>55606</td>\n",
       "      <td>47085</td>\n",
       "      <td>38872</td>\n",
       "      <td>34588</td>\n",
       "      <td>34556</td>\n",
       "      <td>28249</td>\n",
       "      <td>12974</td>\n",
       "      <td>15629</td>\n",
       "    </tr>\n",
       "  </tbody>\n",
       "</table>\n",
       "</div>"
      ],
      "text/plain": [
       "          product   mktyr    jan    feb    mar    apr    may    jun    jul  \\\n",
       "83          Pears  2015.0  21505  15001  13644  10299   8132   7412  10160   \n",
       "100  Strawberries  2018.0  17496  27533  24395  43220  59794  49719  40222   \n",
       "101  Strawberries  2017.0  14249  18296  29821  40112  50452  52969  44915   \n",
       "102  Strawberries  2016.0  11004  20414  35624  35771  60551  49340  41845   \n",
       "103  Strawberries  2015.0  22901  29747  38022  36743  55606  47085  38872   \n",
       "\n",
       "       aug    sep    oct    nov    dec  \n",
       "83   10844  19248  25402  26682  19393  \n",
       "100  40303  42563  39983  27254  15318  \n",
       "101  40847  40378  37616  25847  21020  \n",
       "102  41045  43948  31276  18475  16889  \n",
       "103  34588  34556  28249  12974  15629  "
      ]
     },
     "execution_count": 17,
     "metadata": {},
     "output_type": "execute_result"
    }
   ],
   "source": [
    "fev_df.tail()"
   ]
  },
  {
   "cell_type": "code",
   "execution_count": 18,
   "metadata": {},
   "outputs": [],
   "source": [
    "vev_summary = session.query(VEV.product,VEV.mktyr,VEV.jan,VEV.feb,VEV.mar,VEV.apr,VEV.may,VEV.jun,VEV.jul,VEV.aug,VEV.sep,VEV.oct,VEV.nov,VEV.dec).order_by(VEV.product.asc()).all()\n",
    "vev_df = pd.DataFrame(vev_summary, columns=['product', 'mktyr', 'jan','feb','mar','apr','may','jun','jul','aug','sep','oct','nov','dec'])\n"
   ]
  },
  {
   "cell_type": "code",
   "execution_count": 19,
   "metadata": {},
   "outputs": [
    {
     "data": {
      "text/html": [
       "<div>\n",
       "<style scoped>\n",
       "    .dataframe tbody tr th:only-of-type {\n",
       "        vertical-align: middle;\n",
       "    }\n",
       "\n",
       "    .dataframe tbody tr th {\n",
       "        vertical-align: top;\n",
       "    }\n",
       "\n",
       "    .dataframe thead th {\n",
       "        text-align: right;\n",
       "    }\n",
       "</style>\n",
       "<table border=\"1\" class=\"dataframe\">\n",
       "  <thead>\n",
       "    <tr style=\"text-align: right;\">\n",
       "      <th></th>\n",
       "      <th>product</th>\n",
       "      <th>mktyr</th>\n",
       "      <th>jan</th>\n",
       "      <th>feb</th>\n",
       "      <th>mar</th>\n",
       "      <th>apr</th>\n",
       "      <th>may</th>\n",
       "      <th>jun</th>\n",
       "      <th>jul</th>\n",
       "      <th>aug</th>\n",
       "      <th>sep</th>\n",
       "      <th>oct</th>\n",
       "      <th>nov</th>\n",
       "      <th>dec</th>\n",
       "    </tr>\n",
       "  </thead>\n",
       "  <tbody>\n",
       "    <tr>\n",
       "      <th>0</th>\n",
       "      <td>Artichoke</td>\n",
       "      <td>2019.0</td>\n",
       "      <td>265</td>\n",
       "      <td>330</td>\n",
       "      <td>246</td>\n",
       "      <td>0</td>\n",
       "      <td>0</td>\n",
       "      <td>0</td>\n",
       "      <td>0</td>\n",
       "      <td>0</td>\n",
       "      <td>0</td>\n",
       "      <td>0</td>\n",
       "      <td>0</td>\n",
       "      <td>0</td>\n",
       "    </tr>\n",
       "    <tr>\n",
       "      <th>1</th>\n",
       "      <td>Artichoke</td>\n",
       "      <td>2018.0</td>\n",
       "      <td>323</td>\n",
       "      <td>366</td>\n",
       "      <td>235</td>\n",
       "      <td>268</td>\n",
       "      <td>326</td>\n",
       "      <td>269</td>\n",
       "      <td>179</td>\n",
       "      <td>187</td>\n",
       "      <td>206</td>\n",
       "      <td>195</td>\n",
       "      <td>334</td>\n",
       "      <td>329</td>\n",
       "    </tr>\n",
       "    <tr>\n",
       "      <th>2</th>\n",
       "      <td>Artichoke</td>\n",
       "      <td>2017.0</td>\n",
       "      <td>258</td>\n",
       "      <td>293</td>\n",
       "      <td>287</td>\n",
       "      <td>262</td>\n",
       "      <td>301</td>\n",
       "      <td>339</td>\n",
       "      <td>257</td>\n",
       "      <td>220</td>\n",
       "      <td>262</td>\n",
       "      <td>399</td>\n",
       "      <td>230</td>\n",
       "      <td>443</td>\n",
       "    </tr>\n",
       "    <tr>\n",
       "      <th>3</th>\n",
       "      <td>Artichoke</td>\n",
       "      <td>2016.0</td>\n",
       "      <td>122</td>\n",
       "      <td>230</td>\n",
       "      <td>295</td>\n",
       "      <td>449</td>\n",
       "      <td>182</td>\n",
       "      <td>306</td>\n",
       "      <td>262</td>\n",
       "      <td>167</td>\n",
       "      <td>269</td>\n",
       "      <td>296</td>\n",
       "      <td>332</td>\n",
       "      <td>391</td>\n",
       "    </tr>\n",
       "    <tr>\n",
       "      <th>4</th>\n",
       "      <td>Artichoke</td>\n",
       "      <td>2015.0</td>\n",
       "      <td>231</td>\n",
       "      <td>373</td>\n",
       "      <td>352</td>\n",
       "      <td>332</td>\n",
       "      <td>320</td>\n",
       "      <td>260</td>\n",
       "      <td>292</td>\n",
       "      <td>216</td>\n",
       "      <td>134</td>\n",
       "      <td>206</td>\n",
       "      <td>230</td>\n",
       "      <td>197</td>\n",
       "    </tr>\n",
       "  </tbody>\n",
       "</table>\n",
       "</div>"
      ],
      "text/plain": [
       "     product   mktyr  jan  feb  mar  apr  may  jun  jul  aug  sep  oct  nov  \\\n",
       "0  Artichoke  2019.0  265  330  246    0    0    0    0    0    0    0    0   \n",
       "1  Artichoke  2018.0  323  366  235  268  326  269  179  187  206  195  334   \n",
       "2  Artichoke  2017.0  258  293  287  262  301  339  257  220  262  399  230   \n",
       "3  Artichoke  2016.0  122  230  295  449  182  306  262  167  269  296  332   \n",
       "4  Artichoke  2015.0  231  373  352  332  320  260  292  216  134  206  230   \n",
       "\n",
       "   dec  \n",
       "0    0  \n",
       "1  329  \n",
       "2  443  \n",
       "3  391  \n",
       "4  197  "
      ]
     },
     "execution_count": 19,
     "metadata": {},
     "output_type": "execute_result"
    }
   ],
   "source": [
    "vev_df.head()"
   ]
  },
  {
   "cell_type": "code",
   "execution_count": 20,
   "metadata": {},
   "outputs": [],
   "source": [
    "vev_df['jan'] = vev_df['jan'].str.replace(',', '')\n",
    "vev_df['feb'] = vev_df['feb'].str.replace(',', '')\n",
    "vev_df['mar'] = vev_df['mar'].str.replace(',', '')\n",
    "vev_df['apr'] = vev_df['apr'].str.replace(',', '')\n",
    "vev_df['may'] = vev_df['may'].str.replace(',', '')\n",
    "vev_df['jun'] = vev_df['jun'].str.replace(',', '')\n",
    "vev_df['jul'] = vev_df['jul'].str.replace(',', '')\n",
    "vev_df['aug'] = vev_df['aug'].str.replace(',', '')\n",
    "vev_df['sep'] = vev_df['sep'].str.replace(',', '')\n",
    "vev_df['oct'] = vev_df['oct'].str.replace(',', '')\n",
    "vev_df['nov'] = vev_df['nov'].str.replace(',', '')\n",
    "vev_df['dec'] = vev_df['dec'].str.replace(',', '')"
   ]
  },
  {
   "cell_type": "code",
   "execution_count": 21,
   "metadata": {},
   "outputs": [],
   "source": [
    "vev_df=vev_df.dropna(how=\"any\")"
   ]
  },
  {
   "cell_type": "code",
   "execution_count": 22,
   "metadata": {},
   "outputs": [],
   "source": [
    "vev_df[\"jan\"] = pd.to_numeric(vev_df[\"jan\"])\n",
    "vev_df[\"feb\"] = pd.to_numeric(vev_df[\"feb\"])\n",
    "vev_df[\"mar\"] = pd.to_numeric(vev_df[\"mar\"])\n",
    "vev_df[\"apr\"] = pd.to_numeric(vev_df[\"apr\"])\n",
    "vev_df[\"may\"] = pd.to_numeric(vev_df[\"may\"])\n",
    "vev_df[\"jun\"] = pd.to_numeric(vev_df[\"jun\"])\n",
    "vev_df[\"jul\"] = pd.to_numeric(vev_df[\"jul\"])\n",
    "vev_df[\"aug\"] = pd.to_numeric(vev_df[\"aug\"])\n",
    "vev_df[\"sep\"] = pd.to_numeric(vev_df[\"sep\"])\n",
    "vev_df[\"oct\"] = pd.to_numeric(vev_df[\"oct\"])\n",
    "vev_df[\"nov\"] = pd.to_numeric(vev_df[\"nov\"])\n",
    "vev_df[\"dec\"] = pd.to_numeric(vev_df[\"dec\"])"
   ]
  },
  {
   "cell_type": "code",
   "execution_count": 23,
   "metadata": {},
   "outputs": [
    {
     "data": {
      "text/html": [
       "<div>\n",
       "<style scoped>\n",
       "    .dataframe tbody tr th:only-of-type {\n",
       "        vertical-align: middle;\n",
       "    }\n",
       "\n",
       "    .dataframe tbody tr th {\n",
       "        vertical-align: top;\n",
       "    }\n",
       "\n",
       "    .dataframe thead th {\n",
       "        text-align: right;\n",
       "    }\n",
       "</style>\n",
       "<table border=\"1\" class=\"dataframe\">\n",
       "  <thead>\n",
       "    <tr style=\"text-align: right;\">\n",
       "      <th></th>\n",
       "      <th>product</th>\n",
       "      <th>mktyr</th>\n",
       "      <th>jan</th>\n",
       "      <th>feb</th>\n",
       "      <th>mar</th>\n",
       "      <th>apr</th>\n",
       "      <th>may</th>\n",
       "      <th>jun</th>\n",
       "      <th>jul</th>\n",
       "      <th>aug</th>\n",
       "      <th>sep</th>\n",
       "      <th>oct</th>\n",
       "      <th>nov</th>\n",
       "      <th>dec</th>\n",
       "    </tr>\n",
       "  </thead>\n",
       "  <tbody>\n",
       "    <tr>\n",
       "      <th>11</th>\n",
       "      <td>Broccoli</td>\n",
       "      <td>2018.0</td>\n",
       "      <td>9423</td>\n",
       "      <td>8442</td>\n",
       "      <td>9187</td>\n",
       "      <td>10525</td>\n",
       "      <td>9467</td>\n",
       "      <td>9664</td>\n",
       "      <td>6865</td>\n",
       "      <td>6891</td>\n",
       "      <td>8128</td>\n",
       "      <td>8400</td>\n",
       "      <td>8584</td>\n",
       "      <td>9157</td>\n",
       "    </tr>\n",
       "    <tr>\n",
       "      <th>12</th>\n",
       "      <td>Broccoli</td>\n",
       "      <td>2017.0</td>\n",
       "      <td>8472</td>\n",
       "      <td>8197</td>\n",
       "      <td>8164</td>\n",
       "      <td>8933</td>\n",
       "      <td>9908</td>\n",
       "      <td>10528</td>\n",
       "      <td>7474</td>\n",
       "      <td>6586</td>\n",
       "      <td>5626</td>\n",
       "      <td>5586</td>\n",
       "      <td>9204</td>\n",
       "      <td>9472</td>\n",
       "    </tr>\n",
       "    <tr>\n",
       "      <th>13</th>\n",
       "      <td>Broccoli</td>\n",
       "      <td>2016.0</td>\n",
       "      <td>11011</td>\n",
       "      <td>8768</td>\n",
       "      <td>11019</td>\n",
       "      <td>13129</td>\n",
       "      <td>11740</td>\n",
       "      <td>10830</td>\n",
       "      <td>7156</td>\n",
       "      <td>7584</td>\n",
       "      <td>9029</td>\n",
       "      <td>10145</td>\n",
       "      <td>10362</td>\n",
       "      <td>8889</td>\n",
       "    </tr>\n",
       "    <tr>\n",
       "      <th>14</th>\n",
       "      <td>Broccoli</td>\n",
       "      <td>2015.0</td>\n",
       "      <td>10521</td>\n",
       "      <td>9769</td>\n",
       "      <td>10227</td>\n",
       "      <td>13467</td>\n",
       "      <td>13274</td>\n",
       "      <td>11550</td>\n",
       "      <td>8444</td>\n",
       "      <td>7708</td>\n",
       "      <td>8022</td>\n",
       "      <td>8552</td>\n",
       "      <td>8111</td>\n",
       "      <td>10317</td>\n",
       "    </tr>\n",
       "    <tr>\n",
       "      <th>16</th>\n",
       "      <td>Carrot</td>\n",
       "      <td>2018.0</td>\n",
       "      <td>7376</td>\n",
       "      <td>6403</td>\n",
       "      <td>9282</td>\n",
       "      <td>9089</td>\n",
       "      <td>9372</td>\n",
       "      <td>8738</td>\n",
       "      <td>6227</td>\n",
       "      <td>3320</td>\n",
       "      <td>2755</td>\n",
       "      <td>2982</td>\n",
       "      <td>4839</td>\n",
       "      <td>7347</td>\n",
       "    </tr>\n",
       "  </tbody>\n",
       "</table>\n",
       "</div>"
      ],
      "text/plain": [
       "     product   mktyr    jan   feb    mar    apr    may    jun   jul   aug  \\\n",
       "11  Broccoli  2018.0   9423  8442   9187  10525   9467   9664  6865  6891   \n",
       "12  Broccoli  2017.0   8472  8197   8164   8933   9908  10528  7474  6586   \n",
       "13  Broccoli  2016.0  11011  8768  11019  13129  11740  10830  7156  7584   \n",
       "14  Broccoli  2015.0  10521  9769  10227  13467  13274  11550  8444  7708   \n",
       "16    Carrot  2018.0   7376  6403   9282   9089   9372   8738  6227  3320   \n",
       "\n",
       "     sep    oct    nov    dec  \n",
       "11  8128   8400   8584   9157  \n",
       "12  5626   5586   9204   9472  \n",
       "13  9029  10145  10362   8889  \n",
       "14  8022   8552   8111  10317  \n",
       "16  2755   2982   4839   7347  "
      ]
     },
     "execution_count": 23,
     "metadata": {},
     "output_type": "execute_result"
    }
   ],
   "source": [
    "vev_df.head()"
   ]
  },
  {
   "cell_type": "code",
   "execution_count": 24,
   "metadata": {},
   "outputs": [],
   "source": [
    "e_frames = [vev_df, fev_df]\n",
    "export_all = pd.concat(e_frames,ignore_index=False)"
   ]
  },
  {
   "cell_type": "code",
   "execution_count": 25,
   "metadata": {},
   "outputs": [
    {
     "data": {
      "text/html": [
       "<div>\n",
       "<style scoped>\n",
       "    .dataframe tbody tr th:only-of-type {\n",
       "        vertical-align: middle;\n",
       "    }\n",
       "\n",
       "    .dataframe tbody tr th {\n",
       "        vertical-align: top;\n",
       "    }\n",
       "\n",
       "    .dataframe thead th {\n",
       "        text-align: right;\n",
       "    }\n",
       "</style>\n",
       "<table border=\"1\" class=\"dataframe\">\n",
       "  <thead>\n",
       "    <tr style=\"text-align: right;\">\n",
       "      <th></th>\n",
       "      <th>product</th>\n",
       "      <th>mktyr</th>\n",
       "      <th>jan</th>\n",
       "      <th>feb</th>\n",
       "      <th>mar</th>\n",
       "      <th>apr</th>\n",
       "      <th>may</th>\n",
       "      <th>jun</th>\n",
       "      <th>jul</th>\n",
       "      <th>aug</th>\n",
       "      <th>sep</th>\n",
       "      <th>oct</th>\n",
       "      <th>nov</th>\n",
       "      <th>dec</th>\n",
       "    </tr>\n",
       "  </thead>\n",
       "  <tbody>\n",
       "    <tr>\n",
       "      <th>83</th>\n",
       "      <td>Pears</td>\n",
       "      <td>2015.0</td>\n",
       "      <td>21505</td>\n",
       "      <td>15001</td>\n",
       "      <td>13644</td>\n",
       "      <td>10299</td>\n",
       "      <td>8132</td>\n",
       "      <td>7412</td>\n",
       "      <td>10160</td>\n",
       "      <td>10844</td>\n",
       "      <td>19248</td>\n",
       "      <td>25402</td>\n",
       "      <td>26682</td>\n",
       "      <td>19393</td>\n",
       "    </tr>\n",
       "    <tr>\n",
       "      <th>100</th>\n",
       "      <td>Strawberries</td>\n",
       "      <td>2018.0</td>\n",
       "      <td>17496</td>\n",
       "      <td>27533</td>\n",
       "      <td>24395</td>\n",
       "      <td>43220</td>\n",
       "      <td>59794</td>\n",
       "      <td>49719</td>\n",
       "      <td>40222</td>\n",
       "      <td>40303</td>\n",
       "      <td>42563</td>\n",
       "      <td>39983</td>\n",
       "      <td>27254</td>\n",
       "      <td>15318</td>\n",
       "    </tr>\n",
       "    <tr>\n",
       "      <th>101</th>\n",
       "      <td>Strawberries</td>\n",
       "      <td>2017.0</td>\n",
       "      <td>14249</td>\n",
       "      <td>18296</td>\n",
       "      <td>29821</td>\n",
       "      <td>40112</td>\n",
       "      <td>50452</td>\n",
       "      <td>52969</td>\n",
       "      <td>44915</td>\n",
       "      <td>40847</td>\n",
       "      <td>40378</td>\n",
       "      <td>37616</td>\n",
       "      <td>25847</td>\n",
       "      <td>21020</td>\n",
       "    </tr>\n",
       "    <tr>\n",
       "      <th>102</th>\n",
       "      <td>Strawberries</td>\n",
       "      <td>2016.0</td>\n",
       "      <td>11004</td>\n",
       "      <td>20414</td>\n",
       "      <td>35624</td>\n",
       "      <td>35771</td>\n",
       "      <td>60551</td>\n",
       "      <td>49340</td>\n",
       "      <td>41845</td>\n",
       "      <td>41045</td>\n",
       "      <td>43948</td>\n",
       "      <td>31276</td>\n",
       "      <td>18475</td>\n",
       "      <td>16889</td>\n",
       "    </tr>\n",
       "    <tr>\n",
       "      <th>103</th>\n",
       "      <td>Strawberries</td>\n",
       "      <td>2015.0</td>\n",
       "      <td>22901</td>\n",
       "      <td>29747</td>\n",
       "      <td>38022</td>\n",
       "      <td>36743</td>\n",
       "      <td>55606</td>\n",
       "      <td>47085</td>\n",
       "      <td>38872</td>\n",
       "      <td>34588</td>\n",
       "      <td>34556</td>\n",
       "      <td>28249</td>\n",
       "      <td>12974</td>\n",
       "      <td>15629</td>\n",
       "    </tr>\n",
       "  </tbody>\n",
       "</table>\n",
       "</div>"
      ],
      "text/plain": [
       "          product   mktyr    jan    feb    mar    apr    may    jun    jul  \\\n",
       "83          Pears  2015.0  21505  15001  13644  10299   8132   7412  10160   \n",
       "100  Strawberries  2018.0  17496  27533  24395  43220  59794  49719  40222   \n",
       "101  Strawberries  2017.0  14249  18296  29821  40112  50452  52969  44915   \n",
       "102  Strawberries  2016.0  11004  20414  35624  35771  60551  49340  41845   \n",
       "103  Strawberries  2015.0  22901  29747  38022  36743  55606  47085  38872   \n",
       "\n",
       "       aug    sep    oct    nov    dec  \n",
       "83   10844  19248  25402  26682  19393  \n",
       "100  40303  42563  39983  27254  15318  \n",
       "101  40847  40378  37616  25847  21020  \n",
       "102  41045  43948  31276  18475  16889  \n",
       "103  34588  34556  28249  12974  15629  "
      ]
     },
     "execution_count": 25,
     "metadata": {},
     "output_type": "execute_result"
    }
   ],
   "source": [
    "export_all.tail()"
   ]
  },
  {
   "cell_type": "code",
   "execution_count": 26,
   "metadata": {},
   "outputs": [],
   "source": [
    "export_all[\"year_sum\"]=export_all[\"jan\"]+export_all[\"feb\"]+export_all[\"mar\"]+export_all[\"jan\"]+export_all[\"feb\"]+export_all[\"mar\"]+export_all[\"apr\"]+export_all[\"may\"]+export_all[\"jun\"]+export_all[\"jul\"]+export_all[\"aug\"]+export_all[\"sep\"]+export_all[\"oct\"]+export_all[\"nov\"]+export_all[\"dec\"]"
   ]
  },
  {
   "cell_type": "code",
   "execution_count": 27,
   "metadata": {},
   "outputs": [
    {
     "data": {
      "text/html": [
       "<div>\n",
       "<style scoped>\n",
       "    .dataframe tbody tr th:only-of-type {\n",
       "        vertical-align: middle;\n",
       "    }\n",
       "\n",
       "    .dataframe tbody tr th {\n",
       "        vertical-align: top;\n",
       "    }\n",
       "\n",
       "    .dataframe thead th {\n",
       "        text-align: right;\n",
       "    }\n",
       "</style>\n",
       "<table border=\"1\" class=\"dataframe\">\n",
       "  <thead>\n",
       "    <tr style=\"text-align: right;\">\n",
       "      <th></th>\n",
       "      <th>product</th>\n",
       "      <th>mktyr</th>\n",
       "      <th>jan</th>\n",
       "      <th>feb</th>\n",
       "      <th>mar</th>\n",
       "      <th>apr</th>\n",
       "      <th>may</th>\n",
       "      <th>jun</th>\n",
       "      <th>jul</th>\n",
       "      <th>aug</th>\n",
       "      <th>sep</th>\n",
       "      <th>oct</th>\n",
       "      <th>nov</th>\n",
       "      <th>dec</th>\n",
       "      <th>year_sum</th>\n",
       "    </tr>\n",
       "  </thead>\n",
       "  <tbody>\n",
       "    <tr>\n",
       "      <th>11</th>\n",
       "      <td>Broccoli</td>\n",
       "      <td>2018.0</td>\n",
       "      <td>9423</td>\n",
       "      <td>8442</td>\n",
       "      <td>9187</td>\n",
       "      <td>10525</td>\n",
       "      <td>9467</td>\n",
       "      <td>9664</td>\n",
       "      <td>6865</td>\n",
       "      <td>6891</td>\n",
       "      <td>8128</td>\n",
       "      <td>8400</td>\n",
       "      <td>8584</td>\n",
       "      <td>9157</td>\n",
       "      <td>131785</td>\n",
       "    </tr>\n",
       "    <tr>\n",
       "      <th>12</th>\n",
       "      <td>Broccoli</td>\n",
       "      <td>2017.0</td>\n",
       "      <td>8472</td>\n",
       "      <td>8197</td>\n",
       "      <td>8164</td>\n",
       "      <td>8933</td>\n",
       "      <td>9908</td>\n",
       "      <td>10528</td>\n",
       "      <td>7474</td>\n",
       "      <td>6586</td>\n",
       "      <td>5626</td>\n",
       "      <td>5586</td>\n",
       "      <td>9204</td>\n",
       "      <td>9472</td>\n",
       "      <td>122983</td>\n",
       "    </tr>\n",
       "    <tr>\n",
       "      <th>13</th>\n",
       "      <td>Broccoli</td>\n",
       "      <td>2016.0</td>\n",
       "      <td>11011</td>\n",
       "      <td>8768</td>\n",
       "      <td>11019</td>\n",
       "      <td>13129</td>\n",
       "      <td>11740</td>\n",
       "      <td>10830</td>\n",
       "      <td>7156</td>\n",
       "      <td>7584</td>\n",
       "      <td>9029</td>\n",
       "      <td>10145</td>\n",
       "      <td>10362</td>\n",
       "      <td>8889</td>\n",
       "      <td>150460</td>\n",
       "    </tr>\n",
       "  </tbody>\n",
       "</table>\n",
       "</div>"
      ],
      "text/plain": [
       "     product   mktyr    jan   feb    mar    apr    may    jun   jul   aug  \\\n",
       "11  Broccoli  2018.0   9423  8442   9187  10525   9467   9664  6865  6891   \n",
       "12  Broccoli  2017.0   8472  8197   8164   8933   9908  10528  7474  6586   \n",
       "13  Broccoli  2016.0  11011  8768  11019  13129  11740  10830  7156  7584   \n",
       "\n",
       "     sep    oct    nov   dec  year_sum  \n",
       "11  8128   8400   8584  9157    131785  \n",
       "12  5626   5586   9204  9472    122983  \n",
       "13  9029  10145  10362  8889    150460  "
      ]
     },
     "execution_count": 27,
     "metadata": {},
     "output_type": "execute_result"
    }
   ],
   "source": [
    "export_all.head(3)"
   ]
  },
  {
   "cell_type": "code",
   "execution_count": 28,
   "metadata": {},
   "outputs": [
    {
     "data": {
      "text/plain": [
       "12"
      ]
     },
     "execution_count": 28,
     "metadata": {},
     "output_type": "execute_result"
    }
   ],
   "source": [
    "export_all[\"product\"].nunique()"
   ]
  },
  {
   "cell_type": "code",
   "execution_count": 29,
   "metadata": {},
   "outputs": [
    {
     "data": {
      "text/html": [
       "<div>\n",
       "<style scoped>\n",
       "    .dataframe tbody tr th:only-of-type {\n",
       "        vertical-align: middle;\n",
       "    }\n",
       "\n",
       "    .dataframe tbody tr th {\n",
       "        vertical-align: top;\n",
       "    }\n",
       "\n",
       "    .dataframe thead th {\n",
       "        text-align: right;\n",
       "    }\n",
       "</style>\n",
       "<table border=\"1\" class=\"dataframe\">\n",
       "  <thead>\n",
       "    <tr style=\"text-align: right;\">\n",
       "      <th></th>\n",
       "      <th>product</th>\n",
       "      <th>mktyr</th>\n",
       "      <th>jan</th>\n",
       "      <th>feb</th>\n",
       "      <th>mar</th>\n",
       "      <th>apr</th>\n",
       "      <th>may</th>\n",
       "      <th>jun</th>\n",
       "      <th>jul</th>\n",
       "      <th>aug</th>\n",
       "      <th>sep</th>\n",
       "      <th>oct</th>\n",
       "      <th>nov</th>\n",
       "      <th>dec</th>\n",
       "      <th>year_sum</th>\n",
       "    </tr>\n",
       "  </thead>\n",
       "  <tbody>\n",
       "    <tr>\n",
       "      <th>11</th>\n",
       "      <td>Broccoli</td>\n",
       "      <td>2018.0</td>\n",
       "      <td>9423</td>\n",
       "      <td>8442</td>\n",
       "      <td>9187</td>\n",
       "      <td>10525</td>\n",
       "      <td>9467</td>\n",
       "      <td>9664</td>\n",
       "      <td>6865</td>\n",
       "      <td>6891</td>\n",
       "      <td>8128</td>\n",
       "      <td>8400</td>\n",
       "      <td>8584</td>\n",
       "      <td>9157</td>\n",
       "      <td>131785</td>\n",
       "    </tr>\n",
       "    <tr>\n",
       "      <th>12</th>\n",
       "      <td>Broccoli</td>\n",
       "      <td>2017.0</td>\n",
       "      <td>8472</td>\n",
       "      <td>8197</td>\n",
       "      <td>8164</td>\n",
       "      <td>8933</td>\n",
       "      <td>9908</td>\n",
       "      <td>10528</td>\n",
       "      <td>7474</td>\n",
       "      <td>6586</td>\n",
       "      <td>5626</td>\n",
       "      <td>5586</td>\n",
       "      <td>9204</td>\n",
       "      <td>9472</td>\n",
       "      <td>122983</td>\n",
       "    </tr>\n",
       "    <tr>\n",
       "      <th>13</th>\n",
       "      <td>Broccoli</td>\n",
       "      <td>2016.0</td>\n",
       "      <td>11011</td>\n",
       "      <td>8768</td>\n",
       "      <td>11019</td>\n",
       "      <td>13129</td>\n",
       "      <td>11740</td>\n",
       "      <td>10830</td>\n",
       "      <td>7156</td>\n",
       "      <td>7584</td>\n",
       "      <td>9029</td>\n",
       "      <td>10145</td>\n",
       "      <td>10362</td>\n",
       "      <td>8889</td>\n",
       "      <td>150460</td>\n",
       "    </tr>\n",
       "    <tr>\n",
       "      <th>14</th>\n",
       "      <td>Broccoli</td>\n",
       "      <td>2015.0</td>\n",
       "      <td>10521</td>\n",
       "      <td>9769</td>\n",
       "      <td>10227</td>\n",
       "      <td>13467</td>\n",
       "      <td>13274</td>\n",
       "      <td>11550</td>\n",
       "      <td>8444</td>\n",
       "      <td>7708</td>\n",
       "      <td>8022</td>\n",
       "      <td>8552</td>\n",
       "      <td>8111</td>\n",
       "      <td>10317</td>\n",
       "      <td>150479</td>\n",
       "    </tr>\n",
       "    <tr>\n",
       "      <th>16</th>\n",
       "      <td>Carrot</td>\n",
       "      <td>2018.0</td>\n",
       "      <td>7376</td>\n",
       "      <td>6403</td>\n",
       "      <td>9282</td>\n",
       "      <td>9089</td>\n",
       "      <td>9372</td>\n",
       "      <td>8738</td>\n",
       "      <td>6227</td>\n",
       "      <td>3320</td>\n",
       "      <td>2755</td>\n",
       "      <td>2982</td>\n",
       "      <td>4839</td>\n",
       "      <td>7347</td>\n",
       "      <td>100791</td>\n",
       "    </tr>\n",
       "  </tbody>\n",
       "</table>\n",
       "</div>"
      ],
      "text/plain": [
       "     product   mktyr    jan   feb    mar    apr    may    jun   jul   aug  \\\n",
       "11  Broccoli  2018.0   9423  8442   9187  10525   9467   9664  6865  6891   \n",
       "12  Broccoli  2017.0   8472  8197   8164   8933   9908  10528  7474  6586   \n",
       "13  Broccoli  2016.0  11011  8768  11019  13129  11740  10830  7156  7584   \n",
       "14  Broccoli  2015.0  10521  9769  10227  13467  13274  11550  8444  7708   \n",
       "16    Carrot  2018.0   7376  6403   9282   9089   9372   8738  6227  3320   \n",
       "\n",
       "     sep    oct    nov    dec  year_sum  \n",
       "11  8128   8400   8584   9157    131785  \n",
       "12  5626   5586   9204   9472    122983  \n",
       "13  9029  10145  10362   8889    150460  \n",
       "14  8022   8552   8111  10317    150479  \n",
       "16  2755   2982   4839   7347    100791  "
      ]
     },
     "execution_count": 29,
     "metadata": {},
     "output_type": "execute_result"
    }
   ],
   "source": [
    "export_all.head()"
   ]
  },
  {
   "cell_type": "code",
   "execution_count": 30,
   "metadata": {},
   "outputs": [],
   "source": [
    "broccoli_all = export_all[(export_all['product']=='Broccoli')]\n",
    "# broc_2019 = pd.DataFrame({\"product\":[\"Broccoli\"],\"mktyr\":[\"2019\"], \"jan\":[0],\"feb\":[0],\"mar\":[0],\"apr\":[0],\"may\":[0],\"jun\":[0],\"jul\":[0],\"aug\":[0],\"sep\":[0],\"oct\":[0],\"nov\":[0],\"dec\":[0],\"year_sum\":[0]})\n",
    "# broccoli_all.append(broc_2019).reset_index() \n",
    "broccoli_2015 = export_all[(export_all['mktyr'] == 2015.0) & (export_all['product']=='Broccoli')].reset_index()\n",
    "broccoli_2015_new = broccoli_2015[['jan','feb', 'mar','apr','may','jun','jul','aug','sep','oct', 'nov', 'dec']]\n",
    "ren_broccoli_2015 = broccoli_2015_new.rename(columns={\"jan\":\"m1\", \"feb\":\"m2\", \"mar\":\"m3\", \"apr\":\"m4\", \"may\":\"m5\", \"jun\":\"m6\", \"jul\":\"m7\",\"aug\":\"m8\",\"sep\":\"m9\",\"oct\":\"m10\",\"nov\":\"m11\", \"dec\":\"m12\"})\n",
    "broccoli_2016 = export_all[(export_all['mktyr'] == 2016.0) & (export_all['product']=='Broccoli')].reset_index()\n",
    "broccoli_2016_new = broccoli_2016[['jan','feb', 'mar','apr','may','jun','jul','aug','sep','oct', 'nov', 'dec']]\n",
    "ren_broccoli_2016 = broccoli_2016_new.rename(columns={\"jan\":\"m13\", \"feb\":\"m14\", \"mar\":\"m15\", \"apr\":\"m16\", \"may\":\"m17\", \"jun\":\"m18\", \"jul\":\"m19\",\"aug\":\"m20\",\"sep\":\"m21\",\"oct\":\"m22\",\"nov\":\"m23\", \"dec\":\"m24\"})\n",
    "broccoli_2017 = export_all[(export_all['mktyr'] == 2017.0) & (export_all['product']=='Broccoli')].reset_index()\n",
    "broccoli_2017_new = broccoli_2017[['jan','feb', 'mar','apr','may','jun','jul','aug','sep','oct', 'nov', 'dec']]\n",
    "ren_broccoli_2017 = broccoli_2017_new.rename(columns={\"jan\":\"m25\", \"feb\":\"m26\", \"mar\":\"m27\", \"apr\":\"m28\", \"may\":\"m29\", \"jun\":\"m30\", \"jul\":\"m31\",\"aug\":\"m32\",\"sep\":\"m33\",\"oct\":\"m34\",\"nov\":\"m35\", \"dec\":\"m36\"})\n",
    "broccoli_2018 = export_all[(export_all['mktyr'] == 2018.0) & (export_all['product']=='Broccoli')].reset_index()\n",
    "broccoli_2018_new = broccoli_2018[['jan','feb', 'mar','apr','may','jun','jul','aug','sep','oct', 'nov', 'dec']]\n",
    "ren_broccoli_2018 = broccoli_2018_new.rename(columns={\"jan\":\"m37\", \"feb\":\"m38\", \"mar\":\"m39\", \"apr\":\"m40\", \"may\":\"m41\", \"jun\":\"m42\", \"jul\":\"m43\",\"aug\":\"m44\",\"sep\":\"m45\",\"oct\":\"m46\",\"nov\":\"m47\", \"dec\":\"m48\"})\n"
   ]
  },
  {
   "cell_type": "code",
   "execution_count": 31,
   "metadata": {},
   "outputs": [
    {
     "data": {
      "text/html": [
       "<div>\n",
       "<style scoped>\n",
       "    .dataframe tbody tr th:only-of-type {\n",
       "        vertical-align: middle;\n",
       "    }\n",
       "\n",
       "    .dataframe tbody tr th {\n",
       "        vertical-align: top;\n",
       "    }\n",
       "\n",
       "    .dataframe thead th {\n",
       "        text-align: right;\n",
       "    }\n",
       "</style>\n",
       "<table border=\"1\" class=\"dataframe\">\n",
       "  <thead>\n",
       "    <tr style=\"text-align: right;\">\n",
       "      <th></th>\n",
       "      <th>month</th>\n",
       "      <th>value</th>\n",
       "      <th>mo</th>\n",
       "    </tr>\n",
       "  </thead>\n",
       "  <tbody>\n",
       "    <tr>\n",
       "      <th>0</th>\n",
       "      <td>m1</td>\n",
       "      <td>10521</td>\n",
       "      <td>0</td>\n",
       "    </tr>\n",
       "    <tr>\n",
       "      <th>1</th>\n",
       "      <td>m2</td>\n",
       "      <td>9769</td>\n",
       "      <td>1</td>\n",
       "    </tr>\n",
       "    <tr>\n",
       "      <th>2</th>\n",
       "      <td>m3</td>\n",
       "      <td>10227</td>\n",
       "      <td>2</td>\n",
       "    </tr>\n",
       "    <tr>\n",
       "      <th>3</th>\n",
       "      <td>m4</td>\n",
       "      <td>13467</td>\n",
       "      <td>3</td>\n",
       "    </tr>\n",
       "    <tr>\n",
       "      <th>4</th>\n",
       "      <td>m5</td>\n",
       "      <td>13274</td>\n",
       "      <td>4</td>\n",
       "    </tr>\n",
       "  </tbody>\n",
       "</table>\n",
       "</div>"
      ],
      "text/plain": [
       "  month  value  mo\n",
       "0    m1  10521   0\n",
       "1    m2   9769   1\n",
       "2    m3  10227   2\n",
       "3    m4  13467   3\n",
       "4    m5  13274   4"
      ]
     },
     "execution_count": 31,
     "metadata": {},
     "output_type": "execute_result"
    }
   ],
   "source": [
    "broc = ren_broccoli_2015.join([ren_broccoli_2016, ren_broccoli_2017, ren_broccoli_2018], how='outer')\n",
    "trans_broc = broc.T \n",
    "broc_final = trans_broc.reset_index()\n",
    "broc_data = broc_final.rename(columns={\"index\": \"month\", 0: \"value\"})\n",
    "broc_data['mo'] = broc_data.index\n",
    "broc_data.head()"
   ]
  },
  {
   "cell_type": "code",
   "execution_count": 32,
   "metadata": {},
   "outputs": [
    {
     "name": "stderr",
     "output_type": "stream",
     "text": [
      "/anaconda3/lib/python3.7/site-packages/pandas/core/frame.py:3940: SettingWithCopyWarning: \n",
      "A value is trying to be set on a copy of a slice from a DataFrame\n",
      "\n",
      "See the caveats in the documentation: http://pandas.pydata.org/pandas-docs/stable/indexing.html#indexing-view-versus-copy\n",
      "  errors=errors)\n"
     ]
    }
   ],
   "source": [
    "broc_fin=broc_data[[\"mo\", \"value\"]]\n",
    "broc_fin.index = broc_fin.mo\n",
    "broc_fin.drop('mo', axis=1, inplace=True)\n",
    "broc_fin.head()\n",
    "broc_fin.to_csv('dset/broc.csv')\n"
   ]
  },
  {
   "cell_type": "code",
   "execution_count": 33,
   "metadata": {},
   "outputs": [],
   "source": [
    "value = broc_data['value'].values\n",
    "seq_len = 10\n",
    "sequence_length = seq_len + 1\n",
    "\n",
    "result = []\n",
    "for index in range(len(value) - sequence_length):\n",
    "    result.append(value[index: index + sequence_length])"
   ]
  },
  {
   "cell_type": "code",
   "execution_count": 34,
   "metadata": {},
   "outputs": [
    {
     "data": {
      "text/plain": [
       "((33, 10, 1), (4, 10, 1))"
      ]
     },
     "execution_count": 34,
     "metadata": {},
     "output_type": "execute_result"
    }
   ],
   "source": [
    "normalized_data = []\n",
    "for window in result:\n",
    "    normalized_window = [((float(p) / float(window[0])) - 1) for p in window]\n",
    "    normalized_data.append(normalized_window)\n",
    "\n",
    "result = np.array(normalized_data)\n",
    "\n",
    "# split train and test data\n",
    "row = int(round(result.shape[0] * 0.9))\n",
    "train = result[:row, :]\n",
    "np.random.shuffle(train)\n",
    "\n",
    "x_train = train[:, :-1]\n",
    "x_train = np.reshape(x_train, (x_train.shape[0], x_train.shape[1], 1))\n",
    "y_train = train[:, -1]\n",
    "\n",
    "x_test = result[row:, :-1]\n",
    "x_test = np.reshape(x_test, (x_test.shape[0], x_test.shape[1], 1))\n",
    "y_test = result[row:, -1]\n",
    "\n",
    "x_train.shape, x_test.shape"
   ]
  },
  {
   "cell_type": "code",
   "execution_count": 35,
   "metadata": {},
   "outputs": [
    {
     "name": "stdout",
     "output_type": "stream",
     "text": [
      "WARNING:tensorflow:From /anaconda3/lib/python3.7/site-packages/tensorflow/python/framework/op_def_library.py:263: colocate_with (from tensorflow.python.framework.ops) is deprecated and will be removed in a future version.\n",
      "Instructions for updating:\n",
      "Colocations handled automatically by placer.\n",
      "_________________________________________________________________\n",
      "Layer (type)                 Output Shape              Param #   \n",
      "=================================================================\n",
      "lstm_1 (LSTM)                (None, 10, 10)            480       \n",
      "_________________________________________________________________\n",
      "lstm_2 (LSTM)                (None, 24)                3360      \n",
      "_________________________________________________________________\n",
      "dense_1 (Dense)              (None, 1)                 25        \n",
      "=================================================================\n",
      "Total params: 3,865\n",
      "Trainable params: 3,865\n",
      "Non-trainable params: 0\n",
      "_________________________________________________________________\n"
     ]
    }
   ],
   "source": [
    "model = Sequential()\n",
    "\n",
    "model.add(LSTM(10, return_sequences=True, input_shape=(10, 1)))\n",
    "\n",
    "model.add(LSTM(24, return_sequences=False))\n",
    "\n",
    "model.add(Dense(1, activation='linear'))\n",
    "\n",
    "model.compile(loss='mse', metrics=['mean_squared_error'],optimizer='nadam')\n",
    "\n",
    "model.summary()"
   ]
  },
  {
   "cell_type": "code",
   "execution_count": 36,
   "metadata": {},
   "outputs": [
    {
     "name": "stdout",
     "output_type": "stream",
     "text": [
      "WARNING:tensorflow:From /anaconda3/lib/python3.7/site-packages/tensorflow/python/ops/math_ops.py:3066: to_int32 (from tensorflow.python.ops.math_ops) is deprecated and will be removed in a future version.\n",
      "Instructions for updating:\n",
      "Use tf.cast instead.\n",
      "Train on 33 samples, validate on 4 samples\n",
      "Epoch 1/30\n",
      "33/33 [==============================] - 2s 56ms/step - loss: 0.0618 - mean_squared_error: 0.0618 - val_loss: 0.0152 - val_mean_squared_error: 0.0152\n",
      "Epoch 2/30\n",
      "33/33 [==============================] - 0s 3ms/step - loss: 0.0568 - mean_squared_error: 0.0568 - val_loss: 0.0096 - val_mean_squared_error: 0.0096\n",
      "Epoch 3/30\n",
      "33/33 [==============================] - 0s 3ms/step - loss: 0.0514 - mean_squared_error: 0.0514 - val_loss: 0.0052 - val_mean_squared_error: 0.0052\n",
      "Epoch 4/30\n",
      "33/33 [==============================] - 0s 3ms/step - loss: 0.0467 - mean_squared_error: 0.0467 - val_loss: 0.0044 - val_mean_squared_error: 0.0044\n",
      "Epoch 5/30\n",
      "33/33 [==============================] - 0s 3ms/step - loss: 0.0422 - mean_squared_error: 0.0422 - val_loss: 0.0081 - val_mean_squared_error: 0.0081\n",
      "Epoch 6/30\n",
      "33/33 [==============================] - 0s 2ms/step - loss: 0.0407 - mean_squared_error: 0.0407 - val_loss: 0.0149 - val_mean_squared_error: 0.0149\n",
      "Epoch 7/30\n",
      "33/33 [==============================] - 0s 3ms/step - loss: 0.0415 - mean_squared_error: 0.0415 - val_loss: 0.0319 - val_mean_squared_error: 0.0319\n",
      "Epoch 8/30\n",
      "33/33 [==============================] - 0s 3ms/step - loss: 0.0408 - mean_squared_error: 0.0408 - val_loss: 0.0145 - val_mean_squared_error: 0.0145\n",
      "Epoch 9/30\n",
      "33/33 [==============================] - 0s 3ms/step - loss: 0.0394 - mean_squared_error: 0.0394 - val_loss: 0.0201 - val_mean_squared_error: 0.0201\n",
      "Epoch 10/30\n",
      "33/33 [==============================] - 0s 3ms/step - loss: 0.0402 - mean_squared_error: 0.0402 - val_loss: 0.0198 - val_mean_squared_error: 0.0198\n",
      "Epoch 11/30\n",
      "33/33 [==============================] - 0s 3ms/step - loss: 0.0408 - mean_squared_error: 0.0408 - val_loss: 0.0132 - val_mean_squared_error: 0.0132\n",
      "Epoch 12/30\n",
      "33/33 [==============================] - 0s 3ms/step - loss: 0.0383 - mean_squared_error: 0.0383 - val_loss: 0.0129 - val_mean_squared_error: 0.0129\n",
      "Epoch 13/30\n",
      "33/33 [==============================] - 0s 3ms/step - loss: 0.0393 - mean_squared_error: 0.0393 - val_loss: 0.0083 - val_mean_squared_error: 0.0083\n",
      "Epoch 14/30\n",
      "33/33 [==============================] - 0s 3ms/step - loss: 0.0384 - mean_squared_error: 0.0384 - val_loss: 0.0127 - val_mean_squared_error: 0.0127\n",
      "Epoch 15/30\n",
      "33/33 [==============================] - 0s 3ms/step - loss: 0.0385 - mean_squared_error: 0.0385 - val_loss: 0.0085 - val_mean_squared_error: 0.0085\n",
      "Epoch 16/30\n",
      "33/33 [==============================] - 0s 3ms/step - loss: 0.0385 - mean_squared_error: 0.0385 - val_loss: 0.0150 - val_mean_squared_error: 0.0150\n",
      "Epoch 17/30\n",
      "33/33 [==============================] - 0s 3ms/step - loss: 0.0390 - mean_squared_error: 0.0390 - val_loss: 0.0124 - val_mean_squared_error: 0.0124\n",
      "Epoch 18/30\n",
      "33/33 [==============================] - 0s 3ms/step - loss: 0.0381 - mean_squared_error: 0.0381 - val_loss: 0.0154 - val_mean_squared_error: 0.0154\n",
      "Epoch 19/30\n",
      "33/33 [==============================] - 0s 3ms/step - loss: 0.0379 - mean_squared_error: 0.0379 - val_loss: 0.0166 - val_mean_squared_error: 0.0166\n",
      "Epoch 20/30\n",
      "33/33 [==============================] - 0s 3ms/step - loss: 0.0378 - mean_squared_error: 0.0378 - val_loss: 0.0192 - val_mean_squared_error: 0.0192\n",
      "Epoch 21/30\n",
      "33/33 [==============================] - 0s 3ms/step - loss: 0.0389 - mean_squared_error: 0.0389 - val_loss: 0.0197 - val_mean_squared_error: 0.0197\n",
      "Epoch 22/30\n",
      "33/33 [==============================] - 0s 3ms/step - loss: 0.0394 - mean_squared_error: 0.0394 - val_loss: 0.0116 - val_mean_squared_error: 0.0116\n",
      "Epoch 23/30\n",
      "33/33 [==============================] - 0s 3ms/step - loss: 0.0372 - mean_squared_error: 0.0372 - val_loss: 0.0097 - val_mean_squared_error: 0.0097\n",
      "Epoch 24/30\n",
      "33/33 [==============================] - 0s 3ms/step - loss: 0.0372 - mean_squared_error: 0.0372 - val_loss: 0.0096 - val_mean_squared_error: 0.0096\n",
      "Epoch 25/30\n",
      "33/33 [==============================] - 0s 3ms/step - loss: 0.0375 - mean_squared_error: 0.0375 - val_loss: 0.0101 - val_mean_squared_error: 0.0101\n",
      "Epoch 26/30\n",
      "33/33 [==============================] - 0s 3ms/step - loss: 0.0382 - mean_squared_error: 0.0382 - val_loss: 0.0148 - val_mean_squared_error: 0.0148\n",
      "Epoch 27/30\n",
      "33/33 [==============================] - 0s 3ms/step - loss: 0.0377 - mean_squared_error: 0.0377 - val_loss: 0.0105 - val_mean_squared_error: 0.0105\n",
      "Epoch 28/30\n",
      "33/33 [==============================] - 0s 3ms/step - loss: 0.0374 - mean_squared_error: 0.0374 - val_loss: 0.0122 - val_mean_squared_error: 0.0122\n",
      "Epoch 29/30\n",
      "33/33 [==============================] - 0s 3ms/step - loss: 0.0377 - mean_squared_error: 0.0377 - val_loss: 0.0131 - val_mean_squared_error: 0.0131\n",
      "Epoch 30/30\n",
      "33/33 [==============================] - 0s 3ms/step - loss: 0.0370 - mean_squared_error: 0.0370 - val_loss: 0.0120 - val_mean_squared_error: 0.0120\n"
     ]
    },
    {
     "data": {
      "text/plain": [
       "<keras.callbacks.History at 0x1a2c7f9c18>"
      ]
     },
     "execution_count": 36,
     "metadata": {},
     "output_type": "execute_result"
    }
   ],
   "source": [
    "model.fit(x_train, y_train,\n",
    "    validation_data=(x_test, y_test),\n",
    "    batch_size=10,\n",
    "    epochs=30)"
   ]
  },
  {
   "cell_type": "code",
   "execution_count": 37,
   "metadata": {},
   "outputs": [],
   "source": [
    "# Save the model\n",
    "model.save(\"broc_model_trained.h5\")"
   ]
  },
  {
   "cell_type": "code",
   "execution_count": 38,
   "metadata": {},
   "outputs": [
    {
     "data": {
      "image/png": "[encoded data removed]",
      "text/plain": [
       "<Figure size 1440x720 with 1 Axes>"
      ]
     },
     "metadata": {},
     "output_type": "display_data"
    }
   ],
   "source": [
    "pred = model.predict(x_test)\n",
    "\n",
    "fig = plt.figure(facecolor='white', figsize=(20, 10))\n",
    "ax = fig.add_subplot(111)\n",
    "ax.plot(y_test, label='True')\n",
    "ax.plot(pred, label='Prediction')\n",
    "plt.title('Broccoli')\n",
    "ax.legend()\n",
    "plt.show()"
   ]
  },
  {
   "cell_type": "code",
   "execution_count": 39,
   "metadata": {},
   "outputs": [],
   "source": [
    "carrot_2015 = export_all[(export_all['mktyr'] == 2015.0) & (export_all['product']=='Carrot')]\n",
    "carrot_2015 = export_all[(export_all['mktyr'] == 2015.0) & (export_all['product']=='Carrot')].reset_index()\n",
    "carrot_2015_new = carrot_2015[['jan','feb', 'mar','apr','may','jun','jul','aug','sep','oct', 'nov', 'dec']]\n",
    "ren_carrot_2015 = carrot_2015_new.rename(columns={\"jan\":\"m1\", \"feb\":\"m2\", \"mar\":\"m3\", \"apr\":\"m4\", \"may\":\"m5\", \"jun\":\"m6\", \"jul\":\"m7\",\"aug\":\"m8\",\"sep\":\"m9\",\"oct\":\"m10\",\"nov\":\"m11\", \"dec\":\"m12\"})\n",
    "carrot_2016 = export_all[(export_all['mktyr'] == 2016.0) & (export_all['product']=='Carrot')].reset_index()\n",
    "carrot_2016_new = carrot_2016[['jan','feb', 'mar','apr','may','jun','jul','aug','sep','oct', 'nov', 'dec']]\n",
    "ren_carrot_2016 = carrot_2016_new.rename(columns={\"jan\":\"m13\", \"feb\":\"m14\", \"mar\":\"m15\", \"apr\":\"m16\", \"may\":\"m17\", \"jun\":\"m18\", \"jul\":\"m19\",\"aug\":\"m20\",\"sep\":\"m21\",\"oct\":\"m22\",\"nov\":\"m23\", \"dec\":\"m24\"})\n",
    "carrot_2017 = export_all[(export_all['mktyr'] == 2017.0) & (export_all['product']=='Carrot')].reset_index()\n",
    "carrot_2017_new = carrot_2017[['jan','feb', 'mar','apr','may','jun','jul','aug','sep','oct', 'nov', 'dec']]\n",
    "ren_carrot_2017 = carrot_2017_new.rename(columns={\"jan\":\"m25\", \"feb\":\"m26\", \"mar\":\"m27\", \"apr\":\"m28\", \"may\":\"m29\", \"jun\":\"m30\", \"jul\":\"m31\",\"aug\":\"m32\",\"sep\":\"m33\",\"oct\":\"m34\",\"nov\":\"m35\", \"dec\":\"m36\"})\n",
    "carrot_2018 = export_all[(export_all['mktyr'] == 2018.0) & (export_all['product']=='Carrot')].reset_index()\n",
    "carrot_2018_new = carrot_2018[['jan','feb', 'mar','apr','may','jun','jul','aug','sep','oct', 'nov', 'dec']]\n",
    "ren_carrot_2018 = carrot_2018_new.rename(columns={\"jan\":\"m37\", \"feb\":\"m38\", \"mar\":\"m39\", \"apr\":\"m40\", \"may\":\"m41\", \"jun\":\"m42\", \"jul\":\"m43\",\"aug\":\"m44\",\"sep\":\"m45\",\"oct\":\"m46\",\"nov\":\"m47\", \"dec\":\"m48\"})\n"
   ]
  },
  {
   "cell_type": "code",
   "execution_count": 40,
   "metadata": {},
   "outputs": [
    {
     "data": {
      "text/html": [
       "<div>\n",
       "<style scoped>\n",
       "    .dataframe tbody tr th:only-of-type {\n",
       "        vertical-align: middle;\n",
       "    }\n",
       "\n",
       "    .dataframe tbody tr th {\n",
       "        vertical-align: top;\n",
       "    }\n",
       "\n",
       "    .dataframe thead th {\n",
       "        text-align: right;\n",
       "    }\n",
       "</style>\n",
       "<table border=\"1\" class=\"dataframe\">\n",
       "  <thead>\n",
       "    <tr style=\"text-align: right;\">\n",
       "      <th></th>\n",
       "      <th>month</th>\n",
       "      <th>value</th>\n",
       "      <th>mo</th>\n",
       "    </tr>\n",
       "  </thead>\n",
       "  <tbody>\n",
       "    <tr>\n",
       "      <th>0</th>\n",
       "      <td>m1</td>\n",
       "      <td>7804</td>\n",
       "      <td>0</td>\n",
       "    </tr>\n",
       "    <tr>\n",
       "      <th>1</th>\n",
       "      <td>m2</td>\n",
       "      <td>7198</td>\n",
       "      <td>1</td>\n",
       "    </tr>\n",
       "    <tr>\n",
       "      <th>2</th>\n",
       "      <td>m3</td>\n",
       "      <td>9948</td>\n",
       "      <td>2</td>\n",
       "    </tr>\n",
       "    <tr>\n",
       "      <th>3</th>\n",
       "      <td>m4</td>\n",
       "      <td>9790</td>\n",
       "      <td>3</td>\n",
       "    </tr>\n",
       "    <tr>\n",
       "      <th>4</th>\n",
       "      <td>m5</td>\n",
       "      <td>10273</td>\n",
       "      <td>4</td>\n",
       "    </tr>\n",
       "  </tbody>\n",
       "</table>\n",
       "</div>"
      ],
      "text/plain": [
       "  month  value  mo\n",
       "0    m1   7804   0\n",
       "1    m2   7198   1\n",
       "2    m3   9948   2\n",
       "3    m4   9790   3\n",
       "4    m5  10273   4"
      ]
     },
     "execution_count": 40,
     "metadata": {},
     "output_type": "execute_result"
    }
   ],
   "source": [
    "carr = ren_carrot_2015.join([ren_carrot_2016, ren_carrot_2017, ren_carrot_2018], how='outer')\n",
    "trans_carr = carr.T \n",
    "carr_final = trans_carr.reset_index()\n",
    "carr_data = carr_final.rename(columns={\"index\": \"month\", 0: \"value\"})\n",
    "carr_data['mo'] = carr_data.index\n",
    "carr_data.head()"
   ]
  },
  {
   "cell_type": "code",
   "execution_count": 41,
   "metadata": {},
   "outputs": [],
   "source": [
    "carr_fin=carr_data[[\"mo\", \"value\"]]\n",
    "carr_fin.index = carr_fin.mo\n",
    "carr_fin.drop('mo', axis=1, inplace=True)\n",
    "carr_fin.to_csv('dset/carr.csv')\n"
   ]
  },
  {
   "cell_type": "code",
   "execution_count": 42,
   "metadata": {},
   "outputs": [],
   "source": [
    "value = carr_fin['value'].values\n",
    "seq_len = 10\n",
    "sequence_length = seq_len + 1\n",
    "\n",
    "result = []\n",
    "for index in range(len(value) - sequence_length):\n",
    "    result.append(value[index: index + sequence_length])"
   ]
  },
  {
   "cell_type": "code",
   "execution_count": 43,
   "metadata": {},
   "outputs": [
    {
     "data": {
      "text/plain": [
       "((33, 10, 1), (4, 10, 1))"
      ]
     },
     "execution_count": 43,
     "metadata": {},
     "output_type": "execute_result"
    }
   ],
   "source": [
    "normalized_data = []\n",
    "for window in result:\n",
    "    normalized_window = [((float(p) / float(window[0])) - 1) for p in window]\n",
    "    normalized_data.append(normalized_window)\n",
    "\n",
    "result = np.array(normalized_data)\n",
    "\n",
    "# split train and test data\n",
    "row = int(round(result.shape[0] * 0.9))\n",
    "train = result[:row, :]\n",
    "np.random.shuffle(train)\n",
    "\n",
    "x_train = train[:, :-1]\n",
    "x_train = np.reshape(x_train, (x_train.shape[0], x_train.shape[1], 1))\n",
    "y_train = train[:, -1]\n",
    "\n",
    "x_test = result[row:, :-1]\n",
    "x_test = np.reshape(x_test, (x_test.shape[0], x_test.shape[1], 1))\n",
    "y_test = result[row:, -1]\n",
    "\n",
    "x_train.shape, x_test.shape"
   ]
  },
  {
   "cell_type": "code",
   "execution_count": 44,
   "metadata": {},
   "outputs": [
    {
     "name": "stdout",
     "output_type": "stream",
     "text": [
      "_________________________________________________________________\n",
      "Layer (type)                 Output Shape              Param #   \n",
      "=================================================================\n",
      "lstm_3 (LSTM)                (None, 10, 10)            480       \n",
      "_________________________________________________________________\n",
      "lstm_4 (LSTM)                (None, 24)                3360      \n",
      "_________________________________________________________________\n",
      "dense_2 (Dense)              (None, 1)                 25        \n",
      "=================================================================\n",
      "Total params: 3,865\n",
      "Trainable params: 3,865\n",
      "Non-trainable params: 0\n",
      "_________________________________________________________________\n"
     ]
    }
   ],
   "source": [
    "model = Sequential()\n",
    "\n",
    "model.add(LSTM(10, return_sequences=True, input_shape=(10, 1)))\n",
    "\n",
    "model.add(LSTM(24, return_sequences=False))\n",
    "\n",
    "model.add(Dense(1, activation='linear'))\n",
    "\n",
    "model.compile(loss='mse', metrics=['mean_squared_error'],optimizer='nadam')\n",
    "\n",
    "model.summary()"
   ]
  },
  {
   "cell_type": "code",
   "execution_count": 45,
   "metadata": {},
   "outputs": [
    {
     "name": "stdout",
     "output_type": "stream",
     "text": [
      "Train on 33 samples, validate on 4 samples\n",
      "Epoch 1/30\n",
      "33/33 [==============================] - 2s 60ms/step - loss: 0.4011 - mean_squared_error: 0.4011 - val_loss: 0.1410 - val_mean_squared_error: 0.1410\n",
      "Epoch 2/30\n",
      "33/33 [==============================] - 0s 3ms/step - loss: 0.3607 - mean_squared_error: 0.3607 - val_loss: 0.1718 - val_mean_squared_error: 0.1718\n",
      "Epoch 3/30\n",
      "33/33 [==============================] - 0s 3ms/step - loss: 0.3247 - mean_squared_error: 0.3247 - val_loss: 0.2051 - val_mean_squared_error: 0.2051\n",
      "Epoch 4/30\n",
      "33/33 [==============================] - 0s 4ms/step - loss: 0.2926 - mean_squared_error: 0.2926 - val_loss: 0.2968 - val_mean_squared_error: 0.2968\n",
      "Epoch 5/30\n",
      "33/33 [==============================] - 0s 3ms/step - loss: 0.2597 - mean_squared_error: 0.2597 - val_loss: 0.3816 - val_mean_squared_error: 0.3816\n",
      "Epoch 6/30\n",
      "33/33 [==============================] - 0s 3ms/step - loss: 0.2483 - mean_squared_error: 0.2483 - val_loss: 0.4457 - val_mean_squared_error: 0.4457\n",
      "Epoch 7/30\n",
      "33/33 [==============================] - 0s 3ms/step - loss: 0.2333 - mean_squared_error: 0.2333 - val_loss: 0.6139 - val_mean_squared_error: 0.6139\n",
      "Epoch 8/30\n",
      "33/33 [==============================] - 0s 3ms/step - loss: 0.2327 - mean_squared_error: 0.2327 - val_loss: 0.6319 - val_mean_squared_error: 0.6319\n",
      "Epoch 9/30\n",
      "33/33 [==============================] - 0s 3ms/step - loss: 0.2231 - mean_squared_error: 0.2231 - val_loss: 0.5784 - val_mean_squared_error: 0.5784\n",
      "Epoch 10/30\n",
      "33/33 [==============================] - 0s 3ms/step - loss: 0.2186 - mean_squared_error: 0.2186 - val_loss: 0.6318 - val_mean_squared_error: 0.6318\n",
      "Epoch 11/30\n",
      "33/33 [==============================] - 0s 3ms/step - loss: 0.2112 - mean_squared_error: 0.2112 - val_loss: 0.5178 - val_mean_squared_error: 0.5178\n",
      "Epoch 12/30\n",
      "33/33 [==============================] - 0s 3ms/step - loss: 0.2066 - mean_squared_error: 0.2066 - val_loss: 0.4143 - val_mean_squared_error: 0.4143\n",
      "Epoch 13/30\n",
      "33/33 [==============================] - 0s 3ms/step - loss: 0.1996 - mean_squared_error: 0.1996 - val_loss: 0.5164 - val_mean_squared_error: 0.5164\n",
      "Epoch 14/30\n",
      "33/33 [==============================] - 0s 3ms/step - loss: 0.1909 - mean_squared_error: 0.1909 - val_loss: 0.5444 - val_mean_squared_error: 0.5444\n",
      "Epoch 15/30\n",
      "33/33 [==============================] - 0s 3ms/step - loss: 0.1902 - mean_squared_error: 0.1902 - val_loss: 0.6005 - val_mean_squared_error: 0.6005\n",
      "Epoch 16/30\n",
      "33/33 [==============================] - 0s 3ms/step - loss: 0.1917 - mean_squared_error: 0.1917 - val_loss: 0.4994 - val_mean_squared_error: 0.4994\n",
      "Epoch 17/30\n",
      "33/33 [==============================] - 0s 3ms/step - loss: 0.1766 - mean_squared_error: 0.1766 - val_loss: 0.4372 - val_mean_squared_error: 0.4372\n",
      "Epoch 18/30\n",
      "33/33 [==============================] - 0s 3ms/step - loss: 0.1698 - mean_squared_error: 0.1698 - val_loss: 0.3972 - val_mean_squared_error: 0.3972\n",
      "Epoch 19/30\n",
      "33/33 [==============================] - 0s 3ms/step - loss: 0.1713 - mean_squared_error: 0.1713 - val_loss: 0.3681 - val_mean_squared_error: 0.3681\n",
      "Epoch 20/30\n",
      "33/33 [==============================] - 0s 3ms/step - loss: 0.1588 - mean_squared_error: 0.1588 - val_loss: 0.3358 - val_mean_squared_error: 0.3358\n",
      "Epoch 21/30\n",
      "33/33 [==============================] - 0s 3ms/step - loss: 0.1546 - mean_squared_error: 0.1546 - val_loss: 0.3457 - val_mean_squared_error: 0.3457\n",
      "Epoch 22/30\n",
      "33/33 [==============================] - 0s 3ms/step - loss: 0.1466 - mean_squared_error: 0.1466 - val_loss: 0.3052 - val_mean_squared_error: 0.3052\n",
      "Epoch 23/30\n",
      "33/33 [==============================] - 0s 3ms/step - loss: 0.1394 - mean_squared_error: 0.1394 - val_loss: 0.2591 - val_mean_squared_error: 0.2591\n",
      "Epoch 24/30\n",
      "33/33 [==============================] - 0s 3ms/step - loss: 0.1318 - mean_squared_error: 0.1318 - val_loss: 0.2420 - val_mean_squared_error: 0.2420\n",
      "Epoch 25/30\n",
      "33/33 [==============================] - 0s 3ms/step - loss: 0.1126 - mean_squared_error: 0.1126 - val_loss: 0.3144 - val_mean_squared_error: 0.3144\n",
      "Epoch 26/30\n",
      "33/33 [==============================] - 0s 3ms/step - loss: 0.1042 - mean_squared_error: 0.1042 - val_loss: 0.3715 - val_mean_squared_error: 0.3715\n",
      "Epoch 27/30\n",
      "33/33 [==============================] - 0s 3ms/step - loss: 0.1168 - mean_squared_error: 0.1168 - val_loss: 0.3004 - val_mean_squared_error: 0.3004\n",
      "Epoch 28/30\n",
      "33/33 [==============================] - 0s 3ms/step - loss: 0.0772 - mean_squared_error: 0.0772 - val_loss: 0.1233 - val_mean_squared_error: 0.1233\n",
      "Epoch 29/30\n",
      "33/33 [==============================] - 0s 3ms/step - loss: 0.0612 - mean_squared_error: 0.0612 - val_loss: 0.0953 - val_mean_squared_error: 0.0953\n",
      "Epoch 30/30\n",
      "33/33 [==============================] - 0s 3ms/step - loss: 0.0534 - mean_squared_error: 0.0534 - val_loss: 0.1501 - val_mean_squared_error: 0.1501\n"
     ]
    },
    {
     "data": {
      "text/plain": [
       "<keras.callbacks.History at 0x107a82748>"
      ]
     },
     "execution_count": 45,
     "metadata": {},
     "output_type": "execute_result"
    }
   ],
   "source": [
    "model.fit(x_train, y_train,\n",
    "    validation_data=(x_test, y_test),\n",
    "    batch_size=10,\n",
    "    epochs=30)"
   ]
  },
  {
   "cell_type": "code",
   "execution_count": 46,
   "metadata": {},
   "outputs": [],
   "source": [
    "model.save(\"carr_model_trained.h5\")"
   ]
  },
  {
   "cell_type": "code",
   "execution_count": 47,
   "metadata": {},
   "outputs": [
    {
     "data": {
      "image/png": "[encoded data removed]",
      "text/plain": [
       "<Figure size 1440x720 with 1 Axes>"
      ]
     },
     "metadata": {},
     "output_type": "display_data"
    }
   ],
   "source": [
    "pred = model.predict(x_test)\n",
    "\n",
    "fig = plt.figure(facecolor='white', figsize=(20, 10))\n",
    "ax = fig.add_subplot(111)\n",
    "ax.plot(y_test, label='True')\n",
    "ax.plot(pred, label='Prediction')\n",
    "plt.title('Carrot')\n",
    "ax.legend()\n",
    "plt.show()"
   ]
  },
  {
   "cell_type": "code",
   "execution_count": 48,
   "metadata": {},
   "outputs": [],
   "source": [
    "onion_2015 = export_all[(export_all['mktyr'] == 2015.0) & (export_all['product']=='Onion')]\n",
    "onn_2015 = export_all[(export_all['mktyr'] == 2015.0) & (export_all['product']=='Onion')].reset_index()\n",
    "onn_2015_new = onn_2015[['jan','feb', 'mar','apr','may','jun','jul','aug','sep','oct', 'nov', 'dec']]\n",
    "ren_onn_2015 = onn_2015_new.rename(columns={\"jan\":\"m1\", \"feb\":\"m2\", \"mar\":\"m3\", \"apr\":\"m4\", \"may\":\"m5\", \"jun\":\"m6\", \"jul\":\"m7\",\"aug\":\"m8\",\"sep\":\"m9\",\"oct\":\"m10\",\"nov\":\"m11\", \"dec\":\"m12\"})\n",
    "onn_2016 = export_all[(export_all['mktyr'] == 2016.0) & (export_all['product']=='Onion')].reset_index()\n",
    "onn_2016_new = onn_2016[['jan','feb', 'mar','apr','may','jun','jul','aug','sep','oct', 'nov', 'dec']]\n",
    "ren_onn_2016 = onn_2016_new.rename(columns={\"jan\":\"m13\", \"feb\":\"m14\", \"mar\":\"m15\", \"apr\":\"m16\", \"may\":\"m17\", \"jun\":\"m18\", \"jul\":\"m19\",\"aug\":\"m20\",\"sep\":\"m21\",\"oct\":\"m22\",\"nov\":\"m23\", \"dec\":\"m24\"})\n",
    "onn_2017 = export_all[(export_all['mktyr'] == 2017.0) & (export_all['product']=='Onion')].reset_index()\n",
    "onn_2017_new = onn_2017[['jan','feb', 'mar','apr','may','jun','jul','aug','sep','oct', 'nov', 'dec']]\n",
    "ren_onn_2017 = onn_2017_new.rename(columns={\"jan\":\"m25\", \"feb\":\"m26\", \"mar\":\"m27\", \"apr\":\"m28\", \"may\":\"m29\", \"jun\":\"m30\", \"jul\":\"m31\",\"aug\":\"m32\",\"sep\":\"m33\",\"oct\":\"m34\",\"nov\":\"m35\", \"dec\":\"m36\"})\n",
    "onn_2018 = export_all[(export_all['mktyr'] == 2018.0) & (export_all['product']=='Onion')].reset_index()\n",
    "onn_2018_new = onn_2018[['jan','feb', 'mar','apr','may','jun','jul','aug','sep','oct', 'nov', 'dec']]\n",
    "ren_onn_2018 = onn_2018_new.rename(columns={\"jan\":\"m37\", \"feb\":\"m38\", \"mar\":\"m39\", \"apr\":\"m40\", \"may\":\"m41\", \"jun\":\"m42\", \"jul\":\"m43\",\"aug\":\"m44\",\"sep\":\"m45\",\"oct\":\"m46\",\"nov\":\"m47\", \"dec\":\"m48\"})\n",
    "onn = ren_onn_2015.join([ren_onn_2016, ren_onn_2017, ren_onn_2018], how='outer')\n"
   ]
  },
  {
   "cell_type": "code",
   "execution_count": 49,
   "metadata": {},
   "outputs": [],
   "source": [
    "onn = ren_onn_2015.join([ren_onn_2016, ren_onn_2017, ren_onn_2018], how='outer')\n",
    "trans_onn = broc.T \n",
    "onn_final = trans_onn.reset_index()\n",
    "onn_data = onn_final.rename(columns={\"index\": \"month\", 0: \"value\"})\n",
    "onn_data['mo'] = onn_data.index\n"
   ]
  },
  {
   "cell_type": "code",
   "execution_count": 50,
   "metadata": {},
   "outputs": [],
   "source": [
    "\n",
    "# #creating dataframe\n",
    "# onn_dt = onn_data.sort_index(ascending=True, axis=0)\n",
    "\n",
    "# new_onn_dt = pd.DataFrame(index=range(0,len(onn_dt)),columns=['mo', 'value'])\n",
    "# for i in range(0,len(onn_dt)):\n",
    "#     new_onn_dt['mo'][i] = new_onn_dt['mo'][i]\n",
    "#     new_onn_dt['value'][i] = new_onn_dt['value'][i]\n",
    "\n",
    "#     #setting index\n",
    "# new_onn_dt.index = new_onn_dt.mo\n",
    "# new_onn_dt.drop('mo', axis=1, inplace=True)\n",
    "# new_onn_dt\n",
    "onn_fin=onn_data[[\"mo\", \"value\"]]"
   ]
  },
  {
   "cell_type": "code",
   "execution_count": 51,
   "metadata": {},
   "outputs": [],
   "source": [
    "onn_fin.index = onn_fin.mo\n",
    "onn_fin.drop('mo', axis=1, inplace=True)\n",
    "onn_fin.head()\n",
    "onn_fin.to_csv('dset/onn.csv')"
   ]
  },
  {
   "cell_type": "code",
   "execution_count": 52,
   "metadata": {},
   "outputs": [],
   "source": [
    "value = onn_fin[\"value\"].values\n",
    "seq_len = 10\n",
    "sequence_length = seq_len + 1\n",
    "\n",
    "result = []\n",
    "for index in range(len(value) - sequence_length):\n",
    "    result.append(value[index: index + sequence_length])"
   ]
  },
  {
   "cell_type": "code",
   "execution_count": 53,
   "metadata": {},
   "outputs": [
    {
     "data": {
      "text/plain": [
       "((33, 10, 1), (4, 10, 1))"
      ]
     },
     "execution_count": 53,
     "metadata": {},
     "output_type": "execute_result"
    }
   ],
   "source": [
    "normalized_data = []\n",
    "for window in result:\n",
    "    normalized_window = [((float(p) / float(window[0])) - 1) for p in window]\n",
    "    normalized_data.append(normalized_window)\n",
    "\n",
    "result = np.array(normalized_data)\n",
    "\n",
    "# split train and test data\n",
    "row = int(round(result.shape[0] * 0.9))\n",
    "train = result[:row, :]\n",
    "np.random.shuffle(train)\n",
    "\n",
    "x_train = train[:, :-1]\n",
    "x_train = np.reshape(x_train, (x_train.shape[0], x_train.shape[1], 1))\n",
    "y_train = train[:, -1]\n",
    "\n",
    "x_test = result[row:, :-1]\n",
    "x_test = np.reshape(x_test, (x_test.shape[0], x_test.shape[1], 1))\n",
    "y_test = result[row:, -1]\n",
    "\n",
    "x_train.shape, x_test.shape"
   ]
  },
  {
   "cell_type": "code",
   "execution_count": 54,
   "metadata": {},
   "outputs": [
    {
     "name": "stdout",
     "output_type": "stream",
     "text": [
      "_________________________________________________________________\n",
      "Layer (type)                 Output Shape              Param #   \n",
      "=================================================================\n",
      "lstm_5 (LSTM)                (None, 10, 10)            480       \n",
      "_________________________________________________________________\n",
      "lstm_6 (LSTM)                (None, 24)                3360      \n",
      "_________________________________________________________________\n",
      "dense_3 (Dense)              (None, 1)                 25        \n",
      "=================================================================\n",
      "Total params: 3,865\n",
      "Trainable params: 3,865\n",
      "Non-trainable params: 0\n",
      "_________________________________________________________________\n"
     ]
    }
   ],
   "source": [
    "model = Sequential()\n",
    "\n",
    "model.add(LSTM(10, return_sequences=True, input_shape=(10, 1)))\n",
    "\n",
    "model.add(LSTM(24, return_sequences=False))\n",
    "\n",
    "model.add(Dense(1, activation='linear'))\n",
    "\n",
    "model.compile(loss='mse', metrics=['mean_squared_error'],optimizer='nadam')\n",
    "\n",
    "model.summary()"
   ]
  },
  {
   "cell_type": "code",
   "execution_count": 55,
   "metadata": {},
   "outputs": [
    {
     "name": "stdout",
     "output_type": "stream",
     "text": [
      "Train on 33 samples, validate on 4 samples\n",
      "Epoch 1/30\n",
      "33/33 [==============================] - 2s 69ms/step - loss: 0.0634 - mean_squared_error: 0.0634 - val_loss: 0.0171 - val_mean_squared_error: 0.0171\n",
      "Epoch 2/30\n",
      "33/33 [==============================] - 0s 5ms/step - loss: 0.0593 - mean_squared_error: 0.0593 - val_loss: 0.0134 - val_mean_squared_error: 0.0134\n",
      "Epoch 3/30\n",
      "33/33 [==============================] - 0s 4ms/step - loss: 0.0572 - mean_squared_error: 0.0572 - val_loss: 0.0099 - val_mean_squared_error: 0.0099\n",
      "Epoch 4/30\n",
      "33/33 [==============================] - 0s 4ms/step - loss: 0.0532 - mean_squared_error: 0.0532 - val_loss: 0.0056 - val_mean_squared_error: 0.0056\n",
      "Epoch 5/30\n",
      "33/33 [==============================] - 0s 3ms/step - loss: 0.0498 - mean_squared_error: 0.0498 - val_loss: 0.0043 - val_mean_squared_error: 0.0043\n",
      "Epoch 6/30\n",
      "33/33 [==============================] - 0s 3ms/step - loss: 0.0449 - mean_squared_error: 0.0449 - val_loss: 0.0052 - val_mean_squared_error: 0.0052\n",
      "Epoch 7/30\n",
      "33/33 [==============================] - 0s 3ms/step - loss: 0.0409 - mean_squared_error: 0.0409 - val_loss: 0.0220 - val_mean_squared_error: 0.0220\n",
      "Epoch 8/30\n",
      "33/33 [==============================] - 0s 3ms/step - loss: 0.0433 - mean_squared_error: 0.0433 - val_loss: 0.0084 - val_mean_squared_error: 0.0084\n",
      "Epoch 9/30\n",
      "33/33 [==============================] - 0s 3ms/step - loss: 0.0420 - mean_squared_error: 0.0420 - val_loss: 0.0154 - val_mean_squared_error: 0.0154\n",
      "Epoch 10/30\n",
      "33/33 [==============================] - 0s 3ms/step - loss: 0.0428 - mean_squared_error: 0.0428 - val_loss: 0.0199 - val_mean_squared_error: 0.0199\n",
      "Epoch 11/30\n",
      "33/33 [==============================] - 0s 3ms/step - loss: 0.0427 - mean_squared_error: 0.0427 - val_loss: 0.0204 - val_mean_squared_error: 0.0204\n",
      "Epoch 12/30\n",
      "33/33 [==============================] - 0s 3ms/step - loss: 0.0420 - mean_squared_error: 0.0420 - val_loss: 0.0137 - val_mean_squared_error: 0.0137\n",
      "Epoch 13/30\n",
      "33/33 [==============================] - 0s 3ms/step - loss: 0.0399 - mean_squared_error: 0.0399 - val_loss: 0.0095 - val_mean_squared_error: 0.0095\n",
      "Epoch 14/30\n",
      "33/33 [==============================] - 0s 3ms/step - loss: 0.0395 - mean_squared_error: 0.0395 - val_loss: 0.0107 - val_mean_squared_error: 0.0107\n",
      "Epoch 15/30\n",
      "33/33 [==============================] - 0s 3ms/step - loss: 0.0403 - mean_squared_error: 0.0403 - val_loss: 0.0129 - val_mean_squared_error: 0.0129\n",
      "Epoch 16/30\n",
      "33/33 [==============================] - 0s 3ms/step - loss: 0.0414 - mean_squared_error: 0.0414 - val_loss: 0.0149 - val_mean_squared_error: 0.0149\n",
      "Epoch 17/30\n",
      "33/33 [==============================] - 0s 3ms/step - loss: 0.0396 - mean_squared_error: 0.0396 - val_loss: 0.0104 - val_mean_squared_error: 0.0104\n",
      "Epoch 18/30\n",
      "33/33 [==============================] - 0s 3ms/step - loss: 0.0397 - mean_squared_error: 0.0397 - val_loss: 0.0086 - val_mean_squared_error: 0.0086\n",
      "Epoch 19/30\n",
      "33/33 [==============================] - 0s 3ms/step - loss: 0.0399 - mean_squared_error: 0.0399 - val_loss: 0.0137 - val_mean_squared_error: 0.0137\n",
      "Epoch 20/30\n",
      "33/33 [==============================] - 0s 3ms/step - loss: 0.0387 - mean_squared_error: 0.0387 - val_loss: 0.0148 - val_mean_squared_error: 0.0148\n",
      "Epoch 21/30\n",
      "33/33 [==============================] - 0s 3ms/step - loss: 0.0396 - mean_squared_error: 0.0396 - val_loss: 0.0172 - val_mean_squared_error: 0.0172\n",
      "Epoch 22/30\n",
      "33/33 [==============================] - 0s 3ms/step - loss: 0.0392 - mean_squared_error: 0.0392 - val_loss: 0.0093 - val_mean_squared_error: 0.0093\n",
      "Epoch 23/30\n",
      "33/33 [==============================] - 0s 3ms/step - loss: 0.0389 - mean_squared_error: 0.0389 - val_loss: 0.0143 - val_mean_squared_error: 0.0143\n",
      "Epoch 24/30\n",
      "33/33 [==============================] - 0s 3ms/step - loss: 0.0390 - mean_squared_error: 0.0390 - val_loss: 0.0184 - val_mean_squared_error: 0.0184\n",
      "Epoch 25/30\n",
      "33/33 [==============================] - 0s 3ms/step - loss: 0.0397 - mean_squared_error: 0.0397 - val_loss: 0.0143 - val_mean_squared_error: 0.0143\n",
      "Epoch 26/30\n",
      "33/33 [==============================] - 0s 3ms/step - loss: 0.0385 - mean_squared_error: 0.0385 - val_loss: 0.0108 - val_mean_squared_error: 0.0108\n",
      "Epoch 27/30\n",
      "33/33 [==============================] - 0s 3ms/step - loss: 0.0385 - mean_squared_error: 0.0385 - val_loss: 0.0132 - val_mean_squared_error: 0.0132\n",
      "Epoch 28/30\n",
      "33/33 [==============================] - 0s 3ms/step - loss: 0.0384 - mean_squared_error: 0.0384 - val_loss: 0.0101 - val_mean_squared_error: 0.0101\n",
      "Epoch 29/30\n",
      "33/33 [==============================] - 0s 4ms/step - loss: 0.0394 - mean_squared_error: 0.0394 - val_loss: 0.0106 - val_mean_squared_error: 0.0106\n",
      "Epoch 30/30\n",
      "33/33 [==============================] - 0s 3ms/step - loss: 0.0400 - mean_squared_error: 0.0400 - val_loss: 0.0058 - val_mean_squared_error: 0.0058\n"
     ]
    },
    {
     "data": {
      "text/plain": [
       "<keras.callbacks.History at 0x107a3aeb8>"
      ]
     },
     "execution_count": 55,
     "metadata": {},
     "output_type": "execute_result"
    }
   ],
   "source": [
    "model.fit(x_train, y_train,\n",
    "    validation_data=(x_test, y_test),\n",
    "    batch_size=10,\n",
    "    epochs=30)"
   ]
  },
  {
   "cell_type": "code",
   "execution_count": 56,
   "metadata": {},
   "outputs": [],
   "source": [
    "model.save(\"onn_model_trained.h5\")"
   ]
  },
  {
   "cell_type": "code",
   "execution_count": 57,
   "metadata": {},
   "outputs": [
    {
     "data": {
      "image/png": "[encoded data removed]",
      "text/plain": [
       "<Figure size 1440x720 with 1 Axes>"
      ]
     },
     "metadata": {},
     "output_type": "display_data"
    }
   ],
   "source": [
    "pred = model.predict(x_test)\n",
    "\n",
    "fig = plt.figure(facecolor='white', figsize=(20, 10))\n",
    "ax = fig.add_subplot(111)\n",
    "ax.plot(y_test, label='True')\n",
    "ax.plot(pred, label='Prediction')\n",
    "plt.title('Onion')\n",
    "ax.legend()\n",
    "plt.show()"
   ]
  },
  {
   "cell_type": "code",
   "execution_count": 58,
   "metadata": {},
   "outputs": [],
   "source": [
    "pepper_2015 = export_all[(export_all['mktyr'] == 2015.0) & (export_all['product']=='Pepper')]\n",
    "pepp_2015 = export_all[(export_all['mktyr'] == 2015.0) & (export_all['product']=='Pepper')].reset_index()\n",
    "pepp_2015_new = pepp_2015[['jan','feb', 'mar','apr','may','jun','jul','aug','sep','oct', 'nov', 'dec']]\n",
    "ren_pepp_2015 = pepp_2015_new.rename(columns={\"jan\":\"m1\", \"feb\":\"m2\", \"mar\":\"m3\", \"apr\":\"m4\", \"may\":\"m5\", \"jun\":\"m6\", \"jul\":\"m7\",\"aug\":\"m8\",\"sep\":\"m9\",\"oct\":\"m10\",\"nov\":\"m11\", \"dec\":\"m12\"})\n",
    "pepp_2016 = export_all[(export_all['mktyr'] == 2016.0) & (export_all['product']=='Onion')].reset_index()\n",
    "pepp_2016_new = pepp_2016[['jan','feb', 'mar','apr','may','jun','jul','aug','sep','oct', 'nov', 'dec']]\n",
    "ren_pepp_2016 = pepp_2016_new.rename(columns={\"jan\":\"m13\", \"feb\":\"m14\", \"mar\":\"m15\", \"apr\":\"m16\", \"may\":\"m17\", \"jun\":\"m18\", \"jul\":\"m19\",\"aug\":\"m20\",\"sep\":\"m21\",\"oct\":\"m22\",\"nov\":\"m23\", \"dec\":\"m24\"})\n",
    "pepp_2017 = export_all[(export_all['mktyr'] == 2017.0) & (export_all['product']=='Onion')].reset_index()\n",
    "pepp_2017_new = pepp_2017[['jan','feb', 'mar','apr','may','jun','jul','aug','sep','oct', 'nov', 'dec']]\n",
    "ren_pepp_2017 = pepp_2017_new.rename(columns={\"jan\":\"m25\", \"feb\":\"m26\", \"mar\":\"m27\", \"apr\":\"m28\", \"may\":\"m29\", \"jun\":\"m30\", \"jul\":\"m31\",\"aug\":\"m32\",\"sep\":\"m33\",\"oct\":\"m34\",\"nov\":\"m35\", \"dec\":\"m36\"})\n",
    "pepp_2018 = export_all[(export_all['mktyr'] == 2018.0) & (export_all['product']=='Onion')].reset_index()\n",
    "pepp_2018_new = pepp_2018[['jan','feb', 'mar','apr','may','jun','jul','aug','sep','oct', 'nov', 'dec']]\n",
    "ren_pepp_2018 = pepp_2018_new.rename(columns={\"jan\":\"m37\", \"feb\":\"m38\", \"mar\":\"m39\", \"apr\":\"m40\", \"may\":\"m41\", \"jun\":\"m42\", \"jul\":\"m43\",\"aug\":\"m44\",\"sep\":\"m45\",\"oct\":\"m46\",\"nov\":\"m47\", \"dec\":\"m48\"})\n",
    "pepp = ren_pepp_2015.join([ren_pepp_2016, ren_pepp_2017, ren_pepp_2018], how='outer')\n"
   ]
  },
  {
   "cell_type": "code",
   "execution_count": 59,
   "metadata": {},
   "outputs": [],
   "source": [
    "\n",
    "trans_pepp = pepp.T \n",
    "pepp_final = trans_pepp.reset_index()\n",
    "pepp_data = pepp_final.rename(columns={\"index\": \"month\", 0: \"value\"})\n",
    "pepp_data['mo'] = pepp_data.index\n",
    "pepp_fin=pepp_data[[\"mo\", \"value\"]]\n",
    "pepp_fin.index = pepp_fin.mo\n",
    "pepp_fin.drop('mo', axis=1, inplace=True)\n",
    "pepp_fin.to_csv('dset/pepp.csv')\n"
   ]
  },
  {
   "cell_type": "code",
   "execution_count": 60,
   "metadata": {},
   "outputs": [],
   "source": [
    "value = pepp_fin[\"value\"].values\n",
    "seq_len = 10\n",
    "sequence_length = seq_len + 1\n",
    "\n",
    "result = []\n",
    "for index in range(len(value) - sequence_length):\n",
    "    result.append(value[index: index + sequence_length])"
   ]
  },
  {
   "cell_type": "code",
   "execution_count": 61,
   "metadata": {},
   "outputs": [
    {
     "data": {
      "text/plain": [
       "((33, 10, 1), (4, 10, 1))"
      ]
     },
     "execution_count": 61,
     "metadata": {},
     "output_type": "execute_result"
    }
   ],
   "source": [
    "normalized_data = []\n",
    "for window in result:\n",
    "    normalized_window = [((float(p) / float(window[0])) - 1) for p in window]\n",
    "    normalized_data.append(normalized_window)\n",
    "\n",
    "result = np.array(normalized_data)\n",
    "\n",
    "# split train and test data\n",
    "row = int(round(result.shape[0] * 0.9))\n",
    "train = result[:row, :]\n",
    "np.random.shuffle(train)\n",
    "\n",
    "x_train = train[:, :-1]\n",
    "x_train = np.reshape(x_train, (x_train.shape[0], x_train.shape[1], 1))\n",
    "y_train = train[:, -1]\n",
    "\n",
    "x_test = result[row:, :-1]\n",
    "x_test = np.reshape(x_test, (x_test.shape[0], x_test.shape[1], 1))\n",
    "y_test = result[row:, -1]\n",
    "\n",
    "x_train.shape, x_test.shape"
   ]
  },
  {
   "cell_type": "code",
   "execution_count": 62,
   "metadata": {},
   "outputs": [
    {
     "name": "stdout",
     "output_type": "stream",
     "text": [
      "_________________________________________________________________\n",
      "Layer (type)                 Output Shape              Param #   \n",
      "=================================================================\n",
      "lstm_7 (LSTM)                (None, 10, 10)            480       \n",
      "_________________________________________________________________\n",
      "lstm_8 (LSTM)                (None, 24)                3360      \n",
      "_________________________________________________________________\n",
      "dense_4 (Dense)              (None, 1)                 25        \n",
      "=================================================================\n",
      "Total params: 3,865\n",
      "Trainable params: 3,865\n",
      "Non-trainable params: 0\n",
      "_________________________________________________________________\n"
     ]
    }
   ],
   "source": [
    "model = Sequential()\n",
    "\n",
    "model.add(LSTM(10, return_sequences=True, input_shape=(10, 1)))\n",
    "\n",
    "model.add(LSTM(24, return_sequences=False))\n",
    "\n",
    "model.add(Dense(1, activation='linear'))\n",
    "\n",
    "model.compile(loss='mse', metrics=['mean_squared_error'],optimizer='nadam')\n",
    "\n",
    "model.summary()"
   ]
  },
  {
   "cell_type": "code",
   "execution_count": 63,
   "metadata": {},
   "outputs": [
    {
     "name": "stdout",
     "output_type": "stream",
     "text": [
      "Train on 33 samples, validate on 4 samples\n",
      "Epoch 1/30\n",
      "33/33 [==============================] - 3s 87ms/step - loss: 2.7218 - mean_squared_error: 2.7218 - val_loss: 0.1286 - val_mean_squared_error: 0.1286\n",
      "Epoch 2/30\n",
      "33/33 [==============================] - 0s 3ms/step - loss: 2.5330 - mean_squared_error: 2.5330 - val_loss: 0.1099 - val_mean_squared_error: 0.1099\n",
      "Epoch 3/30\n",
      "33/33 [==============================] - 0s 3ms/step - loss: 2.3390 - mean_squared_error: 2.3390 - val_loss: 0.0856 - val_mean_squared_error: 0.0856\n",
      "Epoch 4/30\n",
      "33/33 [==============================] - 0s 3ms/step - loss: 2.1108 - mean_squared_error: 2.1108 - val_loss: 0.0650 - val_mean_squared_error: 0.0650\n",
      "Epoch 5/30\n",
      "33/33 [==============================] - 0s 3ms/step - loss: 1.8858 - mean_squared_error: 1.8858 - val_loss: 0.0441 - val_mean_squared_error: 0.0441\n",
      "Epoch 6/30\n",
      "33/33 [==============================] - 0s 3ms/step - loss: 1.6355 - mean_squared_error: 1.6355 - val_loss: 0.0361 - val_mean_squared_error: 0.0361\n",
      "Epoch 7/30\n",
      "33/33 [==============================] - 0s 3ms/step - loss: 1.4216 - mean_squared_error: 1.4216 - val_loss: 0.0211 - val_mean_squared_error: 0.0211\n",
      "Epoch 8/30\n",
      "33/33 [==============================] - 0s 3ms/step - loss: 1.2591 - mean_squared_error: 1.2591 - val_loss: 0.0312 - val_mean_squared_error: 0.0312\n",
      "Epoch 9/30\n",
      "33/33 [==============================] - 0s 3ms/step - loss: 1.1439 - mean_squared_error: 1.1439 - val_loss: 0.0386 - val_mean_squared_error: 0.0386\n",
      "Epoch 10/30\n",
      "33/33 [==============================] - 0s 3ms/step - loss: 0.9797 - mean_squared_error: 0.9797 - val_loss: 0.0511 - val_mean_squared_error: 0.0511\n",
      "Epoch 11/30\n",
      "33/33 [==============================] - 0s 3ms/step - loss: 0.9091 - mean_squared_error: 0.9091 - val_loss: 0.0721 - val_mean_squared_error: 0.0721\n",
      "Epoch 12/30\n",
      "33/33 [==============================] - 0s 3ms/step - loss: 0.8099 - mean_squared_error: 0.8099 - val_loss: 0.0789 - val_mean_squared_error: 0.0789\n",
      "Epoch 13/30\n",
      "33/33 [==============================] - 0s 3ms/step - loss: 0.7068 - mean_squared_error: 0.7068 - val_loss: 0.0927 - val_mean_squared_error: 0.0927\n",
      "Epoch 14/30\n",
      "33/33 [==============================] - 0s 3ms/step - loss: 0.6077 - mean_squared_error: 0.6077 - val_loss: 0.1027 - val_mean_squared_error: 0.1027\n",
      "Epoch 15/30\n",
      "33/33 [==============================] - 0s 3ms/step - loss: 0.5123 - mean_squared_error: 0.5123 - val_loss: 0.1026 - val_mean_squared_error: 0.1026\n",
      "Epoch 16/30\n",
      "33/33 [==============================] - 0s 3ms/step - loss: 0.4563 - mean_squared_error: 0.4563 - val_loss: 0.1098 - val_mean_squared_error: 0.1098\n",
      "Epoch 17/30\n",
      "33/33 [==============================] - 0s 3ms/step - loss: 0.4017 - mean_squared_error: 0.4017 - val_loss: 0.1186 - val_mean_squared_error: 0.1186\n",
      "Epoch 18/30\n",
      "33/33 [==============================] - 0s 3ms/step - loss: 0.3492 - mean_squared_error: 0.3492 - val_loss: 0.1175 - val_mean_squared_error: 0.1175\n",
      "Epoch 19/30\n",
      "33/33 [==============================] - 0s 4ms/step - loss: 0.2982 - mean_squared_error: 0.2982 - val_loss: 0.1194 - val_mean_squared_error: 0.1194\n",
      "Epoch 20/30\n",
      "33/33 [==============================] - 0s 4ms/step - loss: 0.2687 - mean_squared_error: 0.2687 - val_loss: 0.1184 - val_mean_squared_error: 0.1184\n",
      "Epoch 21/30\n",
      "33/33 [==============================] - 0s 3ms/step - loss: 0.2445 - mean_squared_error: 0.2445 - val_loss: 0.1205 - val_mean_squared_error: 0.1205\n",
      "Epoch 22/30\n",
      "33/33 [==============================] - 0s 3ms/step - loss: 0.2248 - mean_squared_error: 0.2248 - val_loss: 0.1226 - val_mean_squared_error: 0.1226\n",
      "Epoch 23/30\n",
      "33/33 [==============================] - 0s 4ms/step - loss: 0.2101 - mean_squared_error: 0.2101 - val_loss: 0.1230 - val_mean_squared_error: 0.1230\n",
      "Epoch 24/30\n",
      "33/33 [==============================] - 0s 3ms/step - loss: 0.1999 - mean_squared_error: 0.1999 - val_loss: 0.1161 - val_mean_squared_error: 0.1161\n",
      "Epoch 25/30\n",
      "33/33 [==============================] - 0s 3ms/step - loss: 0.1887 - mean_squared_error: 0.1887 - val_loss: 0.1131 - val_mean_squared_error: 0.1131\n",
      "Epoch 26/30\n",
      "33/33 [==============================] - 0s 3ms/step - loss: 0.1842 - mean_squared_error: 0.1842 - val_loss: 0.1096 - val_mean_squared_error: 0.1096\n",
      "Epoch 27/30\n",
      "33/33 [==============================] - 0s 3ms/step - loss: 0.1778 - mean_squared_error: 0.1778 - val_loss: 0.1059 - val_mean_squared_error: 0.1059\n",
      "Epoch 28/30\n",
      "33/33 [==============================] - 0s 3ms/step - loss: 0.1727 - mean_squared_error: 0.1727 - val_loss: 0.1035 - val_mean_squared_error: 0.1035\n",
      "Epoch 29/30\n",
      "33/33 [==============================] - 0s 3ms/step - loss: 0.1721 - mean_squared_error: 0.1721 - val_loss: 0.1004 - val_mean_squared_error: 0.1004\n",
      "Epoch 30/30\n",
      "33/33 [==============================] - 0s 3ms/step - loss: 0.1669 - mean_squared_error: 0.1669 - val_loss: 0.0938 - val_mean_squared_error: 0.0938\n"
     ]
    },
    {
     "data": {
      "text/plain": [
       "<keras.callbacks.History at 0x1a2e75fef0>"
      ]
     },
     "execution_count": 63,
     "metadata": {},
     "output_type": "execute_result"
    }
   ],
   "source": [
    "model.fit(x_train, y_train,\n",
    "    validation_data=(x_test, y_test),\n",
    "    batch_size=10,\n",
    "    epochs=30)"
   ]
  },
  {
   "cell_type": "code",
   "execution_count": 64,
   "metadata": {},
   "outputs": [],
   "source": [
    "model.save(\"pepp_model_trained.h5\")"
   ]
  },
  {
   "cell_type": "code",
   "execution_count": 65,
   "metadata": {},
   "outputs": [
    {
     "data": {
      "image/png": "[encoded data removed]",
      "text/plain": [
       "<Figure size 1440x720 with 1 Axes>"
      ]
     },
     "metadata": {},
     "output_type": "display_data"
    }
   ],
   "source": [
    "pred = model.predict(x_test)\n",
    "\n",
    "fig = plt.figure(facecolor='white', figsize=(20, 10))\n",
    "ax = fig.add_subplot(111)\n",
    "ax.plot(y_test, label='True')\n",
    "ax.plot(pred, label='Prediction')\n",
    "plt.title('Pepper')\n",
    "ax.legend()\n",
    "plt.show()"
   ]
  },
  {
   "cell_type": "code",
   "execution_count": 66,
   "metadata": {},
   "outputs": [],
   "source": [
    "potato_2015 = export_all[(export_all['mktyr'] == 2015.0) & (export_all['product']=='Potato')]\n",
    "pot_2015 = export_all[(export_all['mktyr'] == 2015.0) & (export_all['product']=='Potato')].reset_index()\n",
    "pot_2015_new = pot_2015[['jan','feb', 'mar','apr','may','jun','jul','aug','sep','oct', 'nov', 'dec']]\n",
    "ren_pot_2015 = pot_2015_new.rename(columns={\"jan\":\"m1\", \"feb\":\"m2\", \"mar\":\"m3\", \"apr\":\"m4\", \"may\":\"m5\", \"jun\":\"m6\", \"jul\":\"m7\",\"aug\":\"m8\",\"sep\":\"m9\",\"oct\":\"m10\",\"nov\":\"m11\", \"dec\":\"m12\"})\n",
    "pot_2016 = export_all[(export_all['mktyr'] == 2016.0) & (export_all['product']=='Onion')].reset_index()\n",
    "pot_2016_new = pot_2016[['jan','feb', 'mar','apr','may','jun','jul','aug','sep','oct', 'nov', 'dec']]\n",
    "ren_pot_2016 = pot_2016_new.rename(columns={\"jan\":\"m13\", \"feb\":\"m14\", \"mar\":\"m15\", \"apr\":\"m16\", \"may\":\"m17\", \"jun\":\"m18\", \"jul\":\"m19\",\"aug\":\"m20\",\"sep\":\"m21\",\"oct\":\"m22\",\"nov\":\"m23\", \"dec\":\"m24\"})\n",
    "pot_2017 = export_all[(export_all['mktyr'] == 2017.0) & (export_all['product']=='Onion')].reset_index()\n",
    "pot_2017_new = pot_2017[['jan','feb', 'mar','apr','may','jun','jul','aug','sep','oct', 'nov', 'dec']]\n",
    "ren_pot_2017 = pot_2017_new.rename(columns={\"jan\":\"m25\", \"feb\":\"m26\", \"mar\":\"m27\", \"apr\":\"m28\", \"may\":\"m29\", \"jun\":\"m30\", \"jul\":\"m31\",\"aug\":\"m32\",\"sep\":\"m33\",\"oct\":\"m34\",\"nov\":\"m35\", \"dec\":\"m36\"})\n",
    "pot_2018 = export_all[(export_all['mktyr'] == 2018.0) & (export_all['product']=='Onion')].reset_index()\n",
    "pot_2018_new = pot_2018[['jan','feb', 'mar','apr','may','jun','jul','aug','sep','oct', 'nov', 'dec']]\n",
    "ren_pot_2018 = pot_2018_new.rename(columns={\"jan\":\"m37\", \"feb\":\"m38\", \"mar\":\"m39\", \"apr\":\"m40\", \"may\":\"m41\", \"jun\":\"m42\", \"jul\":\"m43\",\"aug\":\"m44\",\"sep\":\"m45\",\"oct\":\"m46\",\"nov\":\"m47\", \"dec\":\"m48\"})\n",
    "pot = ren_pot_2015.join([ren_pot_2016, ren_pot_2017, ren_pot_2018], how='outer')\n"
   ]
  },
  {
   "cell_type": "code",
   "execution_count": 67,
   "metadata": {},
   "outputs": [],
   "source": [
    "trans_pot = pot.T \n",
    "pot_final = trans_pot.reset_index()\n",
    "pot_data = pot_final.rename(columns={\"index\": \"month\", 0: \"value\"})\n",
    "pot_data['mo'] = pot_data.index\n",
    "pot_fin=pot_data[[\"mo\", \"value\"]]\n",
    "pot_fin.index = pot_fin.mo\n",
    "pot_fin.drop('mo', axis=1, inplace=True)\n",
    "pot_fin.to_csv('dset/pot.csv')\n"
   ]
  },
  {
   "cell_type": "code",
   "execution_count": 68,
   "metadata": {},
   "outputs": [],
   "source": [
    "value = pot_fin[\"value\"].values\n",
    "seq_len = 10\n",
    "sequence_length = seq_len + 1\n",
    "\n",
    "result = []\n",
    "for index in range(len(value) - sequence_length):\n",
    "    result.append(value[index: index + sequence_length])"
   ]
  },
  {
   "cell_type": "code",
   "execution_count": 69,
   "metadata": {},
   "outputs": [
    {
     "data": {
      "text/plain": [
       "((33, 10, 1), (4, 10, 1))"
      ]
     },
     "execution_count": 69,
     "metadata": {},
     "output_type": "execute_result"
    }
   ],
   "source": [
    "normalized_data = []\n",
    "for window in result:\n",
    "    normalized_window = [((float(p) / float(window[0])) - 1) for p in window]\n",
    "    normalized_data.append(normalized_window)\n",
    "\n",
    "result = np.array(normalized_data)\n",
    "\n",
    "# split train and test data\n",
    "row = int(round(result.shape[0] * 0.9))\n",
    "train = result[:row, :]\n",
    "np.random.shuffle(train)\n",
    "\n",
    "x_train = train[:, :-1]\n",
    "x_train = np.reshape(x_train, (x_train.shape[0], x_train.shape[1], 1))\n",
    "y_train = train[:, -1]\n",
    "\n",
    "x_test = result[row:, :-1]\n",
    "x_test = np.reshape(x_test, (x_test.shape[0], x_test.shape[1], 1))\n",
    "y_test = result[row:, -1]\n",
    "\n",
    "x_train.shape, x_test.shape"
   ]
  },
  {
   "cell_type": "code",
   "execution_count": 70,
   "metadata": {},
   "outputs": [
    {
     "name": "stdout",
     "output_type": "stream",
     "text": [
      "_________________________________________________________________\n",
      "Layer (type)                 Output Shape              Param #   \n",
      "=================================================================\n",
      "lstm_9 (LSTM)                (None, 10, 10)            480       \n",
      "_________________________________________________________________\n",
      "lstm_10 (LSTM)               (None, 24)                3360      \n",
      "_________________________________________________________________\n",
      "dense_5 (Dense)              (None, 1)                 25        \n",
      "=================================================================\n",
      "Total params: 3,865\n",
      "Trainable params: 3,865\n",
      "Non-trainable params: 0\n",
      "_________________________________________________________________\n"
     ]
    }
   ],
   "source": [
    "model = Sequential()\n",
    "\n",
    "model.add(LSTM(10, return_sequences=True, input_shape=(10, 1)))\n",
    "\n",
    "model.add(LSTM(24, return_sequences=False))\n",
    "\n",
    "model.add(Dense(1, activation='linear'))\n",
    "\n",
    "model.compile(loss='mse', metrics=['mean_squared_error'],optimizer='nadam')\n",
    "\n",
    "model.summary()"
   ]
  },
  {
   "cell_type": "code",
   "execution_count": 71,
   "metadata": {},
   "outputs": [
    {
     "name": "stdout",
     "output_type": "stream",
     "text": [
      "Train on 33 samples, validate on 4 samples\n",
      "Epoch 1/30\n",
      "33/33 [==============================] - 3s 89ms/step - loss: 0.1190 - mean_squared_error: 0.1190 - val_loss: 0.1625 - val_mean_squared_error: 0.1625\n",
      "Epoch 2/30\n",
      "33/33 [==============================] - 0s 3ms/step - loss: 0.1116 - mean_squared_error: 0.1116 - val_loss: 0.1560 - val_mean_squared_error: 0.1560\n",
      "Epoch 3/30\n",
      "33/33 [==============================] - 0s 3ms/step - loss: 0.1066 - mean_squared_error: 0.1066 - val_loss: 0.1496 - val_mean_squared_error: 0.1496\n",
      "Epoch 4/30\n",
      "33/33 [==============================] - 0s 3ms/step - loss: 0.1000 - mean_squared_error: 0.1000 - val_loss: 0.1404 - val_mean_squared_error: 0.1404\n",
      "Epoch 5/30\n",
      "33/33 [==============================] - 0s 3ms/step - loss: 0.0958 - mean_squared_error: 0.0958 - val_loss: 0.1299 - val_mean_squared_error: 0.1299\n",
      "Epoch 6/30\n",
      "33/33 [==============================] - 0s 3ms/step - loss: 0.0922 - mean_squared_error: 0.0922 - val_loss: 0.1176 - val_mean_squared_error: 0.1176\n",
      "Epoch 7/30\n",
      "33/33 [==============================] - 0s 3ms/step - loss: 0.0890 - mean_squared_error: 0.0890 - val_loss: 0.1074 - val_mean_squared_error: 0.1074\n",
      "Epoch 8/30\n",
      "33/33 [==============================] - 0s 3ms/step - loss: 0.0884 - mean_squared_error: 0.0884 - val_loss: 0.1019 - val_mean_squared_error: 0.1019\n",
      "Epoch 9/30\n",
      "33/33 [==============================] - 0s 3ms/step - loss: 0.0841 - mean_squared_error: 0.0841 - val_loss: 0.1065 - val_mean_squared_error: 0.1065\n",
      "Epoch 10/30\n",
      "33/33 [==============================] - 0s 3ms/step - loss: 0.0800 - mean_squared_error: 0.0800 - val_loss: 0.1039 - val_mean_squared_error: 0.1039\n",
      "Epoch 11/30\n",
      "33/33 [==============================] - 0s 3ms/step - loss: 0.0762 - mean_squared_error: 0.0762 - val_loss: 0.0987 - val_mean_squared_error: 0.0987\n",
      "Epoch 12/30\n",
      "33/33 [==============================] - 0s 3ms/step - loss: 0.0723 - mean_squared_error: 0.0723 - val_loss: 0.0838 - val_mean_squared_error: 0.0838\n",
      "Epoch 13/30\n",
      "33/33 [==============================] - 0s 3ms/step - loss: 0.0687 - mean_squared_error: 0.0687 - val_loss: 0.0767 - val_mean_squared_error: 0.0767\n",
      "Epoch 14/30\n",
      "33/33 [==============================] - 0s 3ms/step - loss: 0.0641 - mean_squared_error: 0.0641 - val_loss: 0.0623 - val_mean_squared_error: 0.0623\n",
      "Epoch 15/30\n",
      "33/33 [==============================] - 0s 3ms/step - loss: 0.0604 - mean_squared_error: 0.0604 - val_loss: 0.0532 - val_mean_squared_error: 0.0532\n",
      "Epoch 16/30\n",
      "33/33 [==============================] - 0s 3ms/step - loss: 0.0561 - mean_squared_error: 0.0561 - val_loss: 0.0566 - val_mean_squared_error: 0.0566\n",
      "Epoch 17/30\n",
      "33/33 [==============================] - 0s 3ms/step - loss: 0.0507 - mean_squared_error: 0.0507 - val_loss: 0.0463 - val_mean_squared_error: 0.0463\n",
      "Epoch 18/30\n",
      "33/33 [==============================] - 0s 3ms/step - loss: 0.0463 - mean_squared_error: 0.0463 - val_loss: 0.0167 - val_mean_squared_error: 0.0167\n",
      "Epoch 19/30\n",
      "33/33 [==============================] - 0s 3ms/step - loss: 0.0405 - mean_squared_error: 0.0405 - val_loss: 0.0068 - val_mean_squared_error: 0.0068\n",
      "Epoch 20/30\n",
      "33/33 [==============================] - 0s 3ms/step - loss: 0.0384 - mean_squared_error: 0.0384 - val_loss: 0.0060 - val_mean_squared_error: 0.0060\n",
      "Epoch 21/30\n",
      "33/33 [==============================] - 0s 3ms/step - loss: 0.0355 - mean_squared_error: 0.0355 - val_loss: 0.0152 - val_mean_squared_error: 0.0152\n",
      "Epoch 22/30\n",
      "33/33 [==============================] - 0s 3ms/step - loss: 0.0327 - mean_squared_error: 0.0327 - val_loss: 0.0097 - val_mean_squared_error: 0.0097\n",
      "Epoch 23/30\n",
      "33/33 [==============================] - 0s 3ms/step - loss: 0.0324 - mean_squared_error: 0.0324 - val_loss: 0.0267 - val_mean_squared_error: 0.0267\n",
      "Epoch 24/30\n",
      "33/33 [==============================] - 0s 3ms/step - loss: 0.0354 - mean_squared_error: 0.0354 - val_loss: 0.0135 - val_mean_squared_error: 0.0135\n",
      "Epoch 25/30\n",
      "33/33 [==============================] - 0s 3ms/step - loss: 0.0353 - mean_squared_error: 0.0353 - val_loss: 0.0217 - val_mean_squared_error: 0.0217\n",
      "Epoch 26/30\n",
      "33/33 [==============================] - 0s 3ms/step - loss: 0.0307 - mean_squared_error: 0.0307 - val_loss: 0.0230 - val_mean_squared_error: 0.0230\n",
      "Epoch 27/30\n",
      "33/33 [==============================] - 0s 3ms/step - loss: 0.0291 - mean_squared_error: 0.0291 - val_loss: 0.0105 - val_mean_squared_error: 0.0105\n",
      "Epoch 28/30\n",
      "33/33 [==============================] - 0s 3ms/step - loss: 0.0295 - mean_squared_error: 0.0295 - val_loss: 0.0100 - val_mean_squared_error: 0.0100\n",
      "Epoch 29/30\n",
      "33/33 [==============================] - 0s 3ms/step - loss: 0.0277 - mean_squared_error: 0.0277 - val_loss: 0.0342 - val_mean_squared_error: 0.0342\n",
      "Epoch 30/30\n",
      "33/33 [==============================] - 0s 3ms/step - loss: 0.0286 - mean_squared_error: 0.0286 - val_loss: 0.0138 - val_mean_squared_error: 0.0138\n"
     ]
    },
    {
     "data": {
      "text/plain": [
       "<keras.callbacks.History at 0x1a2c6b2ef0>"
      ]
     },
     "execution_count": 71,
     "metadata": {},
     "output_type": "execute_result"
    }
   ],
   "source": [
    "model.fit(x_train, y_train,\n",
    "    validation_data=(x_test, y_test),\n",
    "    batch_size=10,\n",
    "    epochs=30)"
   ]
  },
  {
   "cell_type": "code",
   "execution_count": 72,
   "metadata": {},
   "outputs": [],
   "source": [
    "model.save(\"pop_model_trained.h5\")"
   ]
  },
  {
   "cell_type": "code",
   "execution_count": 73,
   "metadata": {},
   "outputs": [
    {
     "data": {
      "image/png": "[encoded data removed]",
      "text/plain": [
       "<Figure size 1440x720 with 1 Axes>"
      ]
     },
     "metadata": {},
     "output_type": "display_data"
    }
   ],
   "source": [
    "pred = model.predict(x_test)\n",
    "\n",
    "fig = plt.figure(facecolor='white', figsize=(20, 10))\n",
    "ax = fig.add_subplot(111)\n",
    "ax.plot(y_test, label='True')\n",
    "ax.plot(pred, label='Prediction')\n",
    "plt.title('Potato')\n",
    "ax.legend()\n",
    "plt.show()"
   ]
  },
  {
   "cell_type": "code",
   "execution_count": 74,
   "metadata": {},
   "outputs": [],
   "source": [
    "apple_2015 = export_all[(export_all['mktyr'] == 2015.0) & (export_all['product']=='Apple')]\n",
    "app_2015 = export_all[(export_all['mktyr'] == 2015.0) & (export_all['product']=='Potato')].reset_index()\n",
    "app_2015_new = app_2015[['jan','feb', 'mar','apr','may','jun','jul','aug','sep','oct', 'nov', 'dec']]\n",
    "ren_app_2015 = app_2015_new.rename(columns={\"jan\":\"m1\", \"feb\":\"m2\", \"mar\":\"m3\", \"apr\":\"m4\", \"may\":\"m5\", \"jun\":\"m6\", \"jul\":\"m7\",\"aug\":\"m8\",\"sep\":\"m9\",\"oct\":\"m10\",\"nov\":\"m11\", \"dec\":\"m12\"})\n",
    "app_2016 = export_all[(export_all['mktyr'] == 2016.0) & (export_all['product']=='Onion')].reset_index()\n",
    "app_2016_new = app_2016[['jan','feb', 'mar','apr','may','jun','jul','aug','sep','oct', 'nov', 'dec']]\n",
    "ren_app_2016 = app_2016_new.rename(columns={\"jan\":\"m13\", \"feb\":\"m14\", \"mar\":\"m15\", \"apr\":\"m16\", \"may\":\"m17\", \"jun\":\"m18\", \"jul\":\"m19\",\"aug\":\"m20\",\"sep\":\"m21\",\"oct\":\"m22\",\"nov\":\"m23\", \"dec\":\"m24\"})\n",
    "app_2017 = export_all[(export_all['mktyr'] == 2017.0) & (export_all['product']=='Onion')].reset_index()\n",
    "app_2017_new = app_2017[['jan','feb', 'mar','apr','may','jun','jul','aug','sep','oct', 'nov', 'dec']]\n",
    "ren_app_2017 = app_2017_new.rename(columns={\"jan\":\"m25\", \"feb\":\"m26\", \"mar\":\"m27\", \"apr\":\"m28\", \"may\":\"m29\", \"jun\":\"m30\", \"jul\":\"m31\",\"aug\":\"m32\",\"sep\":\"m33\",\"oct\":\"m34\",\"nov\":\"m35\", \"dec\":\"m36\"})\n",
    "app_2018 = export_all[(export_all['mktyr'] == 2018.0) & (export_all['product']=='Onion')].reset_index()\n",
    "app_2018_new = app_2018[['jan','feb', 'mar','apr','may','jun','jul','aug','sep','oct', 'nov', 'dec']]\n",
    "ren_app_2018 = app_2018_new.rename(columns={\"jan\":\"m37\", \"feb\":\"m38\", \"mar\":\"m39\", \"apr\":\"m40\", \"may\":\"m41\", \"jun\":\"m42\", \"jul\":\"m43\",\"aug\":\"m44\",\"sep\":\"m45\",\"oct\":\"m46\",\"nov\":\"m47\", \"dec\":\"m48\"})\n",
    "app = ren_app_2015.join([ren_app_2016, ren_app_2017, ren_app_2018], how='outer')\n"
   ]
  },
  {
   "cell_type": "code",
   "execution_count": 75,
   "metadata": {},
   "outputs": [],
   "source": [
    "trans_app = app.T \n",
    "app_final = trans_app.reset_index()\n",
    "app_data = app_final.rename(columns={\"index\": \"month\", 0: \"value\"})\n",
    "app_data['mo'] = app_data.index\n",
    "app_fin=app_data[[\"mo\", \"value\"]]\n",
    "app_fin.index = app_fin.mo\n",
    "app_fin.drop('mo', axis=1, inplace=True)\n",
    "app_fin.to_csv('dset/app.csv')"
   ]
  },
  {
   "cell_type": "code",
   "execution_count": 76,
   "metadata": {},
   "outputs": [],
   "source": [
    "value = app_fin[\"value\"].values\n",
    "seq_len = 10\n",
    "sequence_length = seq_len + 1\n",
    "\n",
    "result = []\n",
    "for index in range(len(value) - sequence_length):\n",
    "    result.append(value[index: index + sequence_length])"
   ]
  },
  {
   "cell_type": "code",
   "execution_count": 77,
   "metadata": {},
   "outputs": [
    {
     "data": {
      "text/plain": [
       "((33, 10, 1), (4, 10, 1))"
      ]
     },
     "execution_count": 77,
     "metadata": {},
     "output_type": "execute_result"
    }
   ],
   "source": [
    "normalized_data = []\n",
    "for window in result:\n",
    "    normalized_window = [((float(p) / float(window[0])) - 1) for p in window]\n",
    "    normalized_data.append(normalized_window)\n",
    "\n",
    "result = np.array(normalized_data)\n",
    "\n",
    "# split train and test data\n",
    "row = int(round(result.shape[0] * 0.9))\n",
    "train = result[:row, :]\n",
    "np.random.shuffle(train)\n",
    "\n",
    "x_train = train[:, :-1]\n",
    "x_train = np.reshape(x_train, (x_train.shape[0], x_train.shape[1], 1))\n",
    "y_train = train[:, -1]\n",
    "\n",
    "x_test = result[row:, :-1]\n",
    "x_test = np.reshape(x_test, (x_test.shape[0], x_test.shape[1], 1))\n",
    "y_test = result[row:, -1]\n",
    "\n",
    "x_train.shape, x_test.shape"
   ]
  },
  {
   "cell_type": "code",
   "execution_count": 78,
   "metadata": {},
   "outputs": [
    {
     "name": "stdout",
     "output_type": "stream",
     "text": [
      "_________________________________________________________________\n",
      "Layer (type)                 Output Shape              Param #   \n",
      "=================================================================\n",
      "lstm_11 (LSTM)               (None, 10, 10)            480       \n",
      "_________________________________________________________________\n",
      "lstm_12 (LSTM)               (None, 24)                3360      \n",
      "_________________________________________________________________\n",
      "dense_6 (Dense)              (None, 1)                 25        \n",
      "=================================================================\n",
      "Total params: 3,865\n",
      "Trainable params: 3,865\n",
      "Non-trainable params: 0\n",
      "_________________________________________________________________\n"
     ]
    }
   ],
   "source": [
    "model = Sequential()\n",
    "\n",
    "model.add(LSTM(10, return_sequences=True, input_shape=(10, 1)))\n",
    "\n",
    "model.add(LSTM(24, return_sequences=False))\n",
    "\n",
    "model.add(Dense(1, activation='linear'))\n",
    "\n",
    "model.compile(loss='mse', metrics=['mean_squared_error'],optimizer='nadam')\n",
    "\n",
    "model.summary()"
   ]
  },
  {
   "cell_type": "code",
   "execution_count": 79,
   "metadata": {},
   "outputs": [
    {
     "name": "stdout",
     "output_type": "stream",
     "text": [
      "Train on 33 samples, validate on 4 samples\n",
      "Epoch 1/30\n",
      "33/33 [==============================] - 3s 95ms/step - loss: 0.1021 - mean_squared_error: 0.1021 - val_loss: 0.1459 - val_mean_squared_error: 0.1459\n",
      "Epoch 2/30\n",
      "33/33 [==============================] - 0s 3ms/step - loss: 0.0993 - mean_squared_error: 0.0993 - val_loss: 0.1413 - val_mean_squared_error: 0.1413\n",
      "Epoch 3/30\n",
      "33/33 [==============================] - 0s 3ms/step - loss: 0.0951 - mean_squared_error: 0.0951 - val_loss: 0.1361 - val_mean_squared_error: 0.1361\n",
      "Epoch 4/30\n",
      "33/33 [==============================] - 0s 3ms/step - loss: 0.0922 - mean_squared_error: 0.0922 - val_loss: 0.1248 - val_mean_squared_error: 0.1248\n",
      "Epoch 5/30\n",
      "33/33 [==============================] - 0s 3ms/step - loss: 0.0883 - mean_squared_error: 0.0883 - val_loss: 0.1198 - val_mean_squared_error: 0.1198\n",
      "Epoch 6/30\n",
      "33/33 [==============================] - 0s 3ms/step - loss: 0.0847 - mean_squared_error: 0.0847 - val_loss: 0.1176 - val_mean_squared_error: 0.1176\n",
      "Epoch 7/30\n",
      "33/33 [==============================] - 0s 3ms/step - loss: 0.0822 - mean_squared_error: 0.0822 - val_loss: 0.1153 - val_mean_squared_error: 0.1153\n",
      "Epoch 8/30\n",
      "33/33 [==============================] - 0s 3ms/step - loss: 0.0795 - mean_squared_error: 0.0795 - val_loss: 0.1004 - val_mean_squared_error: 0.1004\n",
      "Epoch 9/30\n",
      "33/33 [==============================] - 0s 3ms/step - loss: 0.0750 - mean_squared_error: 0.0750 - val_loss: 0.0880 - val_mean_squared_error: 0.0880\n",
      "Epoch 10/30\n",
      "33/33 [==============================] - 0s 3ms/step - loss: 0.0709 - mean_squared_error: 0.0709 - val_loss: 0.0682 - val_mean_squared_error: 0.0682\n",
      "Epoch 11/30\n",
      "33/33 [==============================] - 0s 3ms/step - loss: 0.0673 - mean_squared_error: 0.0673 - val_loss: 0.0549 - val_mean_squared_error: 0.0549\n",
      "Epoch 12/30\n",
      "33/33 [==============================] - 0s 3ms/step - loss: 0.0606 - mean_squared_error: 0.0606 - val_loss: 0.0610 - val_mean_squared_error: 0.0610\n",
      "Epoch 13/30\n",
      "33/33 [==============================] - 0s 3ms/step - loss: 0.0545 - mean_squared_error: 0.0545 - val_loss: 0.0427 - val_mean_squared_error: 0.0427\n",
      "Epoch 14/30\n",
      "33/33 [==============================] - 0s 3ms/step - loss: 0.0478 - mean_squared_error: 0.0478 - val_loss: 0.0373 - val_mean_squared_error: 0.0373\n",
      "Epoch 15/30\n",
      "33/33 [==============================] - 0s 3ms/step - loss: 0.0451 - mean_squared_error: 0.0451 - val_loss: 0.0196 - val_mean_squared_error: 0.0196\n",
      "Epoch 16/30\n",
      "33/33 [==============================] - 0s 3ms/step - loss: 0.0451 - mean_squared_error: 0.0451 - val_loss: 0.0136 - val_mean_squared_error: 0.0136\n",
      "Epoch 17/30\n",
      "33/33 [==============================] - 0s 3ms/step - loss: 0.0402 - mean_squared_error: 0.0402 - val_loss: 0.0202 - val_mean_squared_error: 0.0202\n",
      "Epoch 18/30\n",
      "33/33 [==============================] - 0s 3ms/step - loss: 0.0400 - mean_squared_error: 0.0400 - val_loss: 0.0214 - val_mean_squared_error: 0.0214\n",
      "Epoch 19/30\n",
      "33/33 [==============================] - 0s 3ms/step - loss: 0.0359 - mean_squared_error: 0.0359 - val_loss: 0.0168 - val_mean_squared_error: 0.0168\n",
      "Epoch 20/30\n",
      "33/33 [==============================] - 0s 3ms/step - loss: 0.0355 - mean_squared_error: 0.0355 - val_loss: 0.0196 - val_mean_squared_error: 0.0196\n",
      "Epoch 21/30\n",
      "33/33 [==============================] - 0s 3ms/step - loss: 0.0347 - mean_squared_error: 0.0347 - val_loss: 0.0649 - val_mean_squared_error: 0.0649\n",
      "Epoch 22/30\n",
      "33/33 [==============================] - 0s 3ms/step - loss: 0.0364 - mean_squared_error: 0.0364 - val_loss: 0.0060 - val_mean_squared_error: 0.0060\n",
      "Epoch 23/30\n",
      "33/33 [==============================] - 0s 3ms/step - loss: 0.0337 - mean_squared_error: 0.0337 - val_loss: 0.0097 - val_mean_squared_error: 0.0097\n",
      "Epoch 24/30\n",
      "33/33 [==============================] - 0s 3ms/step - loss: 0.0313 - mean_squared_error: 0.0313 - val_loss: 0.0317 - val_mean_squared_error: 0.0317\n",
      "Epoch 25/30\n",
      "33/33 [==============================] - 0s 3ms/step - loss: 0.0335 - mean_squared_error: 0.0335 - val_loss: 0.0106 - val_mean_squared_error: 0.0106\n",
      "Epoch 26/30\n",
      "33/33 [==============================] - 0s 3ms/step - loss: 0.0315 - mean_squared_error: 0.0315 - val_loss: 0.0115 - val_mean_squared_error: 0.0115\n",
      "Epoch 27/30\n",
      "33/33 [==============================] - 0s 3ms/step - loss: 0.0296 - mean_squared_error: 0.0296 - val_loss: 0.0532 - val_mean_squared_error: 0.0532\n",
      "Epoch 28/30\n",
      "33/33 [==============================] - 0s 3ms/step - loss: 0.0289 - mean_squared_error: 0.0289 - val_loss: 0.0233 - val_mean_squared_error: 0.0233\n",
      "Epoch 29/30\n",
      "33/33 [==============================] - 0s 3ms/step - loss: 0.0303 - mean_squared_error: 0.0303 - val_loss: 0.0258 - val_mean_squared_error: 0.0258\n",
      "Epoch 30/30\n",
      "33/33 [==============================] - 0s 3ms/step - loss: 0.0286 - mean_squared_error: 0.0286 - val_loss: 0.0104 - val_mean_squared_error: 0.0104\n"
     ]
    },
    {
     "data": {
      "text/plain": [
       "<keras.callbacks.History at 0x1a2e799630>"
      ]
     },
     "execution_count": 79,
     "metadata": {},
     "output_type": "execute_result"
    }
   ],
   "source": [
    "model.fit(x_train, y_train,\n",
    "    validation_data=(x_test, y_test),\n",
    "    batch_size=10,\n",
    "    epochs=30)"
   ]
  },
  {
   "cell_type": "code",
   "execution_count": 80,
   "metadata": {},
   "outputs": [],
   "source": [
    "model.save(\"app_model_trained.h5\")"
   ]
  },
  {
   "cell_type": "code",
   "execution_count": 81,
   "metadata": {},
   "outputs": [
    {
     "data": {
      "image/png": "[encoded data removed]",
      "text/plain": [
       "<Figure size 1440x720 with 1 Axes>"
      ]
     },
     "metadata": {},
     "output_type": "display_data"
    }
   ],
   "source": [
    "pred = model.predict(x_test)\n",
    "\n",
    "fig = plt.figure(facecolor='white', figsize=(20, 10))\n",
    "ax = fig.add_subplot(111)\n",
    "ax.plot(y_test, label='True')\n",
    "ax.plot(pred, label='Prediction')\n",
    "plt.title('Apple')\n",
    "ax.legend()\n",
    "plt.show()"
   ]
  },
  {
   "cell_type": "code",
   "execution_count": 82,
   "metadata": {},
   "outputs": [],
   "source": [
    "grapes_2015 = export_all[(export_all['mktyr'] == 2015.0) & (export_all['product']=='Grapes')]\n",
    "grp_2015 = export_all[(export_all['mktyr'] == 2015.0) & (export_all['product']=='Potato')].reset_index()\n",
    "grp_2015_new = grp_2015[['jan','feb', 'mar','apr','may','jun','jul','aug','sep','oct', 'nov', 'dec']]\n",
    "ren_grp_2015 = grp_2015_new.rename(columns={\"jan\":\"m1\", \"feb\":\"m2\", \"mar\":\"m3\", \"apr\":\"m4\", \"may\":\"m5\", \"jun\":\"m6\", \"jul\":\"m7\",\"aug\":\"m8\",\"sep\":\"m9\",\"oct\":\"m10\",\"nov\":\"m11\", \"dec\":\"m12\"})\n",
    "grp_2016 = export_all[(export_all['mktyr'] == 2016.0) & (export_all['product']=='Onion')].reset_index()\n",
    "grp_2016_new = grp_2016[['jan','feb', 'mar','apr','may','jun','jul','aug','sep','oct', 'nov', 'dec']]\n",
    "ren_grp_2016 = grp_2016_new.rename(columns={\"jan\":\"m13\", \"feb\":\"m14\", \"mar\":\"m15\", \"apr\":\"m16\", \"may\":\"m17\", \"jun\":\"m18\", \"jul\":\"m19\",\"aug\":\"m20\",\"sep\":\"m21\",\"oct\":\"m22\",\"nov\":\"m23\", \"dec\":\"m24\"})\n",
    "grp_2017 = export_all[(export_all['mktyr'] == 2017.0) & (export_all['product']=='Onion')].reset_index()\n",
    "grp_2017_new = grp_2017[['jan','feb', 'mar','apr','may','jun','jul','aug','sep','oct', 'nov', 'dec']]\n",
    "ren_grp_2017 = grp_2017_new.rename(columns={\"jan\":\"m25\", \"feb\":\"m26\", \"mar\":\"m27\", \"apr\":\"m28\", \"may\":\"m29\", \"jun\":\"m30\", \"jul\":\"m31\",\"aug\":\"m32\",\"sep\":\"m33\",\"oct\":\"m34\",\"nov\":\"m35\", \"dec\":\"m36\"})\n",
    "grp_2018 = export_all[(export_all['mktyr'] == 2018.0) & (export_all['product']=='Onion')].reset_index()\n",
    "grp_2018_new = grp_2018[['jan','feb', 'mar','apr','may','jun','jul','aug','sep','oct', 'nov', 'dec']]\n",
    "ren_grp_2018 = grp_2018_new.rename(columns={\"jan\":\"m37\", \"feb\":\"m38\", \"mar\":\"m39\", \"apr\":\"m40\", \"may\":\"m41\", \"jun\":\"m42\", \"jul\":\"m43\",\"aug\":\"m44\",\"sep\":\"m45\",\"oct\":\"m46\",\"nov\":\"m47\", \"dec\":\"m48\"})\n",
    "grp = ren_grp_2015.join([ren_grp_2016, ren_grp_2017, ren_grp_2018], how='outer')\n"
   ]
  },
  {
   "cell_type": "code",
   "execution_count": 83,
   "metadata": {},
   "outputs": [],
   "source": [
    "trans_grp = grp.T \n",
    "grp_final = trans_grp.reset_index()\n",
    "grp_data = grp_final.rename(columns={\"index\": \"month\", 0: \"value\"})\n",
    "grp_data['mo'] = grp_data.index\n",
    "grp_fin=grp_data[[\"mo\", \"value\"]]\n",
    "grp_fin.index = grp_fin.mo\n",
    "grp_fin.drop('mo', axis=1, inplace=True)\n",
    "grp_fin.to_csv('dset/grp.csv')"
   ]
  },
  {
   "cell_type": "code",
   "execution_count": 84,
   "metadata": {},
   "outputs": [],
   "source": [
    "value = grp_fin[\"value\"].values\n",
    "seq_len = 10\n",
    "sequence_length = seq_len + 1\n",
    "\n",
    "result = []\n",
    "for index in range(len(value) - sequence_length):\n",
    "    result.append(value[index: index + sequence_length])"
   ]
  },
  {
   "cell_type": "code",
   "execution_count": 85,
   "metadata": {},
   "outputs": [
    {
     "data": {
      "text/plain": [
       "((33, 10, 1), (4, 10, 1))"
      ]
     },
     "execution_count": 85,
     "metadata": {},
     "output_type": "execute_result"
    }
   ],
   "source": [
    "normalized_data = []\n",
    "for window in result:\n",
    "    normalized_window = [((float(p) / float(window[0])) - 1) for p in window]\n",
    "    normalized_data.append(normalized_window)\n",
    "\n",
    "result = np.array(normalized_data)\n",
    "\n",
    "# split train and test data\n",
    "row = int(round(result.shape[0] * 0.9))\n",
    "train = result[:row, :]\n",
    "np.random.shuffle(train)\n",
    "\n",
    "x_train = train[:, :-1]\n",
    "x_train = np.reshape(x_train, (x_train.shape[0], x_train.shape[1], 1))\n",
    "y_train = train[:, -1]\n",
    "\n",
    "x_test = result[row:, :-1]\n",
    "x_test = np.reshape(x_test, (x_test.shape[0], x_test.shape[1], 1))\n",
    "y_test = result[row:, -1]\n",
    "\n",
    "x_train.shape, x_test.shape"
   ]
  },
  {
   "cell_type": "code",
   "execution_count": 86,
   "metadata": {},
   "outputs": [
    {
     "name": "stdout",
     "output_type": "stream",
     "text": [
      "_________________________________________________________________\n",
      "Layer (type)                 Output Shape              Param #   \n",
      "=================================================================\n",
      "lstm_13 (LSTM)               (None, 10, 10)            480       \n",
      "_________________________________________________________________\n",
      "lstm_14 (LSTM)               (None, 24)                3360      \n",
      "_________________________________________________________________\n",
      "dense_7 (Dense)              (None, 1)                 25        \n",
      "=================================================================\n",
      "Total params: 3,865\n",
      "Trainable params: 3,865\n",
      "Non-trainable params: 0\n",
      "_________________________________________________________________\n"
     ]
    }
   ],
   "source": [
    "model = Sequential()\n",
    "\n",
    "model.add(LSTM(10, return_sequences=True, input_shape=(10, 1)))\n",
    "\n",
    "model.add(LSTM(24, return_sequences=False))\n",
    "\n",
    "model.add(Dense(1, activation='linear'))\n",
    "\n",
    "model.compile(loss='mse', metrics=['mean_squared_error'],optimizer='nadam')\n",
    "\n",
    "model.summary()"
   ]
  },
  {
   "cell_type": "code",
   "execution_count": 87,
   "metadata": {},
   "outputs": [
    {
     "name": "stdout",
     "output_type": "stream",
     "text": [
      "Train on 33 samples, validate on 4 samples\n",
      "Epoch 1/30\n",
      "33/33 [==============================] - 3s 105ms/step - loss: 0.1048 - mean_squared_error: 0.1048 - val_loss: 0.1481 - val_mean_squared_error: 0.1481\n",
      "Epoch 2/30\n",
      "33/33 [==============================] - 0s 3ms/step - loss: 0.1004 - mean_squared_error: 0.1004 - val_loss: 0.1462 - val_mean_squared_error: 0.1462\n",
      "Epoch 3/30\n",
      "33/33 [==============================] - 0s 3ms/step - loss: 0.0963 - mean_squared_error: 0.0963 - val_loss: 0.1350 - val_mean_squared_error: 0.1350\n",
      "Epoch 4/30\n",
      "33/33 [==============================] - 0s 4ms/step - loss: 0.0931 - mean_squared_error: 0.0931 - val_loss: 0.1321 - val_mean_squared_error: 0.1321\n",
      "Epoch 5/30\n",
      "33/33 [==============================] - 0s 3ms/step - loss: 0.0912 - mean_squared_error: 0.0912 - val_loss: 0.1313 - val_mean_squared_error: 0.1313\n",
      "Epoch 6/30\n",
      "33/33 [==============================] - 0s 3ms/step - loss: 0.0886 - mean_squared_error: 0.0886 - val_loss: 0.1271 - val_mean_squared_error: 0.1271\n",
      "Epoch 7/30\n",
      "33/33 [==============================] - 0s 3ms/step - loss: 0.0861 - mean_squared_error: 0.0861 - val_loss: 0.1224 - val_mean_squared_error: 0.1224\n",
      "Epoch 8/30\n",
      "33/33 [==============================] - 0s 3ms/step - loss: 0.0840 - mean_squared_error: 0.0840 - val_loss: 0.1143 - val_mean_squared_error: 0.1143\n",
      "Epoch 9/30\n",
      "33/33 [==============================] - 0s 3ms/step - loss: 0.0816 - mean_squared_error: 0.0816 - val_loss: 0.1073 - val_mean_squared_error: 0.1073\n",
      "Epoch 10/30\n",
      "33/33 [==============================] - ETA: 0s - loss: 0.0765 - mean_squared_error: 0.07 - 0s 3ms/step - loss: 0.0787 - mean_squared_error: 0.0787 - val_loss: 0.1080 - val_mean_squared_error: 0.1080\n",
      "Epoch 11/30\n",
      "33/33 [==============================] - 0s 3ms/step - loss: 0.0763 - mean_squared_error: 0.0763 - val_loss: 0.0978 - val_mean_squared_error: 0.0978\n",
      "Epoch 12/30\n",
      "33/33 [==============================] - 0s 3ms/step - loss: 0.0716 - mean_squared_error: 0.0716 - val_loss: 0.0970 - val_mean_squared_error: 0.0970\n",
      "Epoch 13/30\n",
      "33/33 [==============================] - 0s 3ms/step - loss: 0.0678 - mean_squared_error: 0.0678 - val_loss: 0.0899 - val_mean_squared_error: 0.0899\n",
      "Epoch 14/30\n",
      "33/33 [==============================] - 0s 3ms/step - loss: 0.0633 - mean_squared_error: 0.0633 - val_loss: 0.0794 - val_mean_squared_error: 0.0794\n",
      "Epoch 15/30\n",
      "33/33 [==============================] - 0s 3ms/step - loss: 0.0597 - mean_squared_error: 0.0597 - val_loss: 0.0662 - val_mean_squared_error: 0.0662\n",
      "Epoch 16/30\n",
      "33/33 [==============================] - 0s 3ms/step - loss: 0.0548 - mean_squared_error: 0.0548 - val_loss: 0.0479 - val_mean_squared_error: 0.0479\n",
      "Epoch 17/30\n",
      "33/33 [==============================] - 0s 3ms/step - loss: 0.0510 - mean_squared_error: 0.0510 - val_loss: 0.0422 - val_mean_squared_error: 0.0422\n",
      "Epoch 18/30\n",
      "33/33 [==============================] - 0s 3ms/step - loss: 0.0461 - mean_squared_error: 0.0461 - val_loss: 0.0321 - val_mean_squared_error: 0.0321\n",
      "Epoch 19/30\n",
      "33/33 [==============================] - 0s 3ms/step - loss: 0.0433 - mean_squared_error: 0.0433 - val_loss: 0.0219 - val_mean_squared_error: 0.0219\n",
      "Epoch 20/30\n",
      "33/33 [==============================] - 0s 3ms/step - loss: 0.0394 - mean_squared_error: 0.0394 - val_loss: 0.0120 - val_mean_squared_error: 0.0120\n",
      "Epoch 21/30\n",
      "33/33 [==============================] - 0s 3ms/step - loss: 0.0388 - mean_squared_error: 0.0388 - val_loss: 0.0080 - val_mean_squared_error: 0.0080\n",
      "Epoch 22/30\n",
      "33/33 [==============================] - 0s 3ms/step - loss: 0.0347 - mean_squared_error: 0.0347 - val_loss: 0.0128 - val_mean_squared_error: 0.0128\n",
      "Epoch 23/30\n",
      "33/33 [==============================] - 0s 3ms/step - loss: 0.0331 - mean_squared_error: 0.0331 - val_loss: 0.0234 - val_mean_squared_error: 0.0234\n",
      "Epoch 24/30\n",
      "33/33 [==============================] - 0s 3ms/step - loss: 0.0328 - mean_squared_error: 0.0328 - val_loss: 0.0174 - val_mean_squared_error: 0.0174\n",
      "Epoch 25/30\n",
      "33/33 [==============================] - 0s 3ms/step - loss: 0.0331 - mean_squared_error: 0.0331 - val_loss: 0.0126 - val_mean_squared_error: 0.0126\n",
      "Epoch 26/30\n",
      "33/33 [==============================] - 0s 4ms/step - loss: 0.0301 - mean_squared_error: 0.0301 - val_loss: 0.0086 - val_mean_squared_error: 0.0086\n",
      "Epoch 27/30\n",
      "33/33 [==============================] - 0s 3ms/step - loss: 0.0312 - mean_squared_error: 0.0312 - val_loss: 0.0067 - val_mean_squared_error: 0.0067\n",
      "Epoch 28/30\n",
      "33/33 [==============================] - 0s 3ms/step - loss: 0.0291 - mean_squared_error: 0.0291 - val_loss: 0.0508 - val_mean_squared_error: 0.0508\n",
      "Epoch 29/30\n",
      "33/33 [==============================] - 0s 3ms/step - loss: 0.0303 - mean_squared_error: 0.0303 - val_loss: 0.0106 - val_mean_squared_error: 0.0106\n",
      "Epoch 30/30\n",
      "33/33 [==============================] - 0s 3ms/step - loss: 0.0275 - mean_squared_error: 0.0275 - val_loss: 0.0189 - val_mean_squared_error: 0.0189\n"
     ]
    },
    {
     "data": {
      "text/plain": [
       "<keras.callbacks.History at 0x1a36d69160>"
      ]
     },
     "execution_count": 87,
     "metadata": {},
     "output_type": "execute_result"
    }
   ],
   "source": [
    "model.fit(x_train, y_train,\n",
    "    validation_data=(x_test, y_test),\n",
    "    batch_size=10,\n",
    "    epochs=30)"
   ]
  },
  {
   "cell_type": "code",
   "execution_count": 88,
   "metadata": {},
   "outputs": [],
   "source": [
    "model.save(\"grp_model_trained.h5\")"
   ]
  },
  {
   "cell_type": "code",
   "execution_count": 89,
   "metadata": {},
   "outputs": [
    {
     "data": {
      "image/png": "[encoded data removed]",
      "text/plain": [
       "<Figure size 1440x720 with 1 Axes>"
      ]
     },
     "metadata": {},
     "output_type": "display_data"
    }
   ],
   "source": [
    "pred = model.predict(x_test)\n",
    "\n",
    "fig = plt.figure(facecolor='white', figsize=(20, 10))\n",
    "ax = fig.add_subplot(111)\n",
    "ax.plot(y_test, label='True')\n",
    "ax.plot(pred, label='Prediction')\n",
    "plt.title('Grape')\n",
    "ax.legend()\n",
    "plt.show()"
   ]
  },
  {
   "cell_type": "code",
   "execution_count": 90,
   "metadata": {},
   "outputs": [],
   "source": [
    "orange_2015 = export_all[(export_all['mktyr'] == 2015.0) & (export_all['product']=='Orange')]\n",
    "orn_2015 = export_all[(export_all['mktyr'] == 2015.0) & (export_all['product']=='Potato')].reset_index()\n",
    "orn_2015_new = orn_2015[['jan','feb', 'mar','apr','may','jun','jul','aug','sep','oct', 'nov', 'dec']]\n",
    "ren_orn_2015 = orn_2015_new.rename(columns={\"jan\":\"m1\", \"feb\":\"m2\", \"mar\":\"m3\", \"apr\":\"m4\", \"may\":\"m5\", \"jun\":\"m6\", \"jul\":\"m7\",\"aug\":\"m8\",\"sep\":\"m9\",\"oct\":\"m10\",\"nov\":\"m11\", \"dec\":\"m12\"})\n",
    "orn_2016 = export_all[(export_all['mktyr'] == 2016.0) & (export_all['product']=='Onion')].reset_index()\n",
    "orn_2016_new = orn_2016[['jan','feb', 'mar','apr','may','jun','jul','aug','sep','oct', 'nov', 'dec']]\n",
    "ren_orn_2016 = orn_2016_new.rename(columns={\"jan\":\"m13\", \"feb\":\"m14\", \"mar\":\"m15\", \"apr\":\"m16\", \"may\":\"m17\", \"jun\":\"m18\", \"jul\":\"m19\",\"aug\":\"m20\",\"sep\":\"m21\",\"oct\":\"m22\",\"nov\":\"m23\", \"dec\":\"m24\"})\n",
    "orn_2017 = export_all[(export_all['mktyr'] == 2017.0) & (export_all['product']=='Onion')].reset_index()\n",
    "orn_2017_new = orn_2017[['jan','feb', 'mar','apr','may','jun','jul','aug','sep','oct', 'nov', 'dec']]\n",
    "ren_orn_2017 = orn_2017_new.rename(columns={\"jan\":\"m25\", \"feb\":\"m26\", \"mar\":\"m27\", \"apr\":\"m28\", \"may\":\"m29\", \"jun\":\"m30\", \"jul\":\"m31\",\"aug\":\"m32\",\"sep\":\"m33\",\"oct\":\"m34\",\"nov\":\"m35\", \"dec\":\"m36\"})\n",
    "orn_2018 = export_all[(export_all['mktyr'] == 2018.0) & (export_all['product']=='Onion')].reset_index()\n",
    "orn_2018_new = orn_2018[['jan','feb', 'mar','apr','may','jun','jul','aug','sep','oct', 'nov', 'dec']]\n",
    "ren_orn_2018 = orn_2018_new.rename(columns={\"jan\":\"m37\", \"feb\":\"m38\", \"mar\":\"m39\", \"apr\":\"m40\", \"may\":\"m41\", \"jun\":\"m42\", \"jul\":\"m43\",\"aug\":\"m44\",\"sep\":\"m45\",\"oct\":\"m46\",\"nov\":\"m47\", \"dec\":\"m48\"})\n",
    "orn = ren_orn_2015.join([ren_orn_2016, ren_orn_2017, ren_orn_2018], how='outer')\n"
   ]
  },
  {
   "cell_type": "code",
   "execution_count": 91,
   "metadata": {},
   "outputs": [],
   "source": [
    "trans_orn = orn.T \n",
    "orn_final = trans_orn.reset_index()\n",
    "orn_data = orn_final.rename(columns={\"index\": \"month\", 0: \"value\"})\n",
    "orn_data['mo'] = orn_data.index\n",
    "orn_fin=orn_data[[\"mo\", \"value\"]]\n",
    "orn_fin.index = orn_fin.mo\n",
    "orn_fin.drop('mo', axis=1, inplace=True)\n",
    "orn_fin.to_csv('dset/orn.csv')"
   ]
  },
  {
   "cell_type": "code",
   "execution_count": 92,
   "metadata": {},
   "outputs": [],
   "source": [
    "value = orn_fin[\"value\"].values\n",
    "seq_len = 10\n",
    "sequence_length = seq_len + 1\n",
    "\n",
    "result = []\n",
    "for index in range(len(value) - sequence_length):\n",
    "    result.append(value[index: index + sequence_length])"
   ]
  },
  {
   "cell_type": "code",
   "execution_count": 93,
   "metadata": {},
   "outputs": [
    {
     "data": {
      "text/plain": [
       "((33, 10, 1), (4, 10, 1))"
      ]
     },
     "execution_count": 93,
     "metadata": {},
     "output_type": "execute_result"
    }
   ],
   "source": [
    "normalized_data = []\n",
    "for window in result:\n",
    "    normalized_window = [((float(p) / float(window[0])) - 1) for p in window]\n",
    "    normalized_data.append(normalized_window)\n",
    "\n",
    "result = np.array(normalized_data)\n",
    "\n",
    "# split train and test data\n",
    "row = int(round(result.shape[0] * 0.9))\n",
    "train = result[:row, :]\n",
    "np.random.shuffle(train)\n",
    "\n",
    "x_train = train[:, :-1]\n",
    "x_train = np.reshape(x_train, (x_train.shape[0], x_train.shape[1], 1))\n",
    "y_train = train[:, -1]\n",
    "\n",
    "x_test = result[row:, :-1]\n",
    "x_test = np.reshape(x_test, (x_test.shape[0], x_test.shape[1], 1))\n",
    "y_test = result[row:, -1]\n",
    "\n",
    "x_train.shape, x_test.shape"
   ]
  },
  {
   "cell_type": "code",
   "execution_count": 94,
   "metadata": {},
   "outputs": [
    {
     "name": "stdout",
     "output_type": "stream",
     "text": [
      "_________________________________________________________________\n",
      "Layer (type)                 Output Shape              Param #   \n",
      "=================================================================\n",
      "lstm_15 (LSTM)               (None, 10, 10)            480       \n",
      "_________________________________________________________________\n",
      "lstm_16 (LSTM)               (None, 24)                3360      \n",
      "_________________________________________________________________\n",
      "dense_8 (Dense)              (None, 1)                 25        \n",
      "=================================================================\n",
      "Total params: 3,865\n",
      "Trainable params: 3,865\n",
      "Non-trainable params: 0\n",
      "_________________________________________________________________\n"
     ]
    }
   ],
   "source": [
    "model = Sequential()\n",
    "\n",
    "model.add(LSTM(10, return_sequences=True, input_shape=(10, 1)))\n",
    "\n",
    "model.add(LSTM(24, return_sequences=False))\n",
    "\n",
    "model.add(Dense(1, activation='linear'))\n",
    "\n",
    "model.compile(loss='mse', metrics=['mean_squared_error'],optimizer='nadam')\n",
    "\n",
    "model.summary()"
   ]
  },
  {
   "cell_type": "code",
   "execution_count": 95,
   "metadata": {},
   "outputs": [
    {
     "name": "stdout",
     "output_type": "stream",
     "text": [
      "Train on 33 samples, validate on 4 samples\n",
      "Epoch 1/30\n",
      "33/33 [==============================] - 4s 110ms/step - loss: 0.1076 - mean_squared_error: 0.1076 - val_loss: 0.1477 - val_mean_squared_error: 0.1477\n",
      "Epoch 2/30\n",
      "33/33 [==============================] - 0s 3ms/step - loss: 0.1017 - mean_squared_error: 0.1017 - val_loss: 0.1427 - val_mean_squared_error: 0.1427\n",
      "Epoch 3/30\n",
      "33/33 [==============================] - 0s 3ms/step - loss: 0.0992 - mean_squared_error: 0.0992 - val_loss: 0.1311 - val_mean_squared_error: 0.1311\n",
      "Epoch 4/30\n",
      "33/33 [==============================] - 0s 3ms/step - loss: 0.0961 - mean_squared_error: 0.0961 - val_loss: 0.1199 - val_mean_squared_error: 0.1199\n",
      "Epoch 5/30\n",
      "33/33 [==============================] - 0s 3ms/step - loss: 0.0930 - mean_squared_error: 0.0930 - val_loss: 0.1204 - val_mean_squared_error: 0.1204\n",
      "Epoch 6/30\n",
      "33/33 [==============================] - 0s 3ms/step - loss: 0.0907 - mean_squared_error: 0.0907 - val_loss: 0.1252 - val_mean_squared_error: 0.1252\n",
      "Epoch 7/30\n",
      "33/33 [==============================] - 0s 3ms/step - loss: 0.0874 - mean_squared_error: 0.0874 - val_loss: 0.1206 - val_mean_squared_error: 0.1206\n",
      "Epoch 8/30\n",
      "33/33 [==============================] - 0s 3ms/step - loss: 0.0848 - mean_squared_error: 0.0848 - val_loss: 0.1206 - val_mean_squared_error: 0.1206\n",
      "Epoch 9/30\n",
      "33/33 [==============================] - 0s 3ms/step - loss: 0.0823 - mean_squared_error: 0.0823 - val_loss: 0.1193 - val_mean_squared_error: 0.1193\n",
      "Epoch 10/30\n",
      "33/33 [==============================] - 0s 3ms/step - loss: 0.0804 - mean_squared_error: 0.0804 - val_loss: 0.1248 - val_mean_squared_error: 0.1248\n",
      "Epoch 11/30\n",
      "33/33 [==============================] - 0s 3ms/step - loss: 0.0790 - mean_squared_error: 0.0790 - val_loss: 0.1150 - val_mean_squared_error: 0.1150\n",
      "Epoch 12/30\n",
      "33/33 [==============================] - 0s 3ms/step - loss: 0.0754 - mean_squared_error: 0.0754 - val_loss: 0.1132 - val_mean_squared_error: 0.1132\n",
      "Epoch 13/30\n",
      "33/33 [==============================] - 0s 3ms/step - loss: 0.0724 - mean_squared_error: 0.0724 - val_loss: 0.1060 - val_mean_squared_error: 0.1060\n",
      "Epoch 14/30\n",
      "33/33 [==============================] - 0s 3ms/step - loss: 0.0689 - mean_squared_error: 0.0689 - val_loss: 0.0951 - val_mean_squared_error: 0.0951\n",
      "Epoch 15/30\n",
      "33/33 [==============================] - 0s 3ms/step - loss: 0.0645 - mean_squared_error: 0.0645 - val_loss: 0.0835 - val_mean_squared_error: 0.0835\n",
      "Epoch 16/30\n",
      "33/33 [==============================] - 0s 3ms/step - loss: 0.0608 - mean_squared_error: 0.0608 - val_loss: 0.0692 - val_mean_squared_error: 0.0692\n",
      "Epoch 17/30\n",
      "33/33 [==============================] - 0s 3ms/step - loss: 0.0568 - mean_squared_error: 0.0568 - val_loss: 0.0542 - val_mean_squared_error: 0.0542\n",
      "Epoch 18/30\n",
      "33/33 [==============================] - 0s 3ms/step - loss: 0.0518 - mean_squared_error: 0.0518 - val_loss: 0.0460 - val_mean_squared_error: 0.0460\n",
      "Epoch 19/30\n",
      "33/33 [==============================] - 0s 3ms/step - loss: 0.0479 - mean_squared_error: 0.0479 - val_loss: 0.0286 - val_mean_squared_error: 0.0286\n",
      "Epoch 20/30\n",
      "33/33 [==============================] - 0s 3ms/step - loss: 0.0453 - mean_squared_error: 0.0453 - val_loss: 0.0273 - val_mean_squared_error: 0.0273\n",
      "Epoch 21/30\n",
      "33/33 [==============================] - 0s 3ms/step - loss: 0.0434 - mean_squared_error: 0.0434 - val_loss: 0.0337 - val_mean_squared_error: 0.0337\n",
      "Epoch 22/30\n",
      "33/33 [==============================] - 0s 3ms/step - loss: 0.0417 - mean_squared_error: 0.0417 - val_loss: 0.0252 - val_mean_squared_error: 0.0252\n",
      "Epoch 23/30\n",
      "33/33 [==============================] - 0s 3ms/step - loss: 0.0385 - mean_squared_error: 0.0385 - val_loss: 0.0187 - val_mean_squared_error: 0.0187\n",
      "Epoch 24/30\n",
      "33/33 [==============================] - 0s 3ms/step - loss: 0.0354 - mean_squared_error: 0.0354 - val_loss: 0.0191 - val_mean_squared_error: 0.0191\n",
      "Epoch 25/30\n",
      "33/33 [==============================] - 0s 3ms/step - loss: 0.0351 - mean_squared_error: 0.0351 - val_loss: 0.0167 - val_mean_squared_error: 0.0167\n",
      "Epoch 26/30\n",
      "33/33 [==============================] - 0s 3ms/step - loss: 0.0335 - mean_squared_error: 0.0335 - val_loss: 0.0100 - val_mean_squared_error: 0.0100\n",
      "Epoch 27/30\n",
      "33/33 [==============================] - 0s 3ms/step - loss: 0.0319 - mean_squared_error: 0.0319 - val_loss: 0.0081 - val_mean_squared_error: 0.0081\n",
      "Epoch 28/30\n",
      "33/33 [==============================] - 0s 3ms/step - loss: 0.0316 - mean_squared_error: 0.0316 - val_loss: 0.0106 - val_mean_squared_error: 0.0106\n",
      "Epoch 29/30\n",
      "33/33 [==============================] - 0s 3ms/step - loss: 0.0314 - mean_squared_error: 0.0314 - val_loss: 0.0197 - val_mean_squared_error: 0.0197\n",
      "Epoch 30/30\n",
      "33/33 [==============================] - 0s 3ms/step - loss: 0.0291 - mean_squared_error: 0.0291 - val_loss: 0.0319 - val_mean_squared_error: 0.0319\n"
     ]
    },
    {
     "data": {
      "text/plain": [
       "<keras.callbacks.History at 0x1a33b51fd0>"
      ]
     },
     "execution_count": 95,
     "metadata": {},
     "output_type": "execute_result"
    }
   ],
   "source": [
    "model.fit(x_train, y_train,\n",
    "    validation_data=(x_test, y_test),\n",
    "    batch_size=10,\n",
    "    epochs=30)"
   ]
  },
  {
   "cell_type": "code",
   "execution_count": 96,
   "metadata": {},
   "outputs": [],
   "source": [
    "model.save(\"orn_model_trained.h5\")"
   ]
  },
  {
   "cell_type": "code",
   "execution_count": 97,
   "metadata": {},
   "outputs": [
    {
     "data": {
      "image/png": "[encoded data removed]",
      "text/plain": [
       "<Figure size 1440x720 with 1 Axes>"
      ]
     },
     "metadata": {},
     "output_type": "display_data"
    }
   ],
   "source": [
    "pred = model.predict(x_test)\n",
    "\n",
    "fig = plt.figure(facecolor='white', figsize=(20, 10))\n",
    "ax = fig.add_subplot(111)\n",
    "ax.plot(y_test, label='True')\n",
    "ax.plot(pred, label='Prediction')\n",
    "plt.title('Orange')\n",
    "ax.legend()\n",
    "plt.show()"
   ]
  },
  {
   "cell_type": "code",
   "execution_count": 98,
   "metadata": {},
   "outputs": [],
   "source": [
    "pears_2015 = export_all[(export_all['mktyr'] == 2015.0) & (export_all['product']=='Pears')]\n",
    "pr_2015 = export_all[(export_all['mktyr'] == 2015.0) & (export_all['product']=='Potato')].reset_index()\n",
    "pr_2015_new = pr_2015[['jan','feb', 'mar','apr','may','jun','jul','aug','sep','oct', 'nov', 'dec']]\n",
    "ren_pr_2015 = pr_2015_new.rename(columns={\"jan\":\"m1\", \"feb\":\"m2\", \"mar\":\"m3\", \"apr\":\"m4\", \"may\":\"m5\", \"jun\":\"m6\", \"jul\":\"m7\",\"aug\":\"m8\",\"sep\":\"m9\",\"oct\":\"m10\",\"nov\":\"m11\", \"dec\":\"m12\"})\n",
    "pr_2016 = export_all[(export_all['mktyr'] == 2016.0) & (export_all['product']=='Onion')].reset_index()\n",
    "pr_2016_new = pr_2016[['jan','feb', 'mar','apr','may','jun','jul','aug','sep','oct', 'nov', 'dec']]\n",
    "ren_pr_2016 = pr_2016_new.rename(columns={\"jan\":\"m13\", \"feb\":\"m14\", \"mar\":\"m15\", \"apr\":\"m16\", \"may\":\"m17\", \"jun\":\"m18\", \"jul\":\"m19\",\"aug\":\"m20\",\"sep\":\"m21\",\"oct\":\"m22\",\"nov\":\"m23\", \"dec\":\"m24\"})\n",
    "pr_2017 = export_all[(export_all['mktyr'] == 2017.0) & (export_all['product']=='Onion')].reset_index()\n",
    "pr_2017_new = pr_2017[['jan','feb', 'mar','apr','may','jun','jul','aug','sep','oct', 'nov', 'dec']]\n",
    "ren_pr_2017 = pr_2017_new.rename(columns={\"jan\":\"m25\", \"feb\":\"m26\", \"mar\":\"m27\", \"apr\":\"m28\", \"may\":\"m29\", \"jun\":\"m30\", \"jul\":\"m31\",\"aug\":\"m32\",\"sep\":\"m33\",\"oct\":\"m34\",\"nov\":\"m35\", \"dec\":\"m36\"})\n",
    "pr_2018 = export_all[(export_all['mktyr'] == 2018.0) & (export_all['product']=='Onion')].reset_index()\n",
    "pr_2018_new = pr_2018[['jan','feb', 'mar','apr','may','jun','jul','aug','sep','oct', 'nov', 'dec']]\n",
    "ren_pr_2018 = pr_2018_new.rename(columns={\"jan\":\"m37\", \"feb\":\"m38\", \"mar\":\"m39\", \"apr\":\"m40\", \"may\":\"m41\", \"jun\":\"m42\", \"jul\":\"m43\",\"aug\":\"m44\",\"sep\":\"m45\",\"oct\":\"m46\",\"nov\":\"m47\", \"dec\":\"m48\"})\n",
    "pr = ren_pr_2015.join([ren_pr_2016, ren_pr_2017, ren_pr_2018], how='outer')\n"
   ]
  },
  {
   "cell_type": "code",
   "execution_count": 99,
   "metadata": {},
   "outputs": [],
   "source": [
    "trans_pr = pr.T \n",
    "pr_final = trans_pr.reset_index()\n",
    "pr_data = pr_final.rename(columns={\"index\": \"month\", 0: \"value\"})\n",
    "pr_data['mo'] = pr_data.index\n",
    "pr_fin=pr_data[[\"mo\", \"value\"]]\n",
    "pr_fin.index = pr_fin.mo\n",
    "pr_fin.drop('mo', axis=1, inplace=True)\n",
    "pr_fin.to_csv('dset/pr.csv')"
   ]
  },
  {
   "cell_type": "code",
   "execution_count": 100,
   "metadata": {},
   "outputs": [],
   "source": [
    "value = pr_fin[\"value\"].values\n",
    "seq_len = 10\n",
    "sequence_length = seq_len + 1\n",
    "\n",
    "result = []\n",
    "for index in range(len(value) - sequence_length):\n",
    "    result.append(value[index: index + sequence_length])"
   ]
  },
  {
   "cell_type": "code",
   "execution_count": 101,
   "metadata": {},
   "outputs": [
    {
     "data": {
      "text/plain": [
       "((33, 10, 1), (4, 10, 1))"
      ]
     },
     "execution_count": 101,
     "metadata": {},
     "output_type": "execute_result"
    }
   ],
   "source": [
    "normalized_data = []\n",
    "for window in result:\n",
    "    normalized_window = [((float(p) / float(window[0])) - 1) for p in window]\n",
    "    normalized_data.append(normalized_window)\n",
    "\n",
    "result = np.array(normalized_data)\n",
    "\n",
    "# split train and test data\n",
    "row = int(round(result.shape[0] * 0.9))\n",
    "train = result[:row, :]\n",
    "np.random.shuffle(train)\n",
    "\n",
    "x_train = train[:, :-1]\n",
    "x_train = np.reshape(x_train, (x_train.shape[0], x_train.shape[1], 1))\n",
    "y_train = train[:, -1]\n",
    "\n",
    "x_test = result[row:, :-1]\n",
    "x_test = np.reshape(x_test, (x_test.shape[0], x_test.shape[1], 1))\n",
    "y_test = result[row:, -1]\n",
    "\n",
    "x_train.shape, x_test.shape"
   ]
  },
  {
   "cell_type": "code",
   "execution_count": 102,
   "metadata": {},
   "outputs": [
    {
     "name": "stdout",
     "output_type": "stream",
     "text": [
      "_________________________________________________________________\n",
      "Layer (type)                 Output Shape              Param #   \n",
      "=================================================================\n",
      "lstm_17 (LSTM)               (None, 10, 10)            480       \n",
      "_________________________________________________________________\n",
      "lstm_18 (LSTM)               (None, 24)                3360      \n",
      "_________________________________________________________________\n",
      "dense_9 (Dense)              (None, 1)                 25        \n",
      "=================================================================\n",
      "Total params: 3,865\n",
      "Trainable params: 3,865\n",
      "Non-trainable params: 0\n",
      "_________________________________________________________________\n"
     ]
    }
   ],
   "source": [
    "model = Sequential()\n",
    "\n",
    "model.add(LSTM(10, return_sequences=True, input_shape=(10, 1)))\n",
    "\n",
    "model.add(LSTM(24, return_sequences=False))\n",
    "\n",
    "model.add(Dense(1, activation='linear'))\n",
    "\n",
    "model.compile(loss='mse',metrics=['mean_squared_error'],optimizer='nadam')\n",
    "\n",
    "model.summary()"
   ]
  },
  {
   "cell_type": "code",
   "execution_count": 103,
   "metadata": {},
   "outputs": [
    {
     "name": "stdout",
     "output_type": "stream",
     "text": [
      "Train on 33 samples, validate on 4 samples\n",
      "Epoch 1/30\n",
      "33/33 [==============================] - 4s 123ms/step - loss: 0.1213 - mean_squared_error: 0.1213 - val_loss: 0.1670 - val_mean_squared_error: 0.1670\n",
      "Epoch 2/30\n",
      "33/33 [==============================] - 0s 3ms/step - loss: 0.1130 - mean_squared_error: 0.1130 - val_loss: 0.1625 - val_mean_squared_error: 0.1625\n",
      "Epoch 3/30\n",
      "33/33 [==============================] - 0s 3ms/step - loss: 0.1081 - mean_squared_error: 0.1081 - val_loss: 0.1527 - val_mean_squared_error: 0.1527\n",
      "Epoch 4/30\n",
      "33/33 [==============================] - 0s 3ms/step - loss: 0.1013 - mean_squared_error: 0.1013 - val_loss: 0.1464 - val_mean_squared_error: 0.1464\n",
      "Epoch 5/30\n",
      "33/33 [==============================] - 0s 3ms/step - loss: 0.0985 - mean_squared_error: 0.0985 - val_loss: 0.1400 - val_mean_squared_error: 0.1400\n",
      "Epoch 6/30\n",
      "33/33 [==============================] - 0s 3ms/step - loss: 0.0959 - mean_squared_error: 0.0959 - val_loss: 0.1409 - val_mean_squared_error: 0.1409\n",
      "Epoch 7/30\n",
      "33/33 [==============================] - 0s 3ms/step - loss: 0.0937 - mean_squared_error: 0.0937 - val_loss: 0.1304 - val_mean_squared_error: 0.1304\n",
      "Epoch 8/30\n",
      "33/33 [==============================] - 0s 4ms/step - loss: 0.0910 - mean_squared_error: 0.0910 - val_loss: 0.1229 - val_mean_squared_error: 0.1229\n",
      "Epoch 9/30\n",
      "33/33 [==============================] - 0s 3ms/step - loss: 0.0886 - mean_squared_error: 0.0886 - val_loss: 0.1202 - val_mean_squared_error: 0.1202\n",
      "Epoch 10/30\n",
      "33/33 [==============================] - 0s 3ms/step - loss: 0.0861 - mean_squared_error: 0.0861 - val_loss: 0.1205 - val_mean_squared_error: 0.1205\n",
      "Epoch 11/30\n",
      "33/33 [==============================] - 0s 3ms/step - loss: 0.0841 - mean_squared_error: 0.0841 - val_loss: 0.1144 - val_mean_squared_error: 0.1144\n",
      "Epoch 12/30\n",
      "33/33 [==============================] - 0s 3ms/step - loss: 0.0817 - mean_squared_error: 0.0817 - val_loss: 0.1119 - val_mean_squared_error: 0.1119\n",
      "Epoch 13/30\n",
      "33/33 [==============================] - 0s 3ms/step - loss: 0.0802 - mean_squared_error: 0.0802 - val_loss: 0.1059 - val_mean_squared_error: 0.1059\n",
      "Epoch 14/30\n",
      "33/33 [==============================] - 0s 3ms/step - loss: 0.0777 - mean_squared_error: 0.0777 - val_loss: 0.0997 - val_mean_squared_error: 0.0997\n",
      "Epoch 15/30\n",
      "33/33 [==============================] - 0s 3ms/step - loss: 0.0739 - mean_squared_error: 0.0739 - val_loss: 0.0935 - val_mean_squared_error: 0.0935\n",
      "Epoch 16/30\n",
      "33/33 [==============================] - 0s 3ms/step - loss: 0.0712 - mean_squared_error: 0.0712 - val_loss: 0.0898 - val_mean_squared_error: 0.0898\n",
      "Epoch 17/30\n",
      "33/33 [==============================] - 0s 3ms/step - loss: 0.0671 - mean_squared_error: 0.0671 - val_loss: 0.0853 - val_mean_squared_error: 0.0853\n",
      "Epoch 18/30\n",
      "33/33 [==============================] - 0s 3ms/step - loss: 0.0623 - mean_squared_error: 0.0623 - val_loss: 0.0759 - val_mean_squared_error: 0.0759\n",
      "Epoch 19/30\n",
      "33/33 [==============================] - 0s 3ms/step - loss: 0.0582 - mean_squared_error: 0.0582 - val_loss: 0.0702 - val_mean_squared_error: 0.0702\n",
      "Epoch 20/30\n",
      "33/33 [==============================] - 0s 3ms/step - loss: 0.0539 - mean_squared_error: 0.0539 - val_loss: 0.0523 - val_mean_squared_error: 0.0523\n",
      "Epoch 21/30\n",
      "33/33 [==============================] - 0s 3ms/step - loss: 0.0495 - mean_squared_error: 0.0495 - val_loss: 0.0347 - val_mean_squared_error: 0.0347\n",
      "Epoch 22/30\n",
      "33/33 [==============================] - 0s 3ms/step - loss: 0.0442 - mean_squared_error: 0.0442 - val_loss: 0.0140 - val_mean_squared_error: 0.0140\n",
      "Epoch 23/30\n",
      "33/33 [==============================] - 0s 3ms/step - loss: 0.0420 - mean_squared_error: 0.0420 - val_loss: 0.0106 - val_mean_squared_error: 0.0106\n",
      "Epoch 24/30\n",
      "33/33 [==============================] - 0s 3ms/step - loss: 0.0375 - mean_squared_error: 0.0375 - val_loss: 0.0112 - val_mean_squared_error: 0.0112\n",
      "Epoch 25/30\n",
      "33/33 [==============================] - 0s 3ms/step - loss: 0.0398 - mean_squared_error: 0.0398 - val_loss: 0.0158 - val_mean_squared_error: 0.0158\n",
      "Epoch 26/30\n",
      "33/33 [==============================] - 0s 3ms/step - loss: 0.0381 - mean_squared_error: 0.0381 - val_loss: 0.0094 - val_mean_squared_error: 0.0094\n",
      "Epoch 27/30\n",
      "33/33 [==============================] - 0s 3ms/step - loss: 0.0367 - mean_squared_error: 0.0367 - val_loss: 0.0108 - val_mean_squared_error: 0.0108\n",
      "Epoch 28/30\n",
      "33/33 [==============================] - 0s 3ms/step - loss: 0.0354 - mean_squared_error: 0.0354 - val_loss: 0.0172 - val_mean_squared_error: 0.0172\n",
      "Epoch 29/30\n",
      "33/33 [==============================] - 0s 3ms/step - loss: 0.0326 - mean_squared_error: 0.0326 - val_loss: 0.0054 - val_mean_squared_error: 0.0054\n",
      "Epoch 30/30\n",
      "33/33 [==============================] - 0s 3ms/step - loss: 0.0331 - mean_squared_error: 0.0331 - val_loss: 0.0091 - val_mean_squared_error: 0.0091\n"
     ]
    },
    {
     "data": {
      "text/plain": [
       "<keras.callbacks.History at 0x1a36d852e8>"
      ]
     },
     "execution_count": 103,
     "metadata": {},
     "output_type": "execute_result"
    }
   ],
   "source": [
    "model.fit(x_train, y_train,\n",
    "    validation_data=(x_test, y_test),\n",
    "    batch_size=10,\n",
    "    epochs=30)"
   ]
  },
  {
   "cell_type": "code",
   "execution_count": 104,
   "metadata": {},
   "outputs": [],
   "source": [
    "model.save(\"pr_model_trained.h5\")"
   ]
  },
  {
   "cell_type": "code",
   "execution_count": 105,
   "metadata": {},
   "outputs": [
    {
     "data": {
      "image/png": "[encoded data removed]",
      "text/plain": [
       "<Figure size 1440x720 with 1 Axes>"
      ]
     },
     "metadata": {},
     "output_type": "display_data"
    }
   ],
   "source": [
    "pred = model.predict(x_test)\n",
    "\n",
    "fig = plt.figure(facecolor='white', figsize=(20, 10))\n",
    "ax = fig.add_subplot(111)\n",
    "ax.plot(y_test, label='True')\n",
    "ax.plot(pred, label='Prediction')\n",
    "plt.title('Pear')\n",
    "ax.legend()\n",
    "plt.show()"
   ]
  },
  {
   "cell_type": "code",
   "execution_count": 106,
   "metadata": {},
   "outputs": [],
   "source": [
    "strawberries_2015 = export_all[(export_all['mktyr'] == 2015.0) & (export_all['product']=='Strawberries')]\n",
    "str_2015 = export_all[(export_all['mktyr'] == 2015.0) & (export_all['product']=='Potato')].reset_index()\n",
    "str_2015_new = str_2015[['jan','feb', 'mar','apr','may','jun','jul','aug','sep','oct', 'nov', 'dec']]\n",
    "ren_str_2015 = str_2015_new.rename(columns={\"jan\":\"m1\", \"feb\":\"m2\", \"mar\":\"m3\", \"apr\":\"m4\", \"may\":\"m5\", \"jun\":\"m6\", \"jul\":\"m7\",\"aug\":\"m8\",\"sep\":\"m9\",\"oct\":\"m10\",\"nov\":\"m11\", \"dec\":\"m12\"})\n",
    "str_2016 = export_all[(export_all['mktyr'] == 2016.0) & (export_all['product']=='Onion')].reset_index()\n",
    "str_2016_new = str_2016[['jan','feb', 'mar','apr','may','jun','jul','aug','sep','oct', 'nov', 'dec']]\n",
    "ren_str_2016 = str_2016_new.rename(columns={\"jan\":\"m13\", \"feb\":\"m14\", \"mar\":\"m15\", \"apr\":\"m16\", \"may\":\"m17\", \"jun\":\"m18\", \"jul\":\"m19\",\"aug\":\"m20\",\"sep\":\"m21\",\"oct\":\"m22\",\"nov\":\"m23\", \"dec\":\"m24\"})\n",
    "str_2017 = export_all[(export_all['mktyr'] == 2017.0) & (export_all['product']=='Onion')].reset_index()\n",
    "str_2017_new = str_2017[['jan','feb', 'mar','apr','may','jun','jul','aug','sep','oct', 'nov', 'dec']]\n",
    "ren_str_2017 = str_2017_new.rename(columns={\"jan\":\"m25\", \"feb\":\"m26\", \"mar\":\"m27\", \"apr\":\"m28\", \"may\":\"m29\", \"jun\":\"m30\", \"jul\":\"m31\",\"aug\":\"m32\",\"sep\":\"m33\",\"oct\":\"m34\",\"nov\":\"m35\", \"dec\":\"m36\"})\n",
    "str_2018 = export_all[(export_all['mktyr'] == 2018.0) & (export_all['product']=='Onion')].reset_index()\n",
    "str_2018_new = str_2018[['jan','feb', 'mar','apr','may','jun','jul','aug','sep','oct', 'nov', 'dec']]\n",
    "ren_str_2018 = str_2018_new.rename(columns={\"jan\":\"m37\", \"feb\":\"m38\", \"mar\":\"m39\", \"apr\":\"m40\", \"may\":\"m41\", \"jun\":\"m42\", \"jul\":\"m43\",\"aug\":\"m44\",\"sep\":\"m45\",\"oct\":\"m46\",\"nov\":\"m47\", \"dec\":\"m48\"})\n",
    "strw = ren_str_2015.join([ren_str_2016, ren_str_2017, ren_str_2018], how='outer')"
   ]
  },
  {
   "cell_type": "code",
   "execution_count": 107,
   "metadata": {},
   "outputs": [],
   "source": [
    "trans_str = strw.T \n",
    "str_final = trans_str.reset_index()\n",
    "str_data = str_final.rename(columns={\"index\": \"month\", 0: \"value\"})\n",
    "str_data['mo'] = str_data.index\n",
    "str_fin=str_data[[\"mo\", \"value\"]]\n",
    "str_fin.index = str_fin.mo\n",
    "str_fin.drop('mo', axis=1, inplace=True)\n",
    "str_fin.to_csv('dset/str.csv')"
   ]
  },
  {
   "cell_type": "code",
   "execution_count": 108,
   "metadata": {},
   "outputs": [],
   "source": [
    "value = str_fin[\"value\"].values\n",
    "seq_len = 10\n",
    "sequence_length = seq_len + 1\n",
    "\n",
    "result = []\n",
    "for index in range(len(value) - sequence_length):\n",
    "    result.append(value[index: index + sequence_length])"
   ]
  },
  {
   "cell_type": "code",
   "execution_count": 109,
   "metadata": {},
   "outputs": [
    {
     "data": {
      "text/plain": [
       "((33, 10, 1), (4, 10, 1))"
      ]
     },
     "execution_count": 109,
     "metadata": {},
     "output_type": "execute_result"
    }
   ],
   "source": [
    "normalized_data = []\n",
    "for window in result:\n",
    "    normalized_window = [((float(p) / float(window[0])) - 1) for p in window]\n",
    "    normalized_data.append(normalized_window)\n",
    "\n",
    "result = np.array(normalized_data)\n",
    "\n",
    "# split train and test data\n",
    "row = int(round(result.shape[0] * 0.9))\n",
    "train = result[:row, :]\n",
    "np.random.shuffle(train)\n",
    "\n",
    "x_train = train[:, :-1]\n",
    "x_train = np.reshape(x_train, (x_train.shape[0], x_train.shape[1], 1))\n",
    "y_train = train[:, -1]\n",
    "\n",
    "x_test = result[row:, :-1]\n",
    "x_test = np.reshape(x_test, (x_test.shape[0], x_test.shape[1], 1))\n",
    "y_test = result[row:, -1]\n",
    "\n",
    "x_train.shape, x_test.shape"
   ]
  },
  {
   "cell_type": "code",
   "execution_count": 110,
   "metadata": {},
   "outputs": [
    {
     "name": "stdout",
     "output_type": "stream",
     "text": [
      "_________________________________________________________________\n",
      "Layer (type)                 Output Shape              Param #   \n",
      "=================================================================\n",
      "lstm_19 (LSTM)               (None, 10, 10)            480       \n",
      "_________________________________________________________________\n",
      "lstm_20 (LSTM)               (None, 24)                3360      \n",
      "_________________________________________________________________\n",
      "dense_10 (Dense)             (None, 1)                 25        \n",
      "=================================================================\n",
      "Total params: 3,865\n",
      "Trainable params: 3,865\n",
      "Non-trainable params: 0\n",
      "_________________________________________________________________\n"
     ]
    }
   ],
   "source": [
    "model = Sequential()\n",
    "\n",
    "model.add(LSTM(10, return_sequences=True, input_shape=(10, 1)))\n",
    "\n",
    "model.add(LSTM(24, return_sequences=False))\n",
    "\n",
    "model.add(Dense(1, activation='linear'))\n",
    "\n",
    "model.compile(loss='mean_squared_error', metrics=['mean_squared_error'], optimizer='nadam')\n",
    "\n",
    "model.summary()"
   ]
  },
  {
   "cell_type": "code",
   "execution_count": 111,
   "metadata": {},
   "outputs": [
    {
     "name": "stdout",
     "output_type": "stream",
     "text": [
      "Train on 33 samples, validate on 4 samples\n",
      "Epoch 1/30\n",
      "33/33 [==============================] - 5s 146ms/step - loss: 0.1201 - mean_squared_error: 0.1201 - val_loss: 0.1631 - val_mean_squared_error: 0.1631\n",
      "Epoch 2/30\n",
      "33/33 [==============================] - 0s 3ms/step - loss: 0.1125 - mean_squared_error: 0.1125 - val_loss: 0.1553 - val_mean_squared_error: 0.1553\n",
      "Epoch 3/30\n",
      "33/33 [==============================] - 0s 3ms/step - loss: 0.1069 - mean_squared_error: 0.1069 - val_loss: 0.1418 - val_mean_squared_error: 0.1418\n",
      "Epoch 4/30\n",
      "33/33 [==============================] - 0s 3ms/step - loss: 0.1019 - mean_squared_error: 0.1019 - val_loss: 0.1328 - val_mean_squared_error: 0.1328\n",
      "Epoch 5/30\n",
      "33/33 [==============================] - 0s 3ms/step - loss: 0.0974 - mean_squared_error: 0.0974 - val_loss: 0.1208 - val_mean_squared_error: 0.1208\n",
      "Epoch 6/30\n",
      "33/33 [==============================] - 0s 3ms/step - loss: 0.0959 - mean_squared_error: 0.0959 - val_loss: 0.1249 - val_mean_squared_error: 0.1249\n",
      "Epoch 7/30\n",
      "33/33 [==============================] - 0s 3ms/step - loss: 0.0924 - mean_squared_error: 0.0924 - val_loss: 0.1298 - val_mean_squared_error: 0.1298\n",
      "Epoch 8/30\n",
      "33/33 [==============================] - 0s 3ms/step - loss: 0.0911 - mean_squared_error: 0.0911 - val_loss: 0.1293 - val_mean_squared_error: 0.1293\n",
      "Epoch 9/30\n",
      "33/33 [==============================] - 0s 3ms/step - loss: 0.0890 - mean_squared_error: 0.0890 - val_loss: 0.1207 - val_mean_squared_error: 0.1207\n",
      "Epoch 10/30\n",
      "33/33 [==============================] - 0s 3ms/step - loss: 0.0864 - mean_squared_error: 0.0864 - val_loss: 0.1132 - val_mean_squared_error: 0.1132\n",
      "Epoch 11/30\n",
      "33/33 [==============================] - 0s 3ms/step - loss: 0.0842 - mean_squared_error: 0.0842 - val_loss: 0.1110 - val_mean_squared_error: 0.1110\n",
      "Epoch 12/30\n",
      "33/33 [==============================] - 0s 3ms/step - loss: 0.0820 - mean_squared_error: 0.0820 - val_loss: 0.1104 - val_mean_squared_error: 0.1104\n",
      "Epoch 13/30\n",
      "33/33 [==============================] - 0s 3ms/step - loss: 0.0788 - mean_squared_error: 0.0788 - val_loss: 0.1086 - val_mean_squared_error: 0.1086\n",
      "Epoch 14/30\n",
      "33/33 [==============================] - 0s 3ms/step - loss: 0.0767 - mean_squared_error: 0.0767 - val_loss: 0.0963 - val_mean_squared_error: 0.0963\n",
      "Epoch 15/30\n",
      "33/33 [==============================] - 0s 3ms/step - loss: 0.0728 - mean_squared_error: 0.0728 - val_loss: 0.0918 - val_mean_squared_error: 0.0918\n",
      "Epoch 16/30\n",
      "33/33 [==============================] - 0s 3ms/step - loss: 0.0690 - mean_squared_error: 0.0690 - val_loss: 0.0898 - val_mean_squared_error: 0.0898\n",
      "Epoch 17/30\n",
      "33/33 [==============================] - 0s 3ms/step - loss: 0.0647 - mean_squared_error: 0.0647 - val_loss: 0.0678 - val_mean_squared_error: 0.0678\n",
      "Epoch 18/30\n",
      "33/33 [==============================] - 0s 3ms/step - loss: 0.0577 - mean_squared_error: 0.0577 - val_loss: 0.0516 - val_mean_squared_error: 0.0516\n",
      "Epoch 19/30\n",
      "33/33 [==============================] - 0s 3ms/step - loss: 0.0555 - mean_squared_error: 0.0555 - val_loss: 0.0377 - val_mean_squared_error: 0.0377\n",
      "Epoch 20/30\n",
      "33/33 [==============================] - 0s 3ms/step - loss: 0.0493 - mean_squared_error: 0.0493 - val_loss: 0.0266 - val_mean_squared_error: 0.0266\n",
      "Epoch 21/30\n",
      "33/33 [==============================] - 0s 3ms/step - loss: 0.0447 - mean_squared_error: 0.0447 - val_loss: 0.0231 - val_mean_squared_error: 0.0231\n",
      "Epoch 22/30\n",
      "33/33 [==============================] - 0s 3ms/step - loss: 0.0404 - mean_squared_error: 0.0404 - val_loss: 0.0179 - val_mean_squared_error: 0.0179\n",
      "Epoch 23/30\n",
      "33/33 [==============================] - 0s 3ms/step - loss: 0.0394 - mean_squared_error: 0.0394 - val_loss: 0.0075 - val_mean_squared_error: 0.0075\n",
      "Epoch 24/30\n",
      "33/33 [==============================] - 0s 3ms/step - loss: 0.0363 - mean_squared_error: 0.0363 - val_loss: 0.0097 - val_mean_squared_error: 0.0097\n",
      "Epoch 25/30\n",
      "33/33 [==============================] - 0s 3ms/step - loss: 0.0348 - mean_squared_error: 0.0348 - val_loss: 0.0175 - val_mean_squared_error: 0.0175\n",
      "Epoch 26/30\n",
      "33/33 [==============================] - 0s 3ms/step - loss: 0.0346 - mean_squared_error: 0.0346 - val_loss: 0.0238 - val_mean_squared_error: 0.0238\n",
      "Epoch 27/30\n",
      "33/33 [==============================] - 0s 3ms/step - loss: 0.0324 - mean_squared_error: 0.0324 - val_loss: 0.1056 - val_mean_squared_error: 0.1056\n",
      "Epoch 28/30\n",
      "33/33 [==============================] - 0s 3ms/step - loss: 0.0356 - mean_squared_error: 0.0356 - val_loss: 0.0215 - val_mean_squared_error: 0.0215\n",
      "Epoch 29/30\n",
      "33/33 [==============================] - 0s 3ms/step - loss: 0.0303 - mean_squared_error: 0.0303 - val_loss: 0.0595 - val_mean_squared_error: 0.0595\n",
      "Epoch 30/30\n",
      "33/33 [==============================] - 0s 3ms/step - loss: 0.0304 - mean_squared_error: 0.0304 - val_loss: 0.0200 - val_mean_squared_error: 0.0200\n"
     ]
    },
    {
     "data": {
      "text/plain": [
       "<keras.callbacks.History at 0x1a3bf48828>"
      ]
     },
     "execution_count": 111,
     "metadata": {},
     "output_type": "execute_result"
    }
   ],
   "source": [
    "model.fit(x_train, y_train,\n",
    "    validation_data=(x_test, y_test),\n",
    "    batch_size=10,\n",
    "    epochs=30)"
   ]
  },
  {
   "cell_type": "code",
   "execution_count": 112,
   "metadata": {},
   "outputs": [],
   "source": [
    "model.save(\"str_model_trained.h5\")"
   ]
  },
  {
   "cell_type": "code",
   "execution_count": 113,
   "metadata": {},
   "outputs": [],
   "source": [
    "# model.compile(optimizer='adam', loss='mse', metrics=['mse', 'accuracy'])\n",
    "# model.evaluate()"
   ]
  },
  {
   "cell_type": "code",
   "execution_count": 114,
   "metadata": {},
   "outputs": [
    {
     "data": {
      "image/png": "[encoded data removed]",
      "text/plain": [
       "<Figure size 1440x720 with 1 Axes>"
      ]
     },
     "metadata": {},
     "output_type": "display_data"
    }
   ],
   "source": [
    "pred = model.predict(x_test)\n",
    "\n",
    "fig = plt.figure(facecolor='white', figsize=(20, 10))\n",
    "ax = fig.add_subplot(111)\n",
    "ax.plot(y_test, label='True')\n",
    "ax.plot(pred, label='Prediction')\n",
    "plt.title('Strawberry')\n",
    "ax.legend()\n",
    "plt.show()"
   ]
  },
  {
   "cell_type": "code",
   "execution_count": null,
   "metadata": {},
   "outputs": [],
   "source": []
  }
 ],
 "metadata": {
  "kernel_info": {
   "name": "python3"
  },
  "kernelspec": {
   "display_name": "Python 3",
   "language": "python",
   "name": "python3"
  },
  "language_info": {
   "codemirror_mode": {
    "name": "ipython",
    "version": 3
   },
   "file_extension": ".py",
   "mimetype": "text/x-python",
   "name": "python",
   "nbconvert_exporter": "python",
   "pygments_lexer": "ipython3",
   "version": "3.7.3"
  },
  "nteract": {
   "version": "0.12.3"
  },
  "varInspector": {
   "cols": {
    "lenName": 16,
    "lenType": 16,
    "lenVar": 40
   },
   "kernels_config": {
    "python": {
     "delete_cmd_postfix": "",
     "delete_cmd_prefix": "del ",
     "library": "var_list.py",
     "varRefreshCmd": "print(var_dic_list())"
    },
    "r": {
     "delete_cmd_postfix": ") ",
     "delete_cmd_prefix": "rm(",
     "library": "var_list.r",
     "varRefreshCmd": "cat(var_dic_list()) "
    }
   },
   "types_to_exclude": [
    "module",
    "function",
    "builtin_function_or_method",
    "instance",
    "_Feature"
   ],
   "window_display": false
  }
 },
 "nbformat": 4,
 "nbformat_minor": 2
}
